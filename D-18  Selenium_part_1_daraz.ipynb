{
 "cells": [
  {
   "cell_type": "code",
   "execution_count": 35,
   "id": "c1e9f6de-5dce-454d-bea2-fdab5406061d",
   "metadata": {},
   "outputs": [],
   "source": [
    "from selenium import webdriver  #Imports the webdriver module from Selenium, which is used to control the browser.\n",
    "from selenium.webdriver.common.by import By  #Provides methods to locate elements on a webpage (e.g., by ID, name, class name, etc.).\n",
    "from selenium.webdriver.common.keys import Keys  #Contains keyboard keys (e.g., ENTER, ESCAPE, etc.) to simulate typing actions.\n",
    "import time  #Python's built-in time module is used for delays (e.g., time.sleep() to wait for a webpage to load)."
   ]
  },
  {
   "cell_type": "code",
   "execution_count": 47,
   "id": "577258ba-6343-4c1e-8bed-8e45605cb93f",
   "metadata": {},
   "outputs": [],
   "source": [
    "driver = webdriver.Chrome()  #Creates an instance of the Chrome browser. Selenium launches a new browser window controlled by the WebDriver.\n",
    "driver.get('https://www.daraz.com.np/#?')   #Opens the specified URL in the browser controlled by Selenium.\n",
    "time.sleep(5)"
   ]
  },
  {
   "cell_type": "markdown",
   "id": "35b373a7-c73c-4c11-892c-65f379f5cc98",
   "metadata": {},
   "source": [
    "# Web Scraping daraz using selenium"
   ]
  },
  {
   "cell_type": "code",
   "execution_count": 48,
   "id": "95ce0de1-1fbb-457d-9545-cf66c887c5a1",
   "metadata": {},
   "outputs": [
    {
     "ename": "NoSuchElementException",
     "evalue": "Message: no such element: Unable to locate element: {\"method\":\"xpath\",\"selector\":\"/html/body/div[1]/div/div/div/div[2]/div/div[2]/div/form/div/div[1]/input[1]\"}\n  (Session info: chrome=126.0.6478.127); For documentation on this error, please visit: https://www.selenium.dev/documentation/webdriver/troubleshooting/errors#no-such-element-exception\nStacktrace:\n\tGetHandleVerifier [0x00007FF67265EEB2+31554]\n\t(No symbol) [0x00007FF6725D7EE9]\n\t(No symbol) [0x00007FF67249872A]\n\t(No symbol) [0x00007FF6724E8434]\n\t(No symbol) [0x00007FF6724E853C]\n\t(No symbol) [0x00007FF67252F6A7]\n\t(No symbol) [0x00007FF67250D06F]\n\t(No symbol) [0x00007FF67252C977]\n\t(No symbol) [0x00007FF67250CDD3]\n\t(No symbol) [0x00007FF6724DA33B]\n\t(No symbol) [0x00007FF6724DAED1]\n\tGetHandleVerifier [0x00007FF672968B2D+3217341]\n\tGetHandleVerifier [0x00007FF6729B5AF3+3532675]\n\tGetHandleVerifier [0x00007FF6729AB0F0+3489152]\n\tGetHandleVerifier [0x00007FF67270E786+750614]\n\t(No symbol) [0x00007FF6725E376F]\n\t(No symbol) [0x00007FF6725DEB24]\n\t(No symbol) [0x00007FF6725DECB2]\n\t(No symbol) [0x00007FF6725CE17F]\n\tBaseThreadInitThunk [0x00007FFAA2D9E8D7+23]\n\tRtlUserThreadStart [0x00007FFAA459FBCC+44]\n",
     "output_type": "error",
     "traceback": [
      "\u001b[1;31m---------------------------------------------------------------------------\u001b[0m",
      "\u001b[1;31mNoSuchElementException\u001b[0m                    Traceback (most recent call last)",
      "Cell \u001b[1;32mIn[48], line 4\u001b[0m\n\u001b[0;32m      2\u001b[0m search\u001b[38;5;241m=\u001b[39m\u001b[38;5;124m'\u001b[39m\u001b[38;5;124mlaptop\u001b[39m\u001b[38;5;124m'\u001b[39m\n\u001b[0;32m      3\u001b[0m \u001b[38;5;66;03m# xpath to the 'search bar' in daraz page\u001b[39;00m\n\u001b[1;32m----> 4\u001b[0m input_name \u001b[38;5;241m=\u001b[39m \u001b[43mdriver\u001b[49m\u001b[38;5;241;43m.\u001b[39;49m\u001b[43mfind_element\u001b[49m\u001b[43m(\u001b[49m\u001b[43mBy\u001b[49m\u001b[38;5;241;43m.\u001b[39;49m\u001b[43mXPATH\u001b[49m\u001b[43m,\u001b[49m\u001b[38;5;124;43m'\u001b[39;49m\u001b[38;5;124;43m/html/body/div[1]/div/div/div/div[2]/div/div[2]/div/form/div/div[1]/input[1]\u001b[39;49m\u001b[38;5;124;43m'\u001b[39;49m\u001b[43m)\u001b[49m\n\u001b[0;32m      5\u001b[0m \u001b[38;5;66;03m# To automatically search about laptop\u001b[39;00m\n\u001b[0;32m      6\u001b[0m input_name\u001b[38;5;241m.\u001b[39msend_keys(search)\n",
      "File \u001b[1;32m~\\AppData\\Roaming\\Python\\Python311\\site-packages\\selenium\\webdriver\\remote\\webdriver.py:770\u001b[0m, in \u001b[0;36mWebDriver.find_element\u001b[1;34m(self, by, value)\u001b[0m\n\u001b[0;32m    767\u001b[0m         \u001b[38;5;28;01mraise\u001b[39;00m NoSuchElementException(\u001b[38;5;124mf\u001b[39m\u001b[38;5;124m\"\u001b[39m\u001b[38;5;124mCannot locate relative element with: \u001b[39m\u001b[38;5;132;01m{\u001b[39;00mby\u001b[38;5;241m.\u001b[39mroot\u001b[38;5;132;01m}\u001b[39;00m\u001b[38;5;124m\"\u001b[39m)\n\u001b[0;32m    768\u001b[0m     \u001b[38;5;28;01mreturn\u001b[39;00m elements[\u001b[38;5;241m0\u001b[39m]\n\u001b[1;32m--> 770\u001b[0m \u001b[38;5;28;01mreturn\u001b[39;00m \u001b[38;5;28;43mself\u001b[39;49m\u001b[38;5;241;43m.\u001b[39;49m\u001b[43mexecute\u001b[49m\u001b[43m(\u001b[49m\u001b[43mCommand\u001b[49m\u001b[38;5;241;43m.\u001b[39;49m\u001b[43mFIND_ELEMENT\u001b[49m\u001b[43m,\u001b[49m\u001b[43m \u001b[49m\u001b[43m{\u001b[49m\u001b[38;5;124;43m\"\u001b[39;49m\u001b[38;5;124;43musing\u001b[39;49m\u001b[38;5;124;43m\"\u001b[39;49m\u001b[43m:\u001b[49m\u001b[43m \u001b[49m\u001b[43mby\u001b[49m\u001b[43m,\u001b[49m\u001b[43m \u001b[49m\u001b[38;5;124;43m\"\u001b[39;49m\u001b[38;5;124;43mvalue\u001b[39;49m\u001b[38;5;124;43m\"\u001b[39;49m\u001b[43m:\u001b[49m\u001b[43m \u001b[49m\u001b[43mvalue\u001b[49m\u001b[43m}\u001b[49m\u001b[43m)\u001b[49m[\u001b[38;5;124m\"\u001b[39m\u001b[38;5;124mvalue\u001b[39m\u001b[38;5;124m\"\u001b[39m]\n",
      "File \u001b[1;32m~\\AppData\\Roaming\\Python\\Python311\\site-packages\\selenium\\webdriver\\remote\\webdriver.py:384\u001b[0m, in \u001b[0;36mWebDriver.execute\u001b[1;34m(self, driver_command, params)\u001b[0m\n\u001b[0;32m    382\u001b[0m response \u001b[38;5;241m=\u001b[39m \u001b[38;5;28mself\u001b[39m\u001b[38;5;241m.\u001b[39mcommand_executor\u001b[38;5;241m.\u001b[39mexecute(driver_command, params)\n\u001b[0;32m    383\u001b[0m \u001b[38;5;28;01mif\u001b[39;00m response:\n\u001b[1;32m--> 384\u001b[0m     \u001b[38;5;28;43mself\u001b[39;49m\u001b[38;5;241;43m.\u001b[39;49m\u001b[43merror_handler\u001b[49m\u001b[38;5;241;43m.\u001b[39;49m\u001b[43mcheck_response\u001b[49m\u001b[43m(\u001b[49m\u001b[43mresponse\u001b[49m\u001b[43m)\u001b[49m\n\u001b[0;32m    385\u001b[0m     response[\u001b[38;5;124m\"\u001b[39m\u001b[38;5;124mvalue\u001b[39m\u001b[38;5;124m\"\u001b[39m] \u001b[38;5;241m=\u001b[39m \u001b[38;5;28mself\u001b[39m\u001b[38;5;241m.\u001b[39m_unwrap_value(response\u001b[38;5;241m.\u001b[39mget(\u001b[38;5;124m\"\u001b[39m\u001b[38;5;124mvalue\u001b[39m\u001b[38;5;124m\"\u001b[39m, \u001b[38;5;28;01mNone\u001b[39;00m))\n\u001b[0;32m    386\u001b[0m     \u001b[38;5;28;01mreturn\u001b[39;00m response\n",
      "File \u001b[1;32m~\\AppData\\Roaming\\Python\\Python311\\site-packages\\selenium\\webdriver\\remote\\errorhandler.py:232\u001b[0m, in \u001b[0;36mErrorHandler.check_response\u001b[1;34m(self, response)\u001b[0m\n\u001b[0;32m    230\u001b[0m         alert_text \u001b[38;5;241m=\u001b[39m value[\u001b[38;5;124m\"\u001b[39m\u001b[38;5;124malert\u001b[39m\u001b[38;5;124m\"\u001b[39m]\u001b[38;5;241m.\u001b[39mget(\u001b[38;5;124m\"\u001b[39m\u001b[38;5;124mtext\u001b[39m\u001b[38;5;124m\"\u001b[39m)\n\u001b[0;32m    231\u001b[0m     \u001b[38;5;28;01mraise\u001b[39;00m exception_class(message, screen, stacktrace, alert_text)  \u001b[38;5;66;03m# type: ignore[call-arg]  # mypy is not smart enough here\u001b[39;00m\n\u001b[1;32m--> 232\u001b[0m \u001b[38;5;28;01mraise\u001b[39;00m exception_class(message, screen, stacktrace)\n",
      "\u001b[1;31mNoSuchElementException\u001b[0m: Message: no such element: Unable to locate element: {\"method\":\"xpath\",\"selector\":\"/html/body/div[1]/div/div/div/div[2]/div/div[2]/div/form/div/div[1]/input[1]\"}\n  (Session info: chrome=126.0.6478.127); For documentation on this error, please visit: https://www.selenium.dev/documentation/webdriver/troubleshooting/errors#no-such-element-exception\nStacktrace:\n\tGetHandleVerifier [0x00007FF67265EEB2+31554]\n\t(No symbol) [0x00007FF6725D7EE9]\n\t(No symbol) [0x00007FF67249872A]\n\t(No symbol) [0x00007FF6724E8434]\n\t(No symbol) [0x00007FF6724E853C]\n\t(No symbol) [0x00007FF67252F6A7]\n\t(No symbol) [0x00007FF67250D06F]\n\t(No symbol) [0x00007FF67252C977]\n\t(No symbol) [0x00007FF67250CDD3]\n\t(No symbol) [0x00007FF6724DA33B]\n\t(No symbol) [0x00007FF6724DAED1]\n\tGetHandleVerifier [0x00007FF672968B2D+3217341]\n\tGetHandleVerifier [0x00007FF6729B5AF3+3532675]\n\tGetHandleVerifier [0x00007FF6729AB0F0+3489152]\n\tGetHandleVerifier [0x00007FF67270E786+750614]\n\t(No symbol) [0x00007FF6725E376F]\n\t(No symbol) [0x00007FF6725DEB24]\n\t(No symbol) [0x00007FF6725DECB2]\n\t(No symbol) [0x00007FF6725CE17F]\n\tBaseThreadInitThunk [0x00007FFAA2D9E8D7+23]\n\tRtlUserThreadStart [0x00007FFAA459FBCC+44]\n"
     ]
    }
   ],
   "source": [
    "# To search about 'laptop'\n",
    "search='laptop'\n",
    "# xpath to the 'search bar' in daraz page\n",
    "input_name = driver.find_element(By.XPATH,'/html/body/div[1]/div/div/div/div[2]/div/div[2]/div/form/div/div[1]/input[1]')\n",
    "# To automatically search about laptop\n",
    "input_name.send_keys(search)\n",
    "# Press Enter to search\n",
    "input_name.send_keys(Keys.RETURN)"
   ]
  },
  {
   "cell_type": "markdown",
   "id": "5d87bfea-d938-409d-b35a-65809f77d85c",
   "metadata": {},
   "source": [
    "## To get the product_name "
   ]
  },
  {
   "cell_type": "code",
   "execution_count": 38,
   "id": "c796898c-ee5a-49d0-914f-c2122f8fb00b",
   "metadata": {},
   "outputs": [],
   "source": [
    "product_name=[]\n",
    "# To get the name of the products . Since the name are inside a 'anchor' tag(which has no class name) with div tag as the anchor of parent tag\n",
    "# Find all div elements with the specific class\n",
    "allname_divs = driver.find_elements(By.CLASS_NAME, 'RfADt')  \n",
    "    # Loop through all the found div elements to get the name of all products\n",
    "for div in allname_divs:\n",
    "        # Find the anchor tag inside each div\n",
    "    anchor_tag = div.find_element(By.TAG_NAME, 'a')       #  \n",
    "        \n",
    "        # Extract the text inside the anchor tag\n",
    "    if anchor_tag:\n",
    "         product_name.append(anchor_tag.text)\n",
    "    else:\n",
    "        product_name.append(' ')\n",
    "\n",
    "\n",
    "            "
   ]
  },
  {
   "cell_type": "code",
   "execution_count": 45,
   "id": "8021802c-e3a8-49a0-9188-5ab26f8b1869",
   "metadata": {},
   "outputs": [],
   "source": [
    "for i in range(10):\n",
    "    np=driver.find_element(By.XPATH,'/html/body/div[4]/div/div[2]/div[1]/div/div[1]/div[3]/div/ul/li[9]/button')\n",
    "    np.click()"
   ]
  },
  {
   "cell_type": "code",
   "execution_count": 39,
   "id": "1d35029e-f696-4d89-bf5b-851ca15c8e3d",
   "metadata": {},
   "outputs": [
    {
     "data": {
      "text/plain": [
       "40"
      ]
     },
     "execution_count": 39,
     "metadata": {},
     "output_type": "execute_result"
    }
   ],
   "source": [
    "len(product_name)"
   ]
  },
  {
   "cell_type": "code",
   "execution_count": 40,
   "id": "f3473aa1-e585-49f6-b605-a98524e07b45",
   "metadata": {},
   "outputs": [
    {
     "data": {
      "text/plain": [
       "['Dell Latitude 5300 Business Laptop, 13.3\" FHD(1920x1080), Intel Core i5-8365U 1.6GHz up to 4.1GHz, 8GB DDR4 RAM, 256GB SSD, Backlit Keyboard',\n",
       " 'Lenovo V15 celeron 4GB RAM 256GB SSD,15.6 inch HD Display',\n",
       " 'Dell Vostro 3520 I3-12th gen 8GB RAM/512GB SSD/15.6 Display',\n",
       " 'Dell Vostro 3520 i3 12th Gen | 16GB RAM | 512GB SSD | 15.6\" 120Hz FHD Display Laptop',\n",
       " 'HP Laptop 14 (13th Gen Intel Core i3-1315U ,14-inch FHD, 8GB DDR4, 512GB SSD,Intel UHD Graphics)',\n",
       " 'Lenovo Ideapad 1 15lGL7 11thGen Intel Celeron N4020 8GB DDR4 RAM 256GB SSD 15.6\"\\' HD Display',\n",
       " 'Dell Vostro 3520 i5 12th Gen | 16GB RAM | 512GB SSD | 15.6\" 120Hz FHD | Black',\n",
       " 'Dell Latitude E5400 I5-8th Gen | 8 GB RAM | 256 GB SSD | 14\" Screen',\n",
       " 'Asus E410M-EK Celeron N401214WS 4GB AM/64GB+256GB SSD/14FHD',\n",
       " 'Lenovo IdeaPad Slim 3i 2023 15 i3 13Th Gen / 8GB RAM / 256GB / 15.6\" FHD display',\n",
       " 'Ap-ple Mac-Book Air M-1 Chip – 8GB RAM – 256GB SSD - 13.3″ Liquid Retina Display – Backlit Keyboard - FaceTime HD Camera - Touch ID - Space Gray',\n",
       " 'Dell Latitude E5300 i5-8th Gen 8GB 256 SSD 13.3″ Ultrabook',\n",
       " 'Acer Swift Go 14 AI Powered Intel EVO Ultra 7 155H – 16GB DDR5 RAM – 512GB NVMe Gen 4 SSD – Intel ARC Graphics – 14″ 2.8K OLED Display – Backlit Keyboard – Fingerprint – Silver',\n",
       " 'Dell Latitude E5300 2 in 1 360 Fold I5-8th Gen | 8 GB RAM | 256 GB SSD | 13.3\" Screen',\n",
       " 'Lenovo V15 celeron Laptop 4GB,256GB SSD,15.6 inch Display',\n",
       " 'Lenovo LOQ 15 AMD Ryzen 7 7435HS RTX 4060 8GB Graphics – 16GB DDR5 RAM – 512GB NVMe SSD – 15.6″ FHD 144Hz Display – Backlit Keyboard – Windows 11 Home',\n",
       " 'Lenovo IdeaPad Slim 3 Intel Core i5 13th Gen 13420H – 16GB DDR5 RAM – 512GB NVMe SSD – Intel Integrated Graphics – 15.6″ FHD Display – Arctic Grey',\n",
       " 'Dell Vostro 3520 i5 12th Gen | 8GB RAM | 256GB SSD | 15.6\" 120Hz FHD | Black',\n",
       " 'Dell Vostro 3520 Core i5 12th Gen/ 16GB RAM/512 GB SSD/15.6\" FHD/Win 11',\n",
       " 'xLab x-Book Series XL-156P Laptop + Accessories + Security & Software',\n",
       " 'Dell Vostro 3520 i3 12th Gen | 8GB RAM | 512GB SSD | 15.6\" FHD 120Hz Display Laptop',\n",
       " 'Acer Predator Helios Neo 16 / i7 13th Gen / RTX 4060 / 16GB RAM / 1TB SSD / 16\" 165Hz Display',\n",
       " 'Acer Aspire lite i3-12th Gen 8GB RAM-512GB SS-15.6FHD',\n",
       " 'Lenovo V15 celeron Laptop 4GB,256GB SSD,15.6 inch Display',\n",
       " 'Acer Predator Helios 300 / i7 11th Gen / RTX 3060 / 16GB RAM / 1TB SSD /15.6\" QHD 165Hz Display',\n",
       " 'Dell Latitude E7490 Laptop I7-8th Gen 256 GB SSD 8 GB RAM Ultrabook',\n",
       " 'Lenovo Ideapad 1 | Celeron N4020 | 8GB RAM | 256GB SSD | 14″',\n",
       " 'Acer Aspire 5 Intel Core i5 13th Gen 8GB Ram 512GB SSD 15.6\"FHD',\n",
       " 'Asus ZenBook 14 Q407IQ Laptop / Ryzen 5 4500U / MX350 / 8GB RAM / 256GB SSD / 14\" FHD display',\n",
       " 'Acer Aspire 3 2023 Ryzen 5 7520U | 8GB RAM | 512GB SSD | 15.6\" FHD Display | 1 Year Warranty',\n",
       " 'Acer Swift 3 Laptop /Ryzen 7 5700U/8GB/512 GB/14\" FHD/Backlit Keyboard/Win 10',\n",
       " 'Dell G5 15 5511 / i5-11400H / 8GB / 256 SSD / NVIDIA RTX 3050-4GB GDDR6 / 15.6\" FHD',\n",
       " 'Dell Vostro 3520 i5 12th Gen | 8GB RAM | 512GB SSD | 15.6\" 120Hz FHD | Black',\n",
       " 'Dell Vostro 3520 i3 12th Gen 8GB 512ssd 15.6\" FHD 120Hz Screen',\n",
       " 'Dell Vostro 3520 Core i5 12th Gen/ 12GB RAM/512 GB SSD/15.6\" FHD/Win 11',\n",
       " 'Acer Swift Go 14 Ryzen 5 - 7530U / 16 GB DDR4 RAM/ 512 GB SSD/14\" FHD IPS/AMD Radeon GFX/ Backlit Keyboard/ Win 11',\n",
       " 'Asus Vivobook 15 X1504VA Core i5- 1335U 13th Gen / 8 GB RAM/ 512 GB SSD/15.6\" FHD / Backlit Keyboard/ FP Reader/ Win 11/ 2 Years Warranty',\n",
       " 'HP Envy x360 14 i7 13th Gen \\\\ 16GB RAM \\\\ 1TB SSD \\\\ 14\" FHD 360 Touch Screen Display',\n",
       " 'Asus 2023 Zenbook 14 Um3402Ya - 7Th, Ryzen 5 7530, 8Gb Ram, 512Gb Nvme Ssd, 14\" 2K Display , Backlit Keyboard, Magic Numpad, Fingerprint, Genuine Win 11, 2 Years, Jade Black - Nagmani International',\n",
       " 'HP Pavilion X360 14\" Core i5 1035G1 8GB RAM 256GB SSD Convertible Laptop']"
      ]
     },
     "execution_count": 40,
     "metadata": {},
     "output_type": "execute_result"
    }
   ],
   "source": [
    "product_name"
   ]
  },
  {
   "cell_type": "code",
   "execution_count": 12,
   "id": "9e5f0d1b-fb58-4bdc-929d-119c13f6d5f4",
   "metadata": {},
   "outputs": [
    {
     "name": "stdout",
     "output_type": "stream",
     "text": [
      "Scraping page: 1\n",
      "Error on page 1: name 'WebDriverWait' is not defined\n",
      "Scraped 0 product names.\n"
     ]
    }
   ],
   "source": [
    "# **************************88chatgpt\n",
    "\n",
    "\n",
    "\n",
    "product_name = []\n",
    "\n",
    "# Loop through 10 pages\n",
    "for i in range(10):\n",
    "    print(f'Scraping page: {i+1}')\n",
    "    \n",
    "    try:\n",
    "        # Find all div elements with the specific class on the current page\n",
    "        allname_divs = WebDriverWait(driver, 10).until(\n",
    "            EC.presence_of_all_elements_located((By.CLASS_NAME, 'RfADt'))\n",
    "        )\n",
    "        \n",
    "        # Loop through all the found div elements to get the product names\n",
    "        for div in allname_divs:\n",
    "            try:\n",
    "                # Find the anchor tag inside each div\n",
    "                anchor_tag = div.find_element(By.TAG_NAME, 'a')\n",
    "                # Extract the text inside the anchor tag\n",
    "                product_name.append(anchor_tag.text if anchor_tag else ' ')\n",
    "            except Exception as e:\n",
    "                print(f\"Error processing div: {e}\")\n",
    "                product_name.append(' ')\n",
    "        \n",
    "        # Click the \"Next\" button to navigate to the next page\n",
    "        nextpage_button = WebDriverWait(driver, 10).until(\n",
    "            EC.element_to_be_clickable((By.CLASS_NAME, \"ant-pagination-item-link\"))\n",
    "        )\n",
    "        nextpage_button.send_keys(Keys.RETURN)\n",
    "        \n",
    "        # Wait for the next page to load\n",
    "        WebDriverWait(driver, 10).until(\n",
    "            EC.presence_of_element_located((By.CLASS_NAME, 'RfADt'))\n",
    "        )\n",
    "    except Exception as e:\n",
    "        print(f\"Error on page {i+1}: {e}\")\n",
    "        break  # Exit the loop if there's an issue navigating pages\n",
    "\n",
    "print(f\"Scraped {len(product_name)} product names.\")"
   ]
  },
  {
   "cell_type": "markdown",
   "id": "bdf0ec86-2b5b-4684-b041-e0bfa0c92639",
   "metadata": {
    "scrolled": true
   },
   "source": [
    "## To get the price of products:"
   ]
  },
  {
   "cell_type": "code",
   "execution_count": 11,
   "id": "a1729f18-0f28-4812-b5eb-735214cf63b6",
   "metadata": {},
   "outputs": [],
   "source": [
    "prices =[]\n",
    "price_divs=driver.find_elements(By.CLASS_NAME,'aBrP0')\n",
    "for div in price_divs:\n",
    "    span_tag=div.find_element(By.TAG_NAME,'span')\n",
    "    if span_tag:\n",
    "        prices.append(span_tag.text)\n",
    "    else:\n",
    "        prices.append(span_tag.text)\n",
    "    "
   ]
  },
  {
   "cell_type": "code",
   "execution_count": 8,
   "id": "9b1f9c86-85f0-499e-aff4-4649023e57cb",
   "metadata": {},
   "outputs": [
    {
     "data": {
      "text/plain": [
       "['Rs. 35,500',\n",
       " 'Rs. 55,999',\n",
       " 'Rs. 33,998',\n",
       " 'Rs. 52,347',\n",
       " 'Rs. 57,500',\n",
       " 'Rs. 36,497',\n",
       " 'Rs. 71,999',\n",
       " 'Rs. 45,499',\n",
       " 'Rs. 33,998',\n",
       " 'Rs. 51,996',\n",
       " 'Rs. 110,000',\n",
       " 'Rs. 54,999',\n",
       " 'Rs. 44,999',\n",
       " 'Rs. 134,999',\n",
       " 'Rs. 76,997',\n",
       " 'Rs. 55,000',\n",
       " 'Rs. 33,999',\n",
       " 'Rs. 149,999',\n",
       " 'Rs. 74,999',\n",
       " 'Rs. 33,997',\n",
       " 'Rs. 66,999',\n",
       " 'Rs. 69,490',\n",
       " 'Rs. 49,999',\n",
       " 'Rs. 49,999',\n",
       " 'Rs. 196,490',\n",
       " 'Rs. 54,897',\n",
       " 'Rs. 149,490',\n",
       " 'Rs. 55,000',\n",
       " 'Rs. 35,999',\n",
       " 'Rs. 90,990',\n",
       " 'Rs. 85,000',\n",
       " 'Rs. 105,000',\n",
       " 'Rs. 62,996',\n",
       " 'Rs. 143,900',\n",
       " 'Rs. 65,999',\n",
       " 'Rs. 67,990',\n",
       " 'Rs. 89,990',\n",
       " 'Rs. 155,000',\n",
       " 'Rs. 118,900',\n",
       " 'Rs. 89,999']"
      ]
     },
     "execution_count": 8,
     "metadata": {},
     "output_type": "execute_result"
    }
   ],
   "source": [
    "prices"
   ]
  },
  {
   "cell_type": "markdown",
   "id": "a8bb48f0-1bc7-4084-bdf7-f98536f48c77",
   "metadata": {},
   "source": [
    "# To get unit sold of products"
   ]
  },
  {
   "cell_type": "code",
   "execution_count": 9,
   "id": "b48de9d7-4d6c-44d0-9bcf-728b7f323777",
   "metadata": {},
   "outputs": [
    {
     "name": "stdout",
     "output_type": "stream",
     "text": [
      "22\n"
     ]
    }
   ],
   "source": [
    "unit_solds=[]\n",
    "unitsold_spantag=driver.find_elements(By.CLASS_NAME,'_1cEkb')\n",
    "print(len(unitsold_spantag))\n",
    "\n",
    "for span in unitsold_spantag:\n",
    "    if span:\n",
    "        unit_solds.append(span.text)\n",
    "    else:\n",
    "        unit_sold.append(' ')\n",
    "        \n"
   ]
  },
  {
   "cell_type": "code",
   "execution_count": 11,
   "id": "0b538296-fce0-4198-a874-b692b9b7e8b1",
   "metadata": {},
   "outputs": [
    {
     "data": {
      "text/plain": [
       "['20 sold',\n",
       " '72 sold',\n",
       " '114 sold',\n",
       " '97 sold',\n",
       " '7 sold',\n",
       " '12 sold',\n",
       " '69 sold',\n",
       " '21 sold',\n",
       " '5 sold',\n",
       " '6 sold',\n",
       " '12 sold',\n",
       " '23 sold',\n",
       " '17 sold',\n",
       " '18 sold',\n",
       " '8 sold',\n",
       " '17 sold',\n",
       " '24 sold',\n",
       " '5 sold',\n",
       " '12 sold',\n",
       " '16 sold',\n",
       " '8 sold',\n",
       " '11 sold']"
      ]
     },
     "execution_count": 11,
     "metadata": {},
     "output_type": "execute_result"
    }
   ],
   "source": [
    "unit_solds"
   ]
  },
  {
   "cell_type": "code",
   "execution_count": 12,
   "id": "f9c1386d-a4bc-4efe-a981-fa3d43e124ee",
   "metadata": {},
   "outputs": [
    {
     "data": {
      "text/plain": [
       "(40, 40, 22)"
      ]
     },
     "execution_count": 12,
     "metadata": {},
     "output_type": "execute_result"
    }
   ],
   "source": [
    "len(product_name) , len(prices) ,len(unit_solds)"
   ]
  },
  {
   "cell_type": "markdown",
   "id": "fd8b6c8c-b52d-4c52-8ed2-6eee89da1f5f",
   "metadata": {},
   "source": [
    "# Finally to create a dataframe"
   ]
  },
  {
   "cell_type": "code",
   "execution_count": 15,
   "id": "aea18041-17bb-47bb-88ed-7258775eb8a8",
   "metadata": {},
   "outputs": [],
   "source": [
    "import pandas as pd\n",
    "df = pd.DataFrame({\n",
    "    'product_name':product_name,\n",
    "    'prices':prices,\n",
    "})"
   ]
  },
  {
   "cell_type": "code",
   "execution_count": 16,
   "id": "e4a6099c-b39c-49ea-802e-b9ab45e93b81",
   "metadata": {},
   "outputs": [
    {
     "data": {
      "text/plain": [
       "'Dell Latitude 5300 Business Laptop, 13.3\" FHD(1920x1080), Intel Core i5-8365U 1.6GHz up to 4.1GHz, 8GB DDR4 RAM, 256GB SSD, Backlit Keyboard'"
      ]
     },
     "execution_count": 16,
     "metadata": {},
     "output_type": "execute_result"
    }
   ],
   "source": [
    "df['product_name'][0]"
   ]
  },
  {
   "cell_type": "code",
   "execution_count": null,
   "id": "a2296821-7735-4a38-aee9-00ccc2c957d7",
   "metadata": {},
   "outputs": [],
   "source": []
  },
  {
   "cell_type": "code",
   "execution_count": null,
   "id": "29411c0f-89f0-42d2-85b7-05294eb821f6",
   "metadata": {},
   "outputs": [],
   "source": []
  }
 ],
 "metadata": {
  "kernelspec": {
   "display_name": "Python 3 (ipykernel)",
   "language": "python",
   "name": "python3"
  },
  "language_info": {
   "codemirror_mode": {
    "name": "ipython",
    "version": 3
   },
   "file_extension": ".py",
   "mimetype": "text/x-python",
   "name": "python",
   "nbconvert_exporter": "python",
   "pygments_lexer": "ipython3",
   "version": "3.11.7"
  }
 },
 "nbformat": 4,
 "nbformat_minor": 5
}

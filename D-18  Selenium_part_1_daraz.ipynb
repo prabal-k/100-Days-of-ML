{
 "cells": [
  {
   "cell_type": "code",
   "execution_count": 1,
   "id": "c1e9f6de-5dce-454d-bea2-fdab5406061d",
   "metadata": {},
   "outputs": [],
   "source": [
    "from selenium import webdriver  #Imports the webdriver module from Selenium, which is used to control the browser.\n",
    "from selenium.webdriver.common.by import By  #Provides methods to locate elements on a webpage (e.g., by ID, name, class name, etc.).\n",
    "from selenium.webdriver.common.keys import Keys  #Contains keyboard keys (e.g., ENTER, ESCAPE, etc.) to simulate typing actions.\n",
    "import time  #Python's built-in time module is used for delays (e.g., time.sleep() to wait for a webpage to load)."
   ]
  },
  {
   "cell_type": "code",
   "execution_count": 2,
   "id": "577258ba-6343-4c1e-8bed-8e45605cb93f",
   "metadata": {},
   "outputs": [],
   "source": [
    "driver = webdriver.Chrome()  #Creates an instance of the Chrome browser. Selenium launches a new browser window controlled by the WebDriver.\n",
    "driver.get('https://www.daraz.com.np/#?')   #Opens the specified URL in the browser controlled by Selenium."
   ]
  },
  {
   "cell_type": "markdown",
   "id": "35b373a7-c73c-4c11-892c-65f379f5cc98",
   "metadata": {},
   "source": [
    "# Web Scraping daraz using selenium"
   ]
  },
  {
   "cell_type": "code",
   "execution_count": 3,
   "id": "95ce0de1-1fbb-457d-9545-cf66c887c5a1",
   "metadata": {},
   "outputs": [],
   "source": [
    "# To search about 'laptop'\n",
    "search='laptop'\n",
    "# xpath to the 'search bar' in daraz page\n",
    "input_name = driver.find_element(By.XPATH,'/html/body/div[1]/div/div/div/div[2]/div/div[2]/div/form/div/div[1]/input[1]')\n",
    "# To automatically search about laptop\n",
    "input_name.send_keys(search)\n",
    "# Press Enter to search\n",
    "input_name.send_keys(Keys.RETURN)"
   ]
  },
  {
   "cell_type": "markdown",
   "id": "5d87bfea-d938-409d-b35a-65809f77d85c",
   "metadata": {},
   "source": [
    "## To get the product_name "
   ]
  },
  {
   "cell_type": "code",
   "execution_count": 4,
   "id": "c796898c-ee5a-49d0-914f-c2122f8fb00b",
   "metadata": {},
   "outputs": [],
   "source": [
    "product_name=[]\n",
    "# To get the name of the products . Since the name are inside a 'anchor' tag(which has no class name) with div tag as the anchor of parent tag\n",
    "# Find all div elements with the specific class\n",
    "allname_divs = driver.find_elements(By.CLASS_NAME, 'RfADt')  \n",
    "# Loop through all the found div elements to get the name of all products\n",
    "for div in allname_divs:\n",
    "    # Find the anchor tag inside each div\n",
    "    anchor_tag = div.find_element(By.TAG_NAME, 'a')\n",
    "    \n",
    "    # Extract the text inside the anchor tag\n",
    "    if anchor_tag:\n",
    "        product_name.append(anchor_tag.text)\n",
    "    else:\n",
    "        product_name.append(' ')\n",
    "        "
   ]
  },
  {
   "cell_type": "code",
   "execution_count": 5,
   "id": "1d35029e-f696-4d89-bf5b-851ca15c8e3d",
   "metadata": {},
   "outputs": [
    {
     "data": {
      "text/plain": [
       "['Dell Latitude 5300 Business Laptop, 13.3\" FHD(1920x1080), Intel Core i5-8365U 1.6GHz up to 4.1GHz, 8GB DDR4 RAM, 256GB SSD, Backlit Keyboard',\n",
       " 'Dell Vostro 3520 i3 12th Gen | 16GB RAM | 512GB SSD | 15.6\" 120Hz FHD Display Laptop',\n",
       " 'Lenovo V15 celeron 4GB RAM 256GB SSD,15.6 inch HD Display',\n",
       " 'Dell Vostro 3520 I3-12th gen 8GB RAM/512GB SSD/15.6 Display',\n",
       " 'HP Laptop 14 (13th Gen Intel Core i3-1315U ,14-inch FHD, 8GB DDR4, 512GB SSD,Intel UHD Graphics)',\n",
       " 'Lenovo Ideapad 1 15lGL7 11thGen Intel Celeron N4020 8GB DDR4 RAM 256GB SSD 15.6\"\\' HD Display',\n",
       " 'Dell Vostro 3520 i5 12th Gen | 16GB RAM | 512GB SSD | 15.6\" 120Hz FHD | Black',\n",
       " 'Dell Latitude E5400 I5-8th Gen | 8 GB RAM | 256 GB SSD | 14\" Screen',\n",
       " 'Asus E410M-EK Celeron N401214WS 4GB AM/64GB+256GB SSD/14FHD',\n",
       " 'Lenovo IdeaPad Slim 3i 2023 15 i3 13Th Gen / 8GB RAM / 256GB / 15.6\" FHD display',\n",
       " 'Ap-ple Mac-Book Air M-1 Chip – 8GB RAM – 256GB SSD - 13.3″ Liquid Retina Display – Backlit Keyboard - FaceTime HD Camera - Touch ID - Space Gray',\n",
       " 'Dell Latitude E5300 2 in 1 360 Fold I5-8th Gen | 8 GB RAM | 256 GB SSD | 13.3\" Screen',\n",
       " 'Dell Latitude E5300 i5-8th Gen 8GB 256 SSD 13.3″ Ultrabook',\n",
       " 'Acer Swift Go 14 AI Powered Intel EVO Ultra 7 155H – 16GB DDR5 RAM – 512GB NVMe Gen 4 SSD – Intel ARC Graphics – 14″ 2.8K OLED Display – Backlit Keyboard – Fingerprint – Silver',\n",
       " 'Acer Aspire 5 Intel Core i5 13th Gen 8GB Ram 512GB SSD 15.6\"FHD',\n",
       " 'Dell Vostro 3520 i3 12th Gen 8GB 512ssd 15.6\" FHD 120Hz Screen',\n",
       " 'Lenovo V15 celeron Laptop 4GB,256GB SSD,15.6 inch Display',\n",
       " 'Lenovo LOQ 15 AMD Ryzen 7 7435HS RTX 4060 8GB Graphics – 16GB DDR5 RAM – 512GB NVMe SSD – 15.6″ FHD 144Hz Display – Backlit Keyboard – Windows 11 Home',\n",
       " 'Lenovo IdeaPad Slim 3 Intel Core i5 13th Gen 13420H – 16GB DDR5 RAM – 512GB NVMe SSD – Intel Integrated Graphics – 15.6″ FHD Display – Arctic Grey',\n",
       " 'Lenovo V15 celeron Laptop 4GB,256GB SSD,15.6 inch Display',\n",
       " 'Dell Vostro 3520 i5 12th Gen | 8GB RAM | 256GB SSD | 15.6\" 120Hz FHD | Black',\n",
       " 'Dell Vostro 3520 Core i5 12th Gen/ 16GB RAM/512 GB SSD/15.6\" FHD/Win 11',\n",
       " 'xLab x-Book Series XL-156P Laptop + Accessories + Security & Software',\n",
       " 'Dell Vostro 3520 i3 12th Gen | 8GB RAM | 512GB SSD | 15.6\" FHD 120Hz Display Laptop',\n",
       " 'Acer Predator Helios Neo 16 / i7 13th Gen / RTX 4060 / 16GB RAM / 1TB SSD / 16\" 165Hz Display',\n",
       " 'Acer Aspire lite i3-12th Gen 8GB RAM-512GB SS-15.6FHD',\n",
       " 'Acer Predator Helios 300 / i7 11th Gen / RTX 3060 / 16GB RAM / 1TB SSD /15.6\" QHD 165Hz Display',\n",
       " 'Dell Latitude E7490 Laptop I7-8th Gen 256 GB SSD 8 GB RAM Ultrabook',\n",
       " 'Lenovo Ideapad 1 | Celeron N4020 | 8GB RAM | 256GB SSD | 14″',\n",
       " 'Asus Vivobook 15 X1504VA Core i5- 1335U 13th Gen / 8 GB RAM/ 512 GB SSD/15.6\" FHD / Backlit Keyboard/ FP Reader/ Win 11/ 2 Years Warranty',\n",
       " 'Asus ZenBook 14 Q407IQ Laptop / Ryzen 5 4500U / MX350 / 8GB RAM / 256GB SSD / 14\" FHD display',\n",
       " 'Acer Swift 3 Laptop /Ryzen 7 5700U/8GB/512 GB/14\" FHD/Backlit Keyboard/Win 10',\n",
       " 'Acer Aspire 3 2023 Ryzen 5 7520U | 8GB RAM | 512GB SSD | 15.6\" FHD Display | 1 Year Warranty',\n",
       " 'Dell G5 15 5511 / i5-11400H / 8GB / 256 SSD / NVIDIA RTX 3050-4GB GDDR6 / 15.6\" FHD',\n",
       " 'Dell Vostro 3520 i5 12th Gen | 8GB RAM | 512GB SSD | 15.6\" 120Hz FHD | Black',\n",
       " 'Dell Vostro 3520 Core i5 12th Gen/ 12GB RAM/512 GB SSD/15.6\" FHD/Win 11',\n",
       " 'Acer Swift Go 14 Ryzen 5 - 7530U / 16 GB DDR4 RAM/ 512 GB SSD/14\" FHD IPS/AMD Radeon GFX/ Backlit Keyboard/ Win 11',\n",
       " 'HP Envy x360 14 i7 13th Gen \\\\ 16GB RAM \\\\ 1TB SSD \\\\ 14\" FHD 360 Touch Screen Display',\n",
       " 'Asus 2023 Zenbook 14 Um3402Ya - 7Th, Ryzen 5 7530, 8Gb Ram, 512Gb Nvme Ssd, 14\" 2K Display , Backlit Keyboard, Magic Numpad, Fingerprint, Genuine Win 11, 2 Years, Jade Black - Nagmani International',\n",
       " 'HP Pavilion X360 14\" Core i5 1035G1 8GB RAM 256GB SSD Convertible Laptop']"
      ]
     },
     "execution_count": 5,
     "metadata": {},
     "output_type": "execute_result"
    }
   ],
   "source": [
    "product_name"
   ]
  },
  {
   "cell_type": "markdown",
   "id": "bdf0ec86-2b5b-4684-b041-e0bfa0c92639",
   "metadata": {
    "scrolled": true
   },
   "source": [
    "## To get the price of products:"
   ]
  },
  {
   "cell_type": "code",
   "execution_count": 7,
   "id": "a1729f18-0f28-4812-b5eb-735214cf63b6",
   "metadata": {},
   "outputs": [],
   "source": [
    "prices =[]\n",
    "price_divs=driver.find_elements(By.CLASS_NAME,'aBrP0')\n",
    "for div in price_divs:\n",
    "    span_tag=div.find_element(By.TAG_NAME,'span')\n",
    "    if span_tag:\n",
    "        prices.append(span_tag.text)\n",
    "    else:\n",
    "        prices.append(span_tag.text)\n",
    "    "
   ]
  },
  {
   "cell_type": "code",
   "execution_count": 8,
   "id": "9b1f9c86-85f0-499e-aff4-4649023e57cb",
   "metadata": {},
   "outputs": [
    {
     "data": {
      "text/plain": [
       "['Rs. 35,500',\n",
       " 'Rs. 55,999',\n",
       " 'Rs. 33,998',\n",
       " 'Rs. 52,347',\n",
       " 'Rs. 57,500',\n",
       " 'Rs. 36,497',\n",
       " 'Rs. 71,999',\n",
       " 'Rs. 45,499',\n",
       " 'Rs. 33,998',\n",
       " 'Rs. 51,996',\n",
       " 'Rs. 110,000',\n",
       " 'Rs. 54,999',\n",
       " 'Rs. 44,999',\n",
       " 'Rs. 134,999',\n",
       " 'Rs. 76,997',\n",
       " 'Rs. 55,000',\n",
       " 'Rs. 33,999',\n",
       " 'Rs. 149,999',\n",
       " 'Rs. 74,999',\n",
       " 'Rs. 33,997',\n",
       " 'Rs. 66,999',\n",
       " 'Rs. 69,490',\n",
       " 'Rs. 49,999',\n",
       " 'Rs. 49,999',\n",
       " 'Rs. 196,490',\n",
       " 'Rs. 54,897',\n",
       " 'Rs. 149,490',\n",
       " 'Rs. 55,000',\n",
       " 'Rs. 35,999',\n",
       " 'Rs. 90,990',\n",
       " 'Rs. 85,000',\n",
       " 'Rs. 105,000',\n",
       " 'Rs. 62,996',\n",
       " 'Rs. 143,900',\n",
       " 'Rs. 65,999',\n",
       " 'Rs. 67,990',\n",
       " 'Rs. 89,990',\n",
       " 'Rs. 155,000',\n",
       " 'Rs. 118,900',\n",
       " 'Rs. 89,999']"
      ]
     },
     "execution_count": 8,
     "metadata": {},
     "output_type": "execute_result"
    }
   ],
   "source": [
    "prices"
   ]
  },
  {
   "cell_type": "markdown",
   "id": "a8bb48f0-1bc7-4084-bdf7-f98536f48c77",
   "metadata": {},
   "source": [
    "# To get unit sold of products"
   ]
  },
  {
   "cell_type": "code",
   "execution_count": 9,
   "id": "b48de9d7-4d6c-44d0-9bcf-728b7f323777",
   "metadata": {},
   "outputs": [
    {
     "name": "stdout",
     "output_type": "stream",
     "text": [
      "22\n"
     ]
    }
   ],
   "source": [
    "unit_solds=[]\n",
    "unitsold_spantag=driver.find_elements(By.CLASS_NAME,'_1cEkb')\n",
    "print(len(unitsold_spantag))\n",
    "\n",
    "for span in unitsold_spantag:\n",
    "    if span:\n",
    "        unit_solds.append(span.text)\n",
    "    else:\n",
    "        unit_sold.append(' ')\n",
    "        \n"
   ]
  },
  {
   "cell_type": "code",
   "execution_count": 11,
   "id": "0b538296-fce0-4198-a874-b692b9b7e8b1",
   "metadata": {},
   "outputs": [
    {
     "data": {
      "text/plain": [
       "['20 sold',\n",
       " '72 sold',\n",
       " '114 sold',\n",
       " '97 sold',\n",
       " '7 sold',\n",
       " '12 sold',\n",
       " '69 sold',\n",
       " '21 sold',\n",
       " '5 sold',\n",
       " '6 sold',\n",
       " '12 sold',\n",
       " '23 sold',\n",
       " '17 sold',\n",
       " '18 sold',\n",
       " '8 sold',\n",
       " '17 sold',\n",
       " '24 sold',\n",
       " '5 sold',\n",
       " '12 sold',\n",
       " '16 sold',\n",
       " '8 sold',\n",
       " '11 sold']"
      ]
     },
     "execution_count": 11,
     "metadata": {},
     "output_type": "execute_result"
    }
   ],
   "source": [
    "unit_solds"
   ]
  },
  {
   "cell_type": "code",
   "execution_count": 12,
   "id": "f9c1386d-a4bc-4efe-a981-fa3d43e124ee",
   "metadata": {},
   "outputs": [
    {
     "data": {
      "text/plain": [
       "(40, 40, 22)"
      ]
     },
     "execution_count": 12,
     "metadata": {},
     "output_type": "execute_result"
    }
   ],
   "source": [
    "len(product_name) , len(prices) ,len(unit_solds)"
   ]
  },
  {
   "cell_type": "markdown",
   "id": "fd8b6c8c-b52d-4c52-8ed2-6eee89da1f5f",
   "metadata": {},
   "source": [
    "# Finally to create a dataframe"
   ]
  },
  {
   "cell_type": "code",
   "execution_count": 15,
   "id": "aea18041-17bb-47bb-88ed-7258775eb8a8",
   "metadata": {},
   "outputs": [],
   "source": [
    "import pandas as pd\n",
    "df = pd.DataFrame({\n",
    "    'product_name':product_name,\n",
    "    'prices':prices,\n",
    "})"
   ]
  },
  {
   "cell_type": "code",
   "execution_count": 16,
   "id": "e4a6099c-b39c-49ea-802e-b9ab45e93b81",
   "metadata": {},
   "outputs": [
    {
     "data": {
      "text/plain": [
       "'Dell Latitude 5300 Business Laptop, 13.3\" FHD(1920x1080), Intel Core i5-8365U 1.6GHz up to 4.1GHz, 8GB DDR4 RAM, 256GB SSD, Backlit Keyboard'"
      ]
     },
     "execution_count": 16,
     "metadata": {},
     "output_type": "execute_result"
    }
   ],
   "source": [
    "df['product_name'][0]"
   ]
  },
  {
   "cell_type": "code",
   "execution_count": null,
   "id": "a2296821-7735-4a38-aee9-00ccc2c957d7",
   "metadata": {},
   "outputs": [],
   "source": []
  },
  {
   "cell_type": "code",
   "execution_count": null,
   "id": "29411c0f-89f0-42d2-85b7-05294eb821f6",
   "metadata": {},
   "outputs": [],
   "source": []
  }
 ],
 "metadata": {
  "kernelspec": {
   "display_name": "Python 3 (ipykernel)",
   "language": "python",
   "name": "python3"
  },
  "language_info": {
   "codemirror_mode": {
    "name": "ipython",
    "version": 3
   },
   "file_extension": ".py",
   "mimetype": "text/x-python",
   "name": "python",
   "nbconvert_exporter": "python",
   "pygments_lexer": "ipython3",
   "version": "3.11.7"
  }
 },
 "nbformat": 4,
 "nbformat_minor": 5
}

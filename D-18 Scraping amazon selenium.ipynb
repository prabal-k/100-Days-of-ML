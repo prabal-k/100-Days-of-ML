{
 "cells": [
  {
   "cell_type": "code",
   "execution_count": 1,
   "id": "4f5cd9e6-b335-4469-9f5b-6eb939e1144b",
   "metadata": {},
   "outputs": [],
   "source": [
    "from selenium import webdriver  #Imports the webdriver module from Selenium, which is used to control the browser.\n",
    "from selenium.webdriver.common.by import By  #Provides methods to locate elements on a webpage (e.g., by ID, name, class name, etc.).\n",
    "from selenium.webdriver.common.keys import Keys  #Contains keyboard keys (e.g., ENTER, ESCAPE, etc.) to simulate typing actions.\n",
    "import time  #Python's built-in time module is used for delays (e.g., time.sleep() to wait for a webpage to load).\n",
    "from selenium.webdriver.support.ui import WebDriverWait\n",
    "from selenium.webdriver.support import expected_conditions as EC\n",
    "from selenium.common.exceptions import NoSuchElementException"
   ]
  },
  {
   "cell_type": "code",
   "execution_count": 2,
   "id": "c1c09408-74f5-467d-9430-9957962b6466",
   "metadata": {},
   "outputs": [],
   "source": [
    "driver = webdriver.Chrome()\n",
    "driver.get('https://www.amazon.com/')\n",
    "time.sleep(5)"
   ]
  },
  {
   "cell_type": "code",
   "execution_count": 3,
   "id": "8d6e19bf-9c4c-41b5-908b-929d0708458e",
   "metadata": {},
   "outputs": [],
   "source": [
    "search_bar = driver.find_element(By.ID,'twotabsearchtextbox')   #Id of the search bar\n",
    "item = 'smart watches'\n",
    "search_bar.send_keys(item)                          ## to search about on the text field\n",
    "search_bar.send_keys(Keys.RETURN)\n",
    "# search_box = driver.find_element(By.CLASS_NAME,\"nav-input nav-progressive-attribute\")\n",
    "# search_box = driver.find_element(By.CLASS_NAME,\"nav-input nav-progressive-attribute\")"
   ]
  },
  {
   "cell_type": "markdown",
   "id": "0a4c45c0-1d86-44ad-8e9c-eba44839703c",
   "metadata": {},
   "source": [
    "# To get the Product Name, Prices,Rating,number of rating and link of the product"
   ]
  },
  {
   "cell_type": "code",
   "execution_count": 4,
   "id": "dc5d591e-11e2-44ab-8c3d-1e3b7466437a",
   "metadata": {},
   "outputs": [
    {
     "name": "stdout",
     "output_type": "stream",
     "text": [
      "Scrapping page 1\n",
      "Scrapping page 2\n",
      "Scrapping page 3\n",
      "Scrapping page 4\n",
      "Scrapping page 5\n",
      "Scrapping page 6\n",
      "Scrapping page 7\n",
      "Scrapping page 8\n",
      "Scrapping page 9\n",
      "Scrapping page 10\n"
     ]
    }
   ],
   "source": [
    "product_name = []\n",
    "links = []\n",
    "prices = []\n",
    "ratings = []\n",
    "no_of_ratings = []\n",
    "\n",
    "\n",
    "for page in range(10):\n",
    "    print(f'Scrapping page {page+1}')\n",
    "    ## Area of the webpage required to extract name,prices,ratings,links etc\n",
    "    req_area = WebDriverWait(driver, 10).until(\n",
    "            EC.presence_of_all_elements_located((By.XPATH, '//div[@class=\"sg-col-20-of-24 s-result-item s-asin sg-col-0-of-12 sg-col-16-of-20 sg-col s-widget-spacing-small sg-col-12-of-16\"]')\n",
    "                                          ))\n",
    "    for area in req_area:\n",
    "        ############## To get the name of products\n",
    "        try:\n",
    "            name = area.find_element(By.XPATH,'.//h2[@class=\"a-size-medium a-spacing-none a-color-base a-text-normal\"]')\n",
    "            if name.text:\n",
    "                product_name.append(name.text)\n",
    "            else:\n",
    "                product_name.append('n/a')\n",
    "        except:\n",
    "            product_name.append('n/a')\n",
    "            \n",
    "    \n",
    "        ############ To get prices of products\n",
    "        try:\n",
    "            price = area.find_element(By.XPATH,'.//span[@class=\"a-color-base\"]')\n",
    "            if price.text:\n",
    "                prices.append(price.text)\n",
    "            else:\n",
    "                prices.append('n/a')\n",
    "        except:\n",
    "            prices.append('n/a')\n",
    "    \n",
    "        ####### To get ratings of products\n",
    "        try:\n",
    "            rating = area.find_element(By.XPATH,'.//a[@class=\"a-popover-trigger a-declarative\"]')\n",
    "            if rating.get_attribute('aria-label'):\n",
    "                ratings.append(rating.get_attribute('aria-label'))\n",
    "            else:\n",
    "                ratings.append('n/a')\n",
    "        except:\n",
    "            ratings.append('n/a')\n",
    "            \n",
    "    \n",
    "        ############## To get number of ratings for products\n",
    "    \n",
    "        try:\n",
    "            no_of_rating = area.find_element(By.XPATH,'.//span[@class=\"a-size-base s-underline-text\"]')\n",
    "            if no_of_rating.text:\n",
    "                    no_of_ratings.append(no_of_rating.text)\n",
    "            else:\n",
    "                    no_of_ratings.append('n/a')\n",
    "        except:\n",
    "            no_of_ratings.append('n/a')\n",
    "       \n",
    "        \n",
    "            \n",
    "\n",
    "        ## To get the LINK of products\n",
    "        try:\n",
    "            link = area.find_element(By.XPATH,'.//a[@class=\"a-link-normal s-line-clamp-2 s-link-style a-text-normal\"]')\n",
    "            if link.get_attribute('href'):\n",
    "                links.append(link.get_attribute('href'))\n",
    "            else:\n",
    "                links.append('n/a')\n",
    "        except:\n",
    "            links.append('n/a')\n",
    "                         \n",
    "\n",
    "\n",
    "    ###################Locate next page button an go to next page\n",
    "    try:\n",
    "        next_page_button =   WebDriverWait(driver, 10).until(\n",
    "        EC.element_to_be_clickable((By.XPATH, '//a[@class=\"s-pagination-item s-pagination-next s-pagination-button s-pagination-button-accessibility s-pagination-separator\"]'))\n",
    "        )\n",
    "        next_page_button.click()\n",
    "    except:\n",
    "        print(f'Error in scrapping page {page+1}')\n",
    "        pass"
   ]
  },
  {
   "cell_type": "code",
   "execution_count": 6,
   "id": "b0173569-f5e1-4445-baea-2cdc739d945e",
   "metadata": {},
   "outputs": [
    {
     "data": {
      "text/plain": [
       "(92, 92, 92, 92, 92)"
      ]
     },
     "execution_count": 6,
     "metadata": {},
     "output_type": "execute_result"
    }
   ],
   "source": [
    "len(product_name),len(prices),len(links),len(no_of_ratings),len(ratings)"
   ]
  },
  {
   "cell_type": "code",
   "execution_count": 7,
   "id": "4d6a388c-fcbd-44ba-a421-d4112f166440",
   "metadata": {},
   "outputs": [],
   "source": [
    "import pandas as pd\n",
    "df = pd.DataFrame({\n",
    "    'product_name':product_name,\n",
    "    'price':prices,\n",
    "    'ratings':ratings,\n",
    "    'no_of_ratings':no_of_ratings,\n",
    "    'link':links\n",
    "})"
   ]
  },
  {
   "cell_type": "code",
   "execution_count": 8,
   "id": "b46517ff-e7b9-4bdd-a763-db4e062979f4",
   "metadata": {},
   "outputs": [
    {
     "data": {
      "text/html": [
       "<div>\n",
       "<style scoped>\n",
       "    .dataframe tbody tr th:only-of-type {\n",
       "        vertical-align: middle;\n",
       "    }\n",
       "\n",
       "    .dataframe tbody tr th {\n",
       "        vertical-align: top;\n",
       "    }\n",
       "\n",
       "    .dataframe thead th {\n",
       "        text-align: right;\n",
       "    }\n",
       "</style>\n",
       "<table border=\"1\" class=\"dataframe\">\n",
       "  <thead>\n",
       "    <tr style=\"text-align: right;\">\n",
       "      <th></th>\n",
       "      <th>product_name</th>\n",
       "      <th>price</th>\n",
       "      <th>ratings</th>\n",
       "      <th>no_of_ratings</th>\n",
       "      <th>link</th>\n",
       "    </tr>\n",
       "  </thead>\n",
       "  <tbody>\n",
       "    <tr>\n",
       "      <th>0</th>\n",
       "      <td>Amazfit Bip 5 Smart Watch 46mm, GPS, Alexa Bui...</td>\n",
       "      <td>$69.99</td>\n",
       "      <td>4.1 out of 5 stars, rating details</td>\n",
       "      <td>1,772</td>\n",
       "      <td>https://www.amazon.com/Amazfit-Bluetooth-Calli...</td>\n",
       "    </tr>\n",
       "    <tr>\n",
       "      <th>1</th>\n",
       "      <td>Smart Watches for Men Women Android &amp; iPhone, ...</td>\n",
       "      <td>$49.99</td>\n",
       "      <td>4.2 out of 5 stars, rating details</td>\n",
       "      <td>315</td>\n",
       "      <td>https://www.amazon.com/Display-Compatible-Andr...</td>\n",
       "    </tr>\n",
       "    <tr>\n",
       "      <th>2</th>\n",
       "      <td>Amazfit GTR Mini Smart Watch 43mm, 14-Day Batt...</td>\n",
       "      <td>$69.99</td>\n",
       "      <td>4.2 out of 5 stars, rating details</td>\n",
       "      <td>887</td>\n",
       "      <td>https://www.amazon.com/Amazfit-Satellite-Posit...</td>\n",
       "    </tr>\n",
       "    <tr>\n",
       "      <th>3</th>\n",
       "      <td>Samsung Electronics Galaxy Watch 4 Classic 46m...</td>\n",
       "      <td>$59.00</td>\n",
       "      <td>4.3 out of 5 stars, rating details</td>\n",
       "      <td>5,105</td>\n",
       "      <td>https://www.amazon.com/Samsung-Electronics-Sma...</td>\n",
       "    </tr>\n",
       "    <tr>\n",
       "      <th>4</th>\n",
       "      <td>Google Pixel Watch 1st Gen (Previous Model) - ...</td>\n",
       "      <td>$86.71</td>\n",
       "      <td>4.1 out of 5 stars, rating details</td>\n",
       "      <td>3,299</td>\n",
       "      <td>https://www.amazon.com/Google-Pixel-Watch-Smar...</td>\n",
       "    </tr>\n",
       "    <tr>\n",
       "      <th>5</th>\n",
       "      <td>Garmin vívoactive 5, Health and Fitness GPS Sm...</td>\n",
       "      <td>$245.00</td>\n",
       "      <td>4.4 out of 5 stars, rating details</td>\n",
       "      <td>3,937</td>\n",
       "      <td>https://www.amazon.com/Garmin-v%C3%ADvoactive-...</td>\n",
       "    </tr>\n",
       "    <tr>\n",
       "      <th>6</th>\n",
       "      <td>Garmin fēnix® 8 – 51 mm, AMOLED, Sapphire, Pre...</td>\n",
       "      <td>$999.99</td>\n",
       "      <td>5.0 out of 5 stars, rating details</td>\n",
       "      <td>9</td>\n",
       "      <td>https://www.amazon.com/Garmin-f%C4%93nix%C2%AE...</td>\n",
       "    </tr>\n",
       "    <tr>\n",
       "      <th>7</th>\n",
       "      <td>SAMSUNG Galaxy Watch 4 40mm Smartwatch with EC...</td>\n",
       "      <td>$73.97</td>\n",
       "      <td>4.6 out of 5 stars, rating details</td>\n",
       "      <td>29,290</td>\n",
       "      <td>https://www.amazon.com/Samsung-Electronics-Sma...</td>\n",
       "    </tr>\n",
       "    <tr>\n",
       "      <th>8</th>\n",
       "      <td>Garmin Venu 3 Slate Stainless Steel Bezel 1.4-...</td>\n",
       "      <td>$357.97</td>\n",
       "      <td>4.4 out of 5 stars, rating details</td>\n",
       "      <td>2,793</td>\n",
       "      <td>https://www.amazon.com/Garmin-Stainless-1-4-In...</td>\n",
       "    </tr>\n",
       "    <tr>\n",
       "      <th>9</th>\n",
       "      <td>ALKAI Smart Watch Rugged and Military with 5AT...</td>\n",
       "      <td>$25.10</td>\n",
       "      <td>3.8 out of 5 stars, rating details</td>\n",
       "      <td>73</td>\n",
       "      <td>https://www.amazon.com/ALKAI-Waterproof-Blueto...</td>\n",
       "    </tr>\n",
       "    <tr>\n",
       "      <th>10</th>\n",
       "      <td>Garmin Instinct 2X Solar - Tactical Edition, R...</td>\n",
       "      <td>$336.93 delivery</td>\n",
       "      <td>4.6 out of 5 stars, rating details</td>\n",
       "      <td>304</td>\n",
       "      <td>https://www.amazon.com/Garmin-Instinct-Solar-S...</td>\n",
       "    </tr>\n",
       "    <tr>\n",
       "      <th>11</th>\n",
       "      <td>Smart Watch for Women Men for Android Phones i...</td>\n",
       "      <td>$39.97</td>\n",
       "      <td>5.0 out of 5 stars, rating details</td>\n",
       "      <td>4</td>\n",
       "      <td>https://www.amazon.com/HCHLQL-Android-Compatib...</td>\n",
       "    </tr>\n",
       "    <tr>\n",
       "      <th>12</th>\n",
       "      <td>Fitbit Inspire 3 Health &amp;-Fitness-Tracker with...</td>\n",
       "      <td>$96.99</td>\n",
       "      <td>4.3 out of 5 stars, rating details</td>\n",
       "      <td>16,256</td>\n",
       "      <td>https://www.amazon.com/Fitbit-Management-Inten...</td>\n",
       "    </tr>\n",
       "    <tr>\n",
       "      <th>13</th>\n",
       "      <td>Samsung Galaxy Watch 6 40mm LTE Smartwatch, Fi...</td>\n",
       "      <td>$161.61</td>\n",
       "      <td>4.5 out of 5 stars, rating details</td>\n",
       "      <td>7,077</td>\n",
       "      <td>https://www.amazon.com/SAMSUNG-Smartwatch-Pers...</td>\n",
       "    </tr>\n",
       "    <tr>\n",
       "      <th>14</th>\n",
       "      <td>Apple Watch SE (2nd Gen) [GPS 40mm] Smartwatch...</td>\n",
       "      <td>$179.80</td>\n",
       "      <td>4.5 out of 5 stars, rating details</td>\n",
       "      <td>2,410</td>\n",
       "      <td>https://www.amazon.com/Apple-Smartwatch-Starli...</td>\n",
       "    </tr>\n",
       "    <tr>\n",
       "      <th>15</th>\n",
       "      <td>Apple Watch Series 10 [GPS 46mm case] Smartwat...</td>\n",
       "      <td>$362.05</td>\n",
       "      <td>4.6 out of 5 stars, rating details</td>\n",
       "      <td>1,691</td>\n",
       "      <td>https://www.amazon.com/Apple-Watch-Smartwatch-...</td>\n",
       "    </tr>\n",
       "  </tbody>\n",
       "</table>\n",
       "</div>"
      ],
      "text/plain": [
       "                                         product_name             price  \\\n",
       "0   Amazfit Bip 5 Smart Watch 46mm, GPS, Alexa Bui...            $69.99   \n",
       "1   Smart Watches for Men Women Android & iPhone, ...            $49.99   \n",
       "2   Amazfit GTR Mini Smart Watch 43mm, 14-Day Batt...            $69.99   \n",
       "3   Samsung Electronics Galaxy Watch 4 Classic 46m...            $59.00   \n",
       "4   Google Pixel Watch 1st Gen (Previous Model) - ...            $86.71   \n",
       "5   Garmin vívoactive 5, Health and Fitness GPS Sm...           $245.00   \n",
       "6   Garmin fēnix® 8 – 51 mm, AMOLED, Sapphire, Pre...           $999.99   \n",
       "7   SAMSUNG Galaxy Watch 4 40mm Smartwatch with EC...            $73.97   \n",
       "8   Garmin Venu 3 Slate Stainless Steel Bezel 1.4-...           $357.97   \n",
       "9   ALKAI Smart Watch Rugged and Military with 5AT...            $25.10   \n",
       "10  Garmin Instinct 2X Solar - Tactical Edition, R...  $336.93 delivery   \n",
       "11  Smart Watch for Women Men for Android Phones i...            $39.97   \n",
       "12  Fitbit Inspire 3 Health &-Fitness-Tracker with...            $96.99   \n",
       "13  Samsung Galaxy Watch 6 40mm LTE Smartwatch, Fi...           $161.61   \n",
       "14  Apple Watch SE (2nd Gen) [GPS 40mm] Smartwatch...           $179.80   \n",
       "15  Apple Watch Series 10 [GPS 46mm case] Smartwat...           $362.05   \n",
       "\n",
       "                               ratings no_of_ratings  \\\n",
       "0   4.1 out of 5 stars, rating details         1,772   \n",
       "1   4.2 out of 5 stars, rating details           315   \n",
       "2   4.2 out of 5 stars, rating details           887   \n",
       "3   4.3 out of 5 stars, rating details         5,105   \n",
       "4   4.1 out of 5 stars, rating details         3,299   \n",
       "5   4.4 out of 5 stars, rating details         3,937   \n",
       "6   5.0 out of 5 stars, rating details             9   \n",
       "7   4.6 out of 5 stars, rating details        29,290   \n",
       "8   4.4 out of 5 stars, rating details         2,793   \n",
       "9   3.8 out of 5 stars, rating details            73   \n",
       "10  4.6 out of 5 stars, rating details           304   \n",
       "11  5.0 out of 5 stars, rating details             4   \n",
       "12  4.3 out of 5 stars, rating details        16,256   \n",
       "13  4.5 out of 5 stars, rating details         7,077   \n",
       "14  4.5 out of 5 stars, rating details         2,410   \n",
       "15  4.6 out of 5 stars, rating details         1,691   \n",
       "\n",
       "                                                 link  \n",
       "0   https://www.amazon.com/Amazfit-Bluetooth-Calli...  \n",
       "1   https://www.amazon.com/Display-Compatible-Andr...  \n",
       "2   https://www.amazon.com/Amazfit-Satellite-Posit...  \n",
       "3   https://www.amazon.com/Samsung-Electronics-Sma...  \n",
       "4   https://www.amazon.com/Google-Pixel-Watch-Smar...  \n",
       "5   https://www.amazon.com/Garmin-v%C3%ADvoactive-...  \n",
       "6   https://www.amazon.com/Garmin-f%C4%93nix%C2%AE...  \n",
       "7   https://www.amazon.com/Samsung-Electronics-Sma...  \n",
       "8   https://www.amazon.com/Garmin-Stainless-1-4-In...  \n",
       "9   https://www.amazon.com/ALKAI-Waterproof-Blueto...  \n",
       "10  https://www.amazon.com/Garmin-Instinct-Solar-S...  \n",
       "11  https://www.amazon.com/HCHLQL-Android-Compatib...  \n",
       "12  https://www.amazon.com/Fitbit-Management-Inten...  \n",
       "13  https://www.amazon.com/SAMSUNG-Smartwatch-Pers...  \n",
       "14  https://www.amazon.com/Apple-Smartwatch-Starli...  \n",
       "15  https://www.amazon.com/Apple-Watch-Smartwatch-...  "
      ]
     },
     "execution_count": 8,
     "metadata": {},
     "output_type": "execute_result"
    }
   ],
   "source": [
    "df.head(16)"
   ]
  },
  {
   "cell_type": "code",
   "execution_count": 9,
   "id": "9d12f432-2be9-40b3-9c4d-5982934efc65",
   "metadata": {},
   "outputs": [],
   "source": [
    "df.to_excel(f'./amazon_{item}.xlsx',index=False)"
   ]
  },
  {
   "cell_type": "code",
   "execution_count": null,
   "id": "e44ddf6a-6bdb-48c8-a2e0-a866979f09b4",
   "metadata": {},
   "outputs": [],
   "source": []
  },
  {
   "cell_type": "code",
   "execution_count": null,
   "id": "36ae4df7-0e96-47db-8bd2-58192a2fb219",
   "metadata": {},
   "outputs": [],
   "source": []
  },
  {
   "cell_type": "code",
   "execution_count": null,
   "id": "0c7a1d53-5d0c-4f85-81e9-dc61f7f5b40e",
   "metadata": {},
   "outputs": [],
   "source": []
  },
  {
   "cell_type": "code",
   "execution_count": null,
   "id": "272b46b1-a264-4d82-9508-642860c33a52",
   "metadata": {},
   "outputs": [],
   "source": []
  },
  {
   "cell_type": "code",
   "execution_count": null,
   "id": "7165c1d9-4914-4574-9f71-92956bf2e51d",
   "metadata": {},
   "outputs": [],
   "source": []
  },
  {
   "cell_type": "code",
   "execution_count": null,
   "id": "34b518c5-04fa-4145-b59a-37d8737aef77",
   "metadata": {},
   "outputs": [],
   "source": []
  },
  {
   "cell_type": "code",
   "execution_count": null,
   "id": "ac91fe5f-90b9-450e-b1a5-c57a225c2047",
   "metadata": {},
   "outputs": [],
   "source": []
  },
  {
   "cell_type": "code",
   "execution_count": null,
   "id": "9e817a61-ff73-4ee2-9de3-5534f5565f64",
   "metadata": {},
   "outputs": [],
   "source": []
  },
  {
   "cell_type": "code",
   "execution_count": null,
   "id": "1009e25c-2ea0-4ab9-b394-0fdd18f57158",
   "metadata": {},
   "outputs": [],
   "source": []
  },
  {
   "cell_type": "code",
   "execution_count": null,
   "id": "9f44b447-322d-408c-b34c-350251ccdb1c",
   "metadata": {},
   "outputs": [],
   "source": []
  },
  {
   "cell_type": "code",
   "execution_count": 4,
   "id": "c126bc9b-7f9d-4d20-aada-7dad38dca08e",
   "metadata": {},
   "outputs": [
    {
     "name": "stdout",
     "output_type": "stream",
     "text": [
      "Scrapping page : 1\n",
      "Scrapping page : 2\n",
      "Scrapping page : 3\n",
      "Scrapping page : 4\n",
      "Scrapping page : 5\n",
      "Scrapping page : 6\n",
      "Scrapping page : 7\n",
      "Scrapping page : 8\n",
      "Scrapping page : 9\n",
      "Scrapping page : 10\n"
     ]
    }
   ],
   "source": [
    "# name_list=[]\n",
    "# price_list =[]\n",
    "# for i in range(10):\n",
    "#     print(f'Scrapping page : {i+1}')\n",
    "#     all_elements = WebDriverWait(driver ,10).until(\n",
    "#          EC.presence_of_all_elements_located((By.XPATH,'//div[@data-component-type=\"s-search-result\"]'))\n",
    "#     )\n",
    "#     for element in all_elements:\n",
    "#         ##### To get the product name\n",
    "#         try:\n",
    "#             name_elements = element.find_element(By.XPATH,'.//h2[@class=\"a-size-medium a-spacing-none a-color-base a-text-normal\"]')\n",
    "\n",
    "#             if name_elements.text:\n",
    "#                 name_list.append(name_elements.text) \n",
    "#             else:\n",
    "#                 name_list.append('n/a')\n",
    "#         except:\n",
    "#             name_list.append('n/a')\n",
    "\n",
    "#         ##### To get the prices \n",
    "#         try:\n",
    "#             price_elements = element.find_element(By.XPATH,'.//span[@class=\"a-color-base\"]')\n",
    "#             if price_elements.text:\n",
    "#                 price_list.append(price_elements.text) \n",
    "#             else:\n",
    "#                 price_list.append('n/a')\n",
    "\n",
    "#         except:\n",
    "#             price_list.append('n/a')\n",
    "\n",
    "\n",
    "            \n",
    "            \n",
    "#     try:\n",
    "#          # Wait for the \"Next Page\" button and click it\n",
    "#         next_page = WebDriverWait(driver, 10).until(\n",
    "#             EC.element_to_be_clickable((By.XPATH, '//a[@class=\"s-pagination-item s-pagination-next s-pagination-button s-pagination-button-accessibility s-pagination-separator\"]'))\n",
    "#         )\n",
    "#         next_page.click()\n",
    "#     except:\n",
    "#         print(f'Error in locating next page button in page : {i+1}')\n",
    "        \n"
   ]
  },
  {
   "cell_type": "code",
   "execution_count": 7,
   "id": "5bb1f4a1-08eb-405e-8f75-d92b79746bb7",
   "metadata": {},
   "outputs": [
    {
     "data": {
      "text/plain": [
       "(63, 63)"
      ]
     },
     "execution_count": 7,
     "metadata": {},
     "output_type": "execute_result"
    }
   ],
   "source": [
    "len(price_list),len(name_list)"
   ]
  },
  {
   "cell_type": "code",
   "execution_count": 10,
   "id": "f09c80c5-ec89-44db-b594-a6a6d202d87e",
   "metadata": {},
   "outputs": [],
   "source": [
    "import pandas as pd\n",
    "df = pd.DataFrame({'product_name':name_list,\n",
    "                  'prices':price_list})"
   ]
  },
  {
   "cell_type": "code",
   "execution_count": 11,
   "id": "40db87df-690d-4d23-bbce-7bb5bab9b347",
   "metadata": {},
   "outputs": [
    {
     "data": {
      "text/html": [
       "<div>\n",
       "<style scoped>\n",
       "    .dataframe tbody tr th:only-of-type {\n",
       "        vertical-align: middle;\n",
       "    }\n",
       "\n",
       "    .dataframe tbody tr th {\n",
       "        vertical-align: top;\n",
       "    }\n",
       "\n",
       "    .dataframe thead th {\n",
       "        text-align: right;\n",
       "    }\n",
       "</style>\n",
       "<table border=\"1\" class=\"dataframe\">\n",
       "  <thead>\n",
       "    <tr style=\"text-align: right;\">\n",
       "      <th></th>\n",
       "      <th>product_name</th>\n",
       "      <th>prices</th>\n",
       "    </tr>\n",
       "  </thead>\n",
       "  <tbody>\n",
       "    <tr>\n",
       "      <th>0</th>\n",
       "      <td>Smart Watches for Men Women Android &amp; iPhone, ...</td>\n",
       "      <td>$49.99</td>\n",
       "    </tr>\n",
       "    <tr>\n",
       "      <th>1</th>\n",
       "      <td>Amazfit GTR Mini Smart Watch 43mm, 14-Day Batt...</td>\n",
       "      <td>$69.99</td>\n",
       "    </tr>\n",
       "    <tr>\n",
       "      <th>2</th>\n",
       "      <td>Amazfit Bip 5 Smart Watch 46mm, GPS, Alexa Bui...</td>\n",
       "      <td>$69.99</td>\n",
       "    </tr>\n",
       "    <tr>\n",
       "      <th>3</th>\n",
       "      <td>Smart Watch for Women Men for Android Phones i...</td>\n",
       "      <td>$39.97</td>\n",
       "    </tr>\n",
       "    <tr>\n",
       "      <th>4</th>\n",
       "      <td>Samsung Galaxy Watch 6 Classic 47mm Bluetooth ...</td>\n",
       "      <td>$195.58</td>\n",
       "    </tr>\n",
       "  </tbody>\n",
       "</table>\n",
       "</div>"
      ],
      "text/plain": [
       "                                        product_name   prices\n",
       "0  Smart Watches for Men Women Android & iPhone, ...   $49.99\n",
       "1  Amazfit GTR Mini Smart Watch 43mm, 14-Day Batt...   $69.99\n",
       "2  Amazfit Bip 5 Smart Watch 46mm, GPS, Alexa Bui...   $69.99\n",
       "3  Smart Watch for Women Men for Android Phones i...   $39.97\n",
       "4  Samsung Galaxy Watch 6 Classic 47mm Bluetooth ...  $195.58"
      ]
     },
     "execution_count": 11,
     "metadata": {},
     "output_type": "execute_result"
    }
   ],
   "source": [
    "df.head()"
   ]
  },
  {
   "cell_type": "code",
   "execution_count": 12,
   "id": "a14a803e-b8d1-411c-9573-3918057c564c",
   "metadata": {},
   "outputs": [
    {
     "data": {
      "text/plain": [
       "product_name    0\n",
       "prices          0\n",
       "dtype: int64"
      ]
     },
     "execution_count": 12,
     "metadata": {},
     "output_type": "execute_result"
    }
   ],
   "source": [
    "df.isnull().sum()"
   ]
  },
  {
   "cell_type": "code",
   "execution_count": 13,
   "id": "bd559c37-4f9b-4955-bc0b-ba1be2b0530c",
   "metadata": {},
   "outputs": [
    {
     "data": {
      "text/plain": [
       "10"
      ]
     },
     "execution_count": 13,
     "metadata": {},
     "output_type": "execute_result"
    }
   ],
   "source": [
    "df.duplicated().sum()"
   ]
  },
  {
   "cell_type": "code",
   "execution_count": 15,
   "id": "c3dd716d-1f1c-4263-bd9b-ff90793a68f4",
   "metadata": {},
   "outputs": [
    {
     "data": {
      "text/plain": [
       "(63, 2)"
      ]
     },
     "execution_count": 15,
     "metadata": {},
     "output_type": "execute_result"
    }
   ],
   "source": [
    "df.shape"
   ]
  },
  {
   "cell_type": "code",
   "execution_count": 14,
   "id": "328438f1-51a9-4135-bcee-919db97ae671",
   "metadata": {},
   "outputs": [
    {
     "data": {
      "text/plain": [
       "10"
      ]
     },
     "execution_count": 14,
     "metadata": {},
     "output_type": "execute_result"
    }
   ],
   "source": [
    "df['product_name'].duplicated().sum()"
   ]
  },
  {
   "cell_type": "code",
   "execution_count": 20,
   "id": "1442516a-4c7d-48dc-ac03-b2ee852a44f6",
   "metadata": {},
   "outputs": [
    {
     "data": {
      "text/html": [
       "<div>\n",
       "<style scoped>\n",
       "    .dataframe tbody tr th:only-of-type {\n",
       "        vertical-align: middle;\n",
       "    }\n",
       "\n",
       "    .dataframe tbody tr th {\n",
       "        vertical-align: top;\n",
       "    }\n",
       "\n",
       "    .dataframe thead th {\n",
       "        text-align: right;\n",
       "    }\n",
       "</style>\n",
       "<table border=\"1\" class=\"dataframe\">\n",
       "  <thead>\n",
       "    <tr style=\"text-align: right;\">\n",
       "      <th></th>\n",
       "      <th>product_name</th>\n",
       "      <th>prices</th>\n",
       "    </tr>\n",
       "  </thead>\n",
       "  <tbody>\n",
       "    <tr>\n",
       "      <th>24</th>\n",
       "      <td>Apple Watch Seniors Guide: The Most User-Frien...</td>\n",
       "      <td>n/a</td>\n",
       "    </tr>\n",
       "    <tr>\n",
       "      <th>37</th>\n",
       "      <td>Smart Watch Wireless Smart Bracelet 116Plus Ph...</td>\n",
       "      <td>$8.18</td>\n",
       "    </tr>\n",
       "    <tr>\n",
       "      <th>16</th>\n",
       "      <td>Smart Watch, 1.91\" Smartwatch for Men Women (A...</td>\n",
       "      <td>n/a</td>\n",
       "    </tr>\n",
       "    <tr>\n",
       "      <th>45</th>\n",
       "      <td>aeac Smart Watch for Men Women, 2024 Newest Fi...</td>\n",
       "      <td>$59.99</td>\n",
       "    </tr>\n",
       "    <tr>\n",
       "      <th>32</th>\n",
       "      <td>Garmin Enduro™ 3 – 51 mm, Solar, Sapphire, Ult...</td>\n",
       "      <td>$799.99</td>\n",
       "    </tr>\n",
       "    <tr>\n",
       "      <th>52</th>\n",
       "      <td>Smart Watches for Men Women, Fitness Watch wit...</td>\n",
       "      <td>$69.80</td>\n",
       "    </tr>\n",
       "    <tr>\n",
       "      <th>20</th>\n",
       "      <td>Smart Watch for Men Women Compatible with iPho...</td>\n",
       "      <td>$23.00</td>\n",
       "    </tr>\n",
       "    <tr>\n",
       "      <th>29</th>\n",
       "      <td>SAMSUNG Galaxy Watch 5 40mm Bluetooth Smartwat...</td>\n",
       "      <td>n/a</td>\n",
       "    </tr>\n",
       "    <tr>\n",
       "      <th>23</th>\n",
       "      <td>Apple Watch Seniors Guide: Your Simple Path to...</td>\n",
       "      <td>n/a</td>\n",
       "    </tr>\n",
       "    <tr>\n",
       "      <th>60</th>\n",
       "      <td>aeac Smart Watch for Women, Alexa Built-in, St...</td>\n",
       "      <td>$69.99</td>\n",
       "    </tr>\n",
       "    <tr>\n",
       "      <th>6</th>\n",
       "      <td>Fitbit Inspire 3 Health &amp;-Fitness-Tracker with...</td>\n",
       "      <td>$99.00</td>\n",
       "    </tr>\n",
       "    <tr>\n",
       "      <th>36</th>\n",
       "      <td>SAMSUNG Galaxy Watch 3 (41mm, GPS, Bluetooth) ...</td>\n",
       "      <td>$114.99</td>\n",
       "    </tr>\n",
       "    <tr>\n",
       "      <th>2</th>\n",
       "      <td>Amazfit Bip 5 Smart Watch 46mm, GPS, Alexa Bui...</td>\n",
       "      <td>$69.99</td>\n",
       "    </tr>\n",
       "    <tr>\n",
       "      <th>34</th>\n",
       "      <td>Apple Watch Seniors Guide: The Most User-Frien...</td>\n",
       "      <td>n/a</td>\n",
       "    </tr>\n",
       "    <tr>\n",
       "      <th>55</th>\n",
       "      <td>Samsung Galaxy Watch3 2020 Smartwatch (Bluetoo...</td>\n",
       "      <td>$64.49</td>\n",
       "    </tr>\n",
       "    <tr>\n",
       "      <th>0</th>\n",
       "      <td>Smart Watches for Men Women Android &amp; iPhone, ...</td>\n",
       "      <td>$49.99</td>\n",
       "    </tr>\n",
       "    <tr>\n",
       "      <th>47</th>\n",
       "      <td>Apple Watch SE (GPS + Cellular, 40mm) - Silver...</td>\n",
       "      <td>$123.97</td>\n",
       "    </tr>\n",
       "    <tr>\n",
       "      <th>44</th>\n",
       "      <td>Amazfit Bip U Pro Smart Watch with Alexa Built...</td>\n",
       "      <td>n/a</td>\n",
       "    </tr>\n",
       "    <tr>\n",
       "      <th>14</th>\n",
       "      <td>Apple Watch Series 10 [GPS + Cellular 46mm cas...</td>\n",
       "      <td>$721.71</td>\n",
       "    </tr>\n",
       "    <tr>\n",
       "      <th>38</th>\n",
       "      <td>Google Pixel Watch 2 with Fitbit Heart Rate Tr...</td>\n",
       "      <td>$109.95</td>\n",
       "    </tr>\n",
       "  </tbody>\n",
       "</table>\n",
       "</div>"
      ],
      "text/plain": [
       "                                         product_name   prices\n",
       "24  Apple Watch Seniors Guide: The Most User-Frien...      n/a\n",
       "37  Smart Watch Wireless Smart Bracelet 116Plus Ph...    $8.18\n",
       "16  Smart Watch, 1.91\" Smartwatch for Men Women (A...      n/a\n",
       "45  aeac Smart Watch for Men Women, 2024 Newest Fi...   $59.99\n",
       "32  Garmin Enduro™ 3 – 51 mm, Solar, Sapphire, Ult...  $799.99\n",
       "52  Smart Watches for Men Women, Fitness Watch wit...   $69.80\n",
       "20  Smart Watch for Men Women Compatible with iPho...   $23.00\n",
       "29  SAMSUNG Galaxy Watch 5 40mm Bluetooth Smartwat...      n/a\n",
       "23  Apple Watch Seniors Guide: Your Simple Path to...      n/a\n",
       "60  aeac Smart Watch for Women, Alexa Built-in, St...   $69.99\n",
       "6   Fitbit Inspire 3 Health &-Fitness-Tracker with...   $99.00\n",
       "36  SAMSUNG Galaxy Watch 3 (41mm, GPS, Bluetooth) ...  $114.99\n",
       "2   Amazfit Bip 5 Smart Watch 46mm, GPS, Alexa Bui...   $69.99\n",
       "34  Apple Watch Seniors Guide: The Most User-Frien...      n/a\n",
       "55  Samsung Galaxy Watch3 2020 Smartwatch (Bluetoo...   $64.49\n",
       "0   Smart Watches for Men Women Android & iPhone, ...   $49.99\n",
       "47  Apple Watch SE (GPS + Cellular, 40mm) - Silver...  $123.97\n",
       "44  Amazfit Bip U Pro Smart Watch with Alexa Built...      n/a\n",
       "14  Apple Watch Series 10 [GPS + Cellular 46mm cas...  $721.71\n",
       "38  Google Pixel Watch 2 with Fitbit Heart Rate Tr...  $109.95"
      ]
     },
     "execution_count": 20,
     "metadata": {},
     "output_type": "execute_result"
    }
   ],
   "source": [
    "df.sample(20)"
   ]
  },
  {
   "cell_type": "code",
   "execution_count": 29,
   "id": "e422f7fb-a83c-4b0d-92a3-5573f6044933",
   "metadata": {},
   "outputs": [
    {
     "data": {
      "text/plain": [
       "'Google Pixel Watch 2 with Fitbit Heart Rate Tracking, Stress Management, Safety Features - Android Smartwatch - Polish Silver Aluminum Case - Porcelain Active Band (GPS) (Renewed)'"
      ]
     },
     "execution_count": 29,
     "metadata": {},
     "output_type": "execute_result"
    }
   ],
   "source": [
    "df['product_name'].iloc[38]"
   ]
  }
 ],
 "metadata": {
  "kernelspec": {
   "display_name": "Python 3 (ipykernel)",
   "language": "python",
   "name": "python3"
  },
  "language_info": {
   "codemirror_mode": {
    "name": "ipython",
    "version": 3
   },
   "file_extension": ".py",
   "mimetype": "text/x-python",
   "name": "python",
   "nbconvert_exporter": "python",
   "pygments_lexer": "ipython3",
   "version": "3.11.7"
  }
 },
 "nbformat": 4,
 "nbformat_minor": 5
}

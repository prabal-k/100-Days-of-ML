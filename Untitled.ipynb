{
 "cells": [
  {
   "cell_type": "code",
   "execution_count": 16,
   "id": "a454b431",
   "metadata": {},
   "outputs": [],
   "source": [
    "def maxfunction(nums):\n",
    "    l=[]\n",
    "    for i in nums:\n",
    "        count=0\n",
    "        for j in nums:\n",
    "            if i > j:\n",
    "                count=count+1\n",
    "        l.append(count)\n",
    "                \n",
    "                \n",
    "    return l"
   ]
  },
  {
   "cell_type": "code",
   "execution_count": 18,
   "id": "cc59cb99",
   "metadata": {},
   "outputs": [
    {
     "name": "stdout",
     "output_type": "stream",
     "text": [
      "[5, 0, 0, 2, 3, 4]\n"
     ]
    }
   ],
   "source": [
    "nums=[8,1,1,2,3,5]\n",
    "l=maxfunction(nums)\n",
    "print(l)"
   ]
  }
 ],
 "metadata": {
  "kernelspec": {
   "display_name": "Python 3 (ipykernel)",
   "language": "python",
   "name": "python3"
  },
  "language_info": {
   "codemirror_mode": {
    "name": "ipython",
    "version": 3
   },
   "file_extension": ".py",
   "mimetype": "text/x-python",
   "name": "python",
   "nbconvert_exporter": "python",
   "pygments_lexer": "ipython3",
   "version": "3.11.5"
  }
 },
 "nbformat": 4,
 "nbformat_minor": 5
}

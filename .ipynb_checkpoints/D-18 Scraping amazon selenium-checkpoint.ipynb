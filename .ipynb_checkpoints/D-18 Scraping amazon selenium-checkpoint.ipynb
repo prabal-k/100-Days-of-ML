{
 "cells": [
  {
   "cell_type": "code",
   "execution_count": 1,
   "id": "4f5cd9e6-b335-4469-9f5b-6eb939e1144b",
   "metadata": {},
   "outputs": [],
   "source": [
    "from selenium import webdriver  #Imports the webdriver module from Selenium, which is used to control the browser.\n",
    "from selenium.webdriver.common.by import By  #Provides methods to locate elements on a webpage (e.g., by ID, name, class name, etc.).\n",
    "from selenium.webdriver.common.keys import Keys  #Contains keyboard keys (e.g., ENTER, ESCAPE, etc.) to simulate typing actions.\n",
    "import time  #Python's built-in time module is used for delays (e.g., time.sleep() to wait for a webpage to load).\n",
    "from selenium.webdriver.support.ui import WebDriverWait\n",
    "from selenium.webdriver.support import expected_conditions as EC\n",
    "from selenium.common.exceptions import NoSuchElementException"
   ]
  },
  {
   "cell_type": "code",
   "execution_count": 2,
   "id": "c1c09408-74f5-467d-9430-9957962b6466",
   "metadata": {},
   "outputs": [],
   "source": [
    "driver = webdriver.Chrome()\n",
    "driver.get('https://www.amazon.com/')\n",
    "time.sleep(5)"
   ]
  },
  {
   "cell_type": "code",
   "execution_count": 3,
   "id": "8d6e19bf-9c4c-41b5-908b-929d0708458e",
   "metadata": {},
   "outputs": [],
   "source": [
    "search_bar = driver.find_element(By.ID,'twotabsearchtextbox')   #Id of the search bar\n",
    "search_bar.send_keys('smart watches')                          ## to search about on the text field\n",
    "search_bar.send_keys(Keys.RETURN)\n",
    "# search_box = driver.find_element(By.CLASS_NAME,\"nav-input nav-progressive-attribute\")\n",
    "# search_box = driver.find_element(By.CLASS_NAME,\"nav-input nav-progressive-attribute\")"
   ]
  },
  {
   "cell_type": "markdown",
   "id": "0a4c45c0-1d86-44ad-8e9c-eba44839703c",
   "metadata": {},
   "source": [
    "# To get the Name and Prices of the product"
   ]
  },
  {
   "cell_type": "code",
   "execution_count": 127,
   "id": "6805a312-83bd-442f-95ec-3370f6eff78b",
   "metadata": {},
   "outputs": [],
   "source": []
  },
  {
   "cell_type": "code",
   "execution_count": 4,
   "id": "c126bc9b-7f9d-4d20-aada-7dad38dca08e",
   "metadata": {},
   "outputs": [
    {
     "name": "stdout",
     "output_type": "stream",
     "text": [
      "Scrapping page : 1\n",
      "Scrapping page : 2\n",
      "Scrapping page : 3\n",
      "Scrapping page : 4\n",
      "Scrapping page : 5\n",
      "Scrapping page : 6\n",
      "Scrapping page : 7\n",
      "Scrapping page : 8\n",
      "Scrapping page : 9\n",
      "Scrapping page : 10\n"
     ]
    }
   ],
   "source": [
    "name_list=[]\n",
    "price_list =[]\n",
    "for i in range(10):\n",
    "    print(f'Scrapping page : {i+1}')\n",
    "    all_elements = WebDriverWait(driver ,10).until(\n",
    "         EC.presence_of_all_elements_located((By.XPATH,'//div[@data-component-type=\"s-search-result\"]'))\n",
    "    )\n",
    "    for element in all_elements:\n",
    "        ##### To get the product name\n",
    "        try:\n",
    "            name_elements = element.find_element(By.XPATH,'.//h2[@class=\"a-size-medium a-spacing-none a-color-base a-text-normal\"]')\n",
    "\n",
    "            if name_elements.text:\n",
    "                name_list.append(name_elements.text) \n",
    "            else:\n",
    "                name_list.append('n/a')\n",
    "        except:\n",
    "            name_list.append('n/a')\n",
    "\n",
    "        ##### To get the prices \n",
    "        try:\n",
    "            price_elements = element.find_element(By.XPATH,'.//span[@class=\"a-color-base\"]')\n",
    "            if price_elements.text:\n",
    "                price_list.append(price_elements.text) \n",
    "            else:\n",
    "                price_list.append('n/a')\n",
    "\n",
    "        except:\n",
    "            price_list.append('n/a')\n",
    "\n",
    "\n",
    "            \n",
    "            \n",
    "    try:\n",
    "         # Wait for the \"Next Page\" button and click it\n",
    "        next_page = WebDriverWait(driver, 10).until(\n",
    "            EC.element_to_be_clickable((By.XPATH, '//a[@class=\"s-pagination-item s-pagination-next s-pagination-button s-pagination-button-accessibility s-pagination-separator\"]'))\n",
    "        )\n",
    "        next_page.click()\n",
    "    except:\n",
    "        print(f'Error in locating next page button in page : {i+1}')\n",
    "        \n"
   ]
  },
  {
   "cell_type": "code",
   "execution_count": 7,
   "id": "5bb1f4a1-08eb-405e-8f75-d92b79746bb7",
   "metadata": {},
   "outputs": [
    {
     "data": {
      "text/plain": [
       "(63, 63)"
      ]
     },
     "execution_count": 7,
     "metadata": {},
     "output_type": "execute_result"
    }
   ],
   "source": [
    "len(price_list),len(name_list)"
   ]
  },
  {
   "cell_type": "code",
   "execution_count": 10,
   "id": "f09c80c5-ec89-44db-b594-a6a6d202d87e",
   "metadata": {},
   "outputs": [],
   "source": [
    "import pandas as pd\n",
    "df = pd.DataFrame({'product_name':name_list,\n",
    "                  'prices':price_list})"
   ]
  },
  {
   "cell_type": "code",
   "execution_count": 11,
   "id": "40db87df-690d-4d23-bbce-7bb5bab9b347",
   "metadata": {},
   "outputs": [
    {
     "data": {
      "text/html": [
       "<div>\n",
       "<style scoped>\n",
       "    .dataframe tbody tr th:only-of-type {\n",
       "        vertical-align: middle;\n",
       "    }\n",
       "\n",
       "    .dataframe tbody tr th {\n",
       "        vertical-align: top;\n",
       "    }\n",
       "\n",
       "    .dataframe thead th {\n",
       "        text-align: right;\n",
       "    }\n",
       "</style>\n",
       "<table border=\"1\" class=\"dataframe\">\n",
       "  <thead>\n",
       "    <tr style=\"text-align: right;\">\n",
       "      <th></th>\n",
       "      <th>product_name</th>\n",
       "      <th>prices</th>\n",
       "    </tr>\n",
       "  </thead>\n",
       "  <tbody>\n",
       "    <tr>\n",
       "      <th>0</th>\n",
       "      <td>Smart Watches for Men Women Android &amp; iPhone, ...</td>\n",
       "      <td>$49.99</td>\n",
       "    </tr>\n",
       "    <tr>\n",
       "      <th>1</th>\n",
       "      <td>Amazfit GTR Mini Smart Watch 43mm, 14-Day Batt...</td>\n",
       "      <td>$69.99</td>\n",
       "    </tr>\n",
       "    <tr>\n",
       "      <th>2</th>\n",
       "      <td>Amazfit Bip 5 Smart Watch 46mm, GPS, Alexa Bui...</td>\n",
       "      <td>$69.99</td>\n",
       "    </tr>\n",
       "    <tr>\n",
       "      <th>3</th>\n",
       "      <td>Smart Watch for Women Men for Android Phones i...</td>\n",
       "      <td>$39.97</td>\n",
       "    </tr>\n",
       "    <tr>\n",
       "      <th>4</th>\n",
       "      <td>Samsung Galaxy Watch 6 Classic 47mm Bluetooth ...</td>\n",
       "      <td>$195.58</td>\n",
       "    </tr>\n",
       "  </tbody>\n",
       "</table>\n",
       "</div>"
      ],
      "text/plain": [
       "                                        product_name   prices\n",
       "0  Smart Watches for Men Women Android & iPhone, ...   $49.99\n",
       "1  Amazfit GTR Mini Smart Watch 43mm, 14-Day Batt...   $69.99\n",
       "2  Amazfit Bip 5 Smart Watch 46mm, GPS, Alexa Bui...   $69.99\n",
       "3  Smart Watch for Women Men for Android Phones i...   $39.97\n",
       "4  Samsung Galaxy Watch 6 Classic 47mm Bluetooth ...  $195.58"
      ]
     },
     "execution_count": 11,
     "metadata": {},
     "output_type": "execute_result"
    }
   ],
   "source": [
    "df.head()"
   ]
  },
  {
   "cell_type": "code",
   "execution_count": 12,
   "id": "a14a803e-b8d1-411c-9573-3918057c564c",
   "metadata": {},
   "outputs": [
    {
     "data": {
      "text/plain": [
       "product_name    0\n",
       "prices          0\n",
       "dtype: int64"
      ]
     },
     "execution_count": 12,
     "metadata": {},
     "output_type": "execute_result"
    }
   ],
   "source": [
    "df.isnull().sum()"
   ]
  },
  {
   "cell_type": "code",
   "execution_count": 13,
   "id": "bd559c37-4f9b-4955-bc0b-ba1be2b0530c",
   "metadata": {},
   "outputs": [
    {
     "data": {
      "text/plain": [
       "10"
      ]
     },
     "execution_count": 13,
     "metadata": {},
     "output_type": "execute_result"
    }
   ],
   "source": [
    "df.duplicated().sum()"
   ]
  },
  {
   "cell_type": "code",
   "execution_count": 15,
   "id": "c3dd716d-1f1c-4263-bd9b-ff90793a68f4",
   "metadata": {},
   "outputs": [
    {
     "data": {
      "text/plain": [
       "(63, 2)"
      ]
     },
     "execution_count": 15,
     "metadata": {},
     "output_type": "execute_result"
    }
   ],
   "source": [
    "df.shape"
   ]
  },
  {
   "cell_type": "code",
   "execution_count": 14,
   "id": "328438f1-51a9-4135-bcee-919db97ae671",
   "metadata": {},
   "outputs": [
    {
     "data": {
      "text/plain": [
       "10"
      ]
     },
     "execution_count": 14,
     "metadata": {},
     "output_type": "execute_result"
    }
   ],
   "source": [
    "df['product_name'].duplicated().sum()"
   ]
  },
  {
   "cell_type": "code",
   "execution_count": 20,
   "id": "1442516a-4c7d-48dc-ac03-b2ee852a44f6",
   "metadata": {},
   "outputs": [
    {
     "data": {
      "text/html": [
       "<div>\n",
       "<style scoped>\n",
       "    .dataframe tbody tr th:only-of-type {\n",
       "        vertical-align: middle;\n",
       "    }\n",
       "\n",
       "    .dataframe tbody tr th {\n",
       "        vertical-align: top;\n",
       "    }\n",
       "\n",
       "    .dataframe thead th {\n",
       "        text-align: right;\n",
       "    }\n",
       "</style>\n",
       "<table border=\"1\" class=\"dataframe\">\n",
       "  <thead>\n",
       "    <tr style=\"text-align: right;\">\n",
       "      <th></th>\n",
       "      <th>product_name</th>\n",
       "      <th>prices</th>\n",
       "    </tr>\n",
       "  </thead>\n",
       "  <tbody>\n",
       "    <tr>\n",
       "      <th>24</th>\n",
       "      <td>Apple Watch Seniors Guide: The Most User-Frien...</td>\n",
       "      <td>n/a</td>\n",
       "    </tr>\n",
       "    <tr>\n",
       "      <th>37</th>\n",
       "      <td>Smart Watch Wireless Smart Bracelet 116Plus Ph...</td>\n",
       "      <td>$8.18</td>\n",
       "    </tr>\n",
       "    <tr>\n",
       "      <th>16</th>\n",
       "      <td>Smart Watch, 1.91\" Smartwatch for Men Women (A...</td>\n",
       "      <td>n/a</td>\n",
       "    </tr>\n",
       "    <tr>\n",
       "      <th>45</th>\n",
       "      <td>aeac Smart Watch for Men Women, 2024 Newest Fi...</td>\n",
       "      <td>$59.99</td>\n",
       "    </tr>\n",
       "    <tr>\n",
       "      <th>32</th>\n",
       "      <td>Garmin Enduro™ 3 – 51 mm, Solar, Sapphire, Ult...</td>\n",
       "      <td>$799.99</td>\n",
       "    </tr>\n",
       "    <tr>\n",
       "      <th>52</th>\n",
       "      <td>Smart Watches for Men Women, Fitness Watch wit...</td>\n",
       "      <td>$69.80</td>\n",
       "    </tr>\n",
       "    <tr>\n",
       "      <th>20</th>\n",
       "      <td>Smart Watch for Men Women Compatible with iPho...</td>\n",
       "      <td>$23.00</td>\n",
       "    </tr>\n",
       "    <tr>\n",
       "      <th>29</th>\n",
       "      <td>SAMSUNG Galaxy Watch 5 40mm Bluetooth Smartwat...</td>\n",
       "      <td>n/a</td>\n",
       "    </tr>\n",
       "    <tr>\n",
       "      <th>23</th>\n",
       "      <td>Apple Watch Seniors Guide: Your Simple Path to...</td>\n",
       "      <td>n/a</td>\n",
       "    </tr>\n",
       "    <tr>\n",
       "      <th>60</th>\n",
       "      <td>aeac Smart Watch for Women, Alexa Built-in, St...</td>\n",
       "      <td>$69.99</td>\n",
       "    </tr>\n",
       "    <tr>\n",
       "      <th>6</th>\n",
       "      <td>Fitbit Inspire 3 Health &amp;-Fitness-Tracker with...</td>\n",
       "      <td>$99.00</td>\n",
       "    </tr>\n",
       "    <tr>\n",
       "      <th>36</th>\n",
       "      <td>SAMSUNG Galaxy Watch 3 (41mm, GPS, Bluetooth) ...</td>\n",
       "      <td>$114.99</td>\n",
       "    </tr>\n",
       "    <tr>\n",
       "      <th>2</th>\n",
       "      <td>Amazfit Bip 5 Smart Watch 46mm, GPS, Alexa Bui...</td>\n",
       "      <td>$69.99</td>\n",
       "    </tr>\n",
       "    <tr>\n",
       "      <th>34</th>\n",
       "      <td>Apple Watch Seniors Guide: The Most User-Frien...</td>\n",
       "      <td>n/a</td>\n",
       "    </tr>\n",
       "    <tr>\n",
       "      <th>55</th>\n",
       "      <td>Samsung Galaxy Watch3 2020 Smartwatch (Bluetoo...</td>\n",
       "      <td>$64.49</td>\n",
       "    </tr>\n",
       "    <tr>\n",
       "      <th>0</th>\n",
       "      <td>Smart Watches for Men Women Android &amp; iPhone, ...</td>\n",
       "      <td>$49.99</td>\n",
       "    </tr>\n",
       "    <tr>\n",
       "      <th>47</th>\n",
       "      <td>Apple Watch SE (GPS + Cellular, 40mm) - Silver...</td>\n",
       "      <td>$123.97</td>\n",
       "    </tr>\n",
       "    <tr>\n",
       "      <th>44</th>\n",
       "      <td>Amazfit Bip U Pro Smart Watch with Alexa Built...</td>\n",
       "      <td>n/a</td>\n",
       "    </tr>\n",
       "    <tr>\n",
       "      <th>14</th>\n",
       "      <td>Apple Watch Series 10 [GPS + Cellular 46mm cas...</td>\n",
       "      <td>$721.71</td>\n",
       "    </tr>\n",
       "    <tr>\n",
       "      <th>38</th>\n",
       "      <td>Google Pixel Watch 2 with Fitbit Heart Rate Tr...</td>\n",
       "      <td>$109.95</td>\n",
       "    </tr>\n",
       "  </tbody>\n",
       "</table>\n",
       "</div>"
      ],
      "text/plain": [
       "                                         product_name   prices\n",
       "24  Apple Watch Seniors Guide: The Most User-Frien...      n/a\n",
       "37  Smart Watch Wireless Smart Bracelet 116Plus Ph...    $8.18\n",
       "16  Smart Watch, 1.91\" Smartwatch for Men Women (A...      n/a\n",
       "45  aeac Smart Watch for Men Women, 2024 Newest Fi...   $59.99\n",
       "32  Garmin Enduro™ 3 – 51 mm, Solar, Sapphire, Ult...  $799.99\n",
       "52  Smart Watches for Men Women, Fitness Watch wit...   $69.80\n",
       "20  Smart Watch for Men Women Compatible with iPho...   $23.00\n",
       "29  SAMSUNG Galaxy Watch 5 40mm Bluetooth Smartwat...      n/a\n",
       "23  Apple Watch Seniors Guide: Your Simple Path to...      n/a\n",
       "60  aeac Smart Watch for Women, Alexa Built-in, St...   $69.99\n",
       "6   Fitbit Inspire 3 Health &-Fitness-Tracker with...   $99.00\n",
       "36  SAMSUNG Galaxy Watch 3 (41mm, GPS, Bluetooth) ...  $114.99\n",
       "2   Amazfit Bip 5 Smart Watch 46mm, GPS, Alexa Bui...   $69.99\n",
       "34  Apple Watch Seniors Guide: The Most User-Frien...      n/a\n",
       "55  Samsung Galaxy Watch3 2020 Smartwatch (Bluetoo...   $64.49\n",
       "0   Smart Watches for Men Women Android & iPhone, ...   $49.99\n",
       "47  Apple Watch SE (GPS + Cellular, 40mm) - Silver...  $123.97\n",
       "44  Amazfit Bip U Pro Smart Watch with Alexa Built...      n/a\n",
       "14  Apple Watch Series 10 [GPS + Cellular 46mm cas...  $721.71\n",
       "38  Google Pixel Watch 2 with Fitbit Heart Rate Tr...  $109.95"
      ]
     },
     "execution_count": 20,
     "metadata": {},
     "output_type": "execute_result"
    }
   ],
   "source": [
    "df.sample(20)"
   ]
  },
  {
   "cell_type": "code",
   "execution_count": 29,
   "id": "e422f7fb-a83c-4b0d-92a3-5573f6044933",
   "metadata": {},
   "outputs": [
    {
     "data": {
      "text/plain": [
       "'Google Pixel Watch 2 with Fitbit Heart Rate Tracking, Stress Management, Safety Features - Android Smartwatch - Polish Silver Aluminum Case - Porcelain Active Band (GPS) (Renewed)'"
      ]
     },
     "execution_count": 29,
     "metadata": {},
     "output_type": "execute_result"
    }
   ],
   "source": [
    "df['product_name'].iloc[38]"
   ]
  }
 ],
 "metadata": {
  "kernelspec": {
   "display_name": "Python 3 (ipykernel)",
   "language": "python",
   "name": "python3"
  },
  "language_info": {
   "codemirror_mode": {
    "name": "ipython",
    "version": 3
   },
   "file_extension": ".py",
   "mimetype": "text/x-python",
   "name": "python",
   "nbconvert_exporter": "python",
   "pygments_lexer": "ipython3",
   "version": "3.11.7"
  }
 },
 "nbformat": 4,
 "nbformat_minor": 5
}

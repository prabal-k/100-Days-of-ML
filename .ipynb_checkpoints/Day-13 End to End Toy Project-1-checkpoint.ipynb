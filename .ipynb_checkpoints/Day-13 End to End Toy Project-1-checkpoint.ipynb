{
 "cells": [
  {
   "cell_type": "code",
   "execution_count": 1,
   "id": "326d48d4",
   "metadata": {},
   "outputs": [],
   "source": [
    "import pandas as pd\n",
    "import numpy as np\n",
    "import matplotlib.pyplot as plt\n",
    "import seaborn as sns"
   ]
  },
  {
   "cell_type": "code",
   "execution_count": 2,
   "id": "70c62264",
   "metadata": {},
   "outputs": [],
   "source": [
    "df = pd.read_csv('Data-sets/placement.csv')"
   ]
  },
  {
   "cell_type": "code",
   "execution_count": 3,
   "id": "788a1360",
   "metadata": {},
   "outputs": [
    {
     "data": {
      "text/html": [
       "<div>\n",
       "<style scoped>\n",
       "    .dataframe tbody tr th:only-of-type {\n",
       "        vertical-align: middle;\n",
       "    }\n",
       "\n",
       "    .dataframe tbody tr th {\n",
       "        vertical-align: top;\n",
       "    }\n",
       "\n",
       "    .dataframe thead th {\n",
       "        text-align: right;\n",
       "    }\n",
       "</style>\n",
       "<table border=\"1\" class=\"dataframe\">\n",
       "  <thead>\n",
       "    <tr style=\"text-align: right;\">\n",
       "      <th></th>\n",
       "      <th>Unnamed: 0</th>\n",
       "      <th>cgpa</th>\n",
       "      <th>iq</th>\n",
       "      <th>placement</th>\n",
       "    </tr>\n",
       "  </thead>\n",
       "  <tbody>\n",
       "    <tr>\n",
       "      <th>0</th>\n",
       "      <td>0</td>\n",
       "      <td>6.8</td>\n",
       "      <td>123.0</td>\n",
       "      <td>1</td>\n",
       "    </tr>\n",
       "    <tr>\n",
       "      <th>1</th>\n",
       "      <td>1</td>\n",
       "      <td>5.9</td>\n",
       "      <td>106.0</td>\n",
       "      <td>0</td>\n",
       "    </tr>\n",
       "    <tr>\n",
       "      <th>2</th>\n",
       "      <td>2</td>\n",
       "      <td>5.3</td>\n",
       "      <td>121.0</td>\n",
       "      <td>0</td>\n",
       "    </tr>\n",
       "    <tr>\n",
       "      <th>3</th>\n",
       "      <td>3</td>\n",
       "      <td>7.4</td>\n",
       "      <td>132.0</td>\n",
       "      <td>1</td>\n",
       "    </tr>\n",
       "    <tr>\n",
       "      <th>4</th>\n",
       "      <td>4</td>\n",
       "      <td>5.8</td>\n",
       "      <td>142.0</td>\n",
       "      <td>0</td>\n",
       "    </tr>\n",
       "    <tr>\n",
       "      <th>...</th>\n",
       "      <td>...</td>\n",
       "      <td>...</td>\n",
       "      <td>...</td>\n",
       "      <td>...</td>\n",
       "    </tr>\n",
       "    <tr>\n",
       "      <th>95</th>\n",
       "      <td>95</td>\n",
       "      <td>4.3</td>\n",
       "      <td>200.0</td>\n",
       "      <td>0</td>\n",
       "    </tr>\n",
       "    <tr>\n",
       "      <th>96</th>\n",
       "      <td>96</td>\n",
       "      <td>4.4</td>\n",
       "      <td>42.0</td>\n",
       "      <td>0</td>\n",
       "    </tr>\n",
       "    <tr>\n",
       "      <th>97</th>\n",
       "      <td>97</td>\n",
       "      <td>6.7</td>\n",
       "      <td>182.0</td>\n",
       "      <td>1</td>\n",
       "    </tr>\n",
       "    <tr>\n",
       "      <th>98</th>\n",
       "      <td>98</td>\n",
       "      <td>6.3</td>\n",
       "      <td>103.0</td>\n",
       "      <td>1</td>\n",
       "    </tr>\n",
       "    <tr>\n",
       "      <th>99</th>\n",
       "      <td>99</td>\n",
       "      <td>6.2</td>\n",
       "      <td>113.0</td>\n",
       "      <td>1</td>\n",
       "    </tr>\n",
       "  </tbody>\n",
       "</table>\n",
       "<p>100 rows × 4 columns</p>\n",
       "</div>"
      ],
      "text/plain": [
       "    Unnamed: 0  cgpa     iq  placement\n",
       "0            0   6.8  123.0          1\n",
       "1            1   5.9  106.0          0\n",
       "2            2   5.3  121.0          0\n",
       "3            3   7.4  132.0          1\n",
       "4            4   5.8  142.0          0\n",
       "..         ...   ...    ...        ...\n",
       "95          95   4.3  200.0          0\n",
       "96          96   4.4   42.0          0\n",
       "97          97   6.7  182.0          1\n",
       "98          98   6.3  103.0          1\n",
       "99          99   6.2  113.0          1\n",
       "\n",
       "[100 rows x 4 columns]"
      ]
     },
     "execution_count": 3,
     "metadata": {},
     "output_type": "execute_result"
    }
   ],
   "source": [
    "df"
   ]
  },
  {
   "cell_type": "markdown",
   "id": "d7f3832d",
   "metadata": {},
   "source": [
    "# Data preprocessing"
   ]
  },
  {
   "cell_type": "code",
   "execution_count": 4,
   "id": "556bf41b",
   "metadata": {},
   "outputs": [
    {
     "name": "stdout",
     "output_type": "stream",
     "text": [
      "<class 'pandas.core.frame.DataFrame'>\n",
      "RangeIndex: 100 entries, 0 to 99\n",
      "Data columns (total 4 columns):\n",
      " #   Column      Non-Null Count  Dtype  \n",
      "---  ------      --------------  -----  \n",
      " 0   Unnamed: 0  100 non-null    int64  \n",
      " 1   cgpa        100 non-null    float64\n",
      " 2   iq          100 non-null    float64\n",
      " 3   placement   100 non-null    int64  \n",
      "dtypes: float64(2), int64(2)\n",
      "memory usage: 3.3 KB\n"
     ]
    }
   ],
   "source": [
    "df.info()"
   ]
  },
  {
   "cell_type": "code",
   "execution_count": 5,
   "id": "7264a5e8",
   "metadata": {},
   "outputs": [
    {
     "data": {
      "text/plain": [
       "(100, 4)"
      ]
     },
     "execution_count": 5,
     "metadata": {},
     "output_type": "execute_result"
    }
   ],
   "source": [
    "df.shape"
   ]
  },
  {
   "cell_type": "code",
   "execution_count": 6,
   "id": "dc0c42b4",
   "metadata": {},
   "outputs": [
    {
     "data": {
      "text/html": [
       "<div>\n",
       "<style scoped>\n",
       "    .dataframe tbody tr th:only-of-type {\n",
       "        vertical-align: middle;\n",
       "    }\n",
       "\n",
       "    .dataframe tbody tr th {\n",
       "        vertical-align: top;\n",
       "    }\n",
       "\n",
       "    .dataframe thead th {\n",
       "        text-align: right;\n",
       "    }\n",
       "</style>\n",
       "<table border=\"1\" class=\"dataframe\">\n",
       "  <thead>\n",
       "    <tr style=\"text-align: right;\">\n",
       "      <th></th>\n",
       "      <th>Unnamed: 0</th>\n",
       "      <th>cgpa</th>\n",
       "      <th>iq</th>\n",
       "      <th>placement</th>\n",
       "    </tr>\n",
       "  </thead>\n",
       "  <tbody>\n",
       "    <tr>\n",
       "      <th>count</th>\n",
       "      <td>100.000000</td>\n",
       "      <td>100.000000</td>\n",
       "      <td>100.000000</td>\n",
       "      <td>100.000000</td>\n",
       "    </tr>\n",
       "    <tr>\n",
       "      <th>mean</th>\n",
       "      <td>49.500000</td>\n",
       "      <td>5.991000</td>\n",
       "      <td>123.580000</td>\n",
       "      <td>0.500000</td>\n",
       "    </tr>\n",
       "    <tr>\n",
       "      <th>std</th>\n",
       "      <td>29.011492</td>\n",
       "      <td>1.143634</td>\n",
       "      <td>39.944198</td>\n",
       "      <td>0.502519</td>\n",
       "    </tr>\n",
       "    <tr>\n",
       "      <th>min</th>\n",
       "      <td>0.000000</td>\n",
       "      <td>3.300000</td>\n",
       "      <td>37.000000</td>\n",
       "      <td>0.000000</td>\n",
       "    </tr>\n",
       "    <tr>\n",
       "      <th>25%</th>\n",
       "      <td>24.750000</td>\n",
       "      <td>5.075000</td>\n",
       "      <td>101.500000</td>\n",
       "      <td>0.000000</td>\n",
       "    </tr>\n",
       "    <tr>\n",
       "      <th>50%</th>\n",
       "      <td>49.500000</td>\n",
       "      <td>6.000000</td>\n",
       "      <td>127.500000</td>\n",
       "      <td>0.500000</td>\n",
       "    </tr>\n",
       "    <tr>\n",
       "      <th>75%</th>\n",
       "      <td>74.250000</td>\n",
       "      <td>6.900000</td>\n",
       "      <td>149.000000</td>\n",
       "      <td>1.000000</td>\n",
       "    </tr>\n",
       "    <tr>\n",
       "      <th>max</th>\n",
       "      <td>99.000000</td>\n",
       "      <td>8.500000</td>\n",
       "      <td>233.000000</td>\n",
       "      <td>1.000000</td>\n",
       "    </tr>\n",
       "  </tbody>\n",
       "</table>\n",
       "</div>"
      ],
      "text/plain": [
       "       Unnamed: 0        cgpa          iq   placement\n",
       "count  100.000000  100.000000  100.000000  100.000000\n",
       "mean    49.500000    5.991000  123.580000    0.500000\n",
       "std     29.011492    1.143634   39.944198    0.502519\n",
       "min      0.000000    3.300000   37.000000    0.000000\n",
       "25%     24.750000    5.075000  101.500000    0.000000\n",
       "50%     49.500000    6.000000  127.500000    0.500000\n",
       "75%     74.250000    6.900000  149.000000    1.000000\n",
       "max     99.000000    8.500000  233.000000    1.000000"
      ]
     },
     "execution_count": 6,
     "metadata": {},
     "output_type": "execute_result"
    }
   ],
   "source": [
    "df.describe()"
   ]
  },
  {
   "cell_type": "code",
   "execution_count": 7,
   "id": "a8cf4a83",
   "metadata": {},
   "outputs": [
    {
     "data": {
      "text/plain": [
       "Unnamed: 0    0.0\n",
       "cgpa          0.0\n",
       "iq            0.0\n",
       "placement     0.0\n",
       "dtype: float64"
      ]
     },
     "execution_count": 7,
     "metadata": {},
     "output_type": "execute_result"
    }
   ],
   "source": [
    "df.isnull().sum()/df.shape[0]"
   ]
  },
  {
   "cell_type": "code",
   "execution_count": 8,
   "id": "7515cd96",
   "metadata": {},
   "outputs": [
    {
     "data": {
      "text/html": [
       "<div>\n",
       "<style scoped>\n",
       "    .dataframe tbody tr th:only-of-type {\n",
       "        vertical-align: middle;\n",
       "    }\n",
       "\n",
       "    .dataframe tbody tr th {\n",
       "        vertical-align: top;\n",
       "    }\n",
       "\n",
       "    .dataframe thead th {\n",
       "        text-align: right;\n",
       "    }\n",
       "</style>\n",
       "<table border=\"1\" class=\"dataframe\">\n",
       "  <thead>\n",
       "    <tr style=\"text-align: right;\">\n",
       "      <th></th>\n",
       "      <th>Unnamed: 0</th>\n",
       "      <th>cgpa</th>\n",
       "      <th>iq</th>\n",
       "      <th>placement</th>\n",
       "    </tr>\n",
       "  </thead>\n",
       "  <tbody>\n",
       "    <tr>\n",
       "      <th>0</th>\n",
       "      <td>0</td>\n",
       "      <td>6.8</td>\n",
       "      <td>123.0</td>\n",
       "      <td>1</td>\n",
       "    </tr>\n",
       "    <tr>\n",
       "      <th>1</th>\n",
       "      <td>1</td>\n",
       "      <td>5.9</td>\n",
       "      <td>106.0</td>\n",
       "      <td>0</td>\n",
       "    </tr>\n",
       "    <tr>\n",
       "      <th>2</th>\n",
       "      <td>2</td>\n",
       "      <td>5.3</td>\n",
       "      <td>121.0</td>\n",
       "      <td>0</td>\n",
       "    </tr>\n",
       "    <tr>\n",
       "      <th>3</th>\n",
       "      <td>3</td>\n",
       "      <td>7.4</td>\n",
       "      <td>132.0</td>\n",
       "      <td>1</td>\n",
       "    </tr>\n",
       "    <tr>\n",
       "      <th>4</th>\n",
       "      <td>4</td>\n",
       "      <td>5.8</td>\n",
       "      <td>142.0</td>\n",
       "      <td>0</td>\n",
       "    </tr>\n",
       "    <tr>\n",
       "      <th>...</th>\n",
       "      <td>...</td>\n",
       "      <td>...</td>\n",
       "      <td>...</td>\n",
       "      <td>...</td>\n",
       "    </tr>\n",
       "    <tr>\n",
       "      <th>95</th>\n",
       "      <td>95</td>\n",
       "      <td>4.3</td>\n",
       "      <td>200.0</td>\n",
       "      <td>0</td>\n",
       "    </tr>\n",
       "    <tr>\n",
       "      <th>96</th>\n",
       "      <td>96</td>\n",
       "      <td>4.4</td>\n",
       "      <td>42.0</td>\n",
       "      <td>0</td>\n",
       "    </tr>\n",
       "    <tr>\n",
       "      <th>97</th>\n",
       "      <td>97</td>\n",
       "      <td>6.7</td>\n",
       "      <td>182.0</td>\n",
       "      <td>1</td>\n",
       "    </tr>\n",
       "    <tr>\n",
       "      <th>98</th>\n",
       "      <td>98</td>\n",
       "      <td>6.3</td>\n",
       "      <td>103.0</td>\n",
       "      <td>1</td>\n",
       "    </tr>\n",
       "    <tr>\n",
       "      <th>99</th>\n",
       "      <td>99</td>\n",
       "      <td>6.2</td>\n",
       "      <td>113.0</td>\n",
       "      <td>1</td>\n",
       "    </tr>\n",
       "  </tbody>\n",
       "</table>\n",
       "<p>100 rows × 4 columns</p>\n",
       "</div>"
      ],
      "text/plain": [
       "    Unnamed: 0  cgpa     iq  placement\n",
       "0            0   6.8  123.0          1\n",
       "1            1   5.9  106.0          0\n",
       "2            2   5.3  121.0          0\n",
       "3            3   7.4  132.0          1\n",
       "4            4   5.8  142.0          0\n",
       "..         ...   ...    ...        ...\n",
       "95          95   4.3  200.0          0\n",
       "96          96   4.4   42.0          0\n",
       "97          97   6.7  182.0          1\n",
       "98          98   6.3  103.0          1\n",
       "99          99   6.2  113.0          1\n",
       "\n",
       "[100 rows x 4 columns]"
      ]
     },
     "execution_count": 8,
     "metadata": {},
     "output_type": "execute_result"
    }
   ],
   "source": [
    "df"
   ]
  },
  {
   "cell_type": "code",
   "execution_count": 9,
   "id": "108b5760",
   "metadata": {},
   "outputs": [
    {
     "data": {
      "text/html": [
       "<div>\n",
       "<style scoped>\n",
       "    .dataframe tbody tr th:only-of-type {\n",
       "        vertical-align: middle;\n",
       "    }\n",
       "\n",
       "    .dataframe tbody tr th {\n",
       "        vertical-align: top;\n",
       "    }\n",
       "\n",
       "    .dataframe thead th {\n",
       "        text-align: right;\n",
       "    }\n",
       "</style>\n",
       "<table border=\"1\" class=\"dataframe\">\n",
       "  <thead>\n",
       "    <tr style=\"text-align: right;\">\n",
       "      <th></th>\n",
       "      <th>cgpa</th>\n",
       "      <th>iq</th>\n",
       "      <th>placement</th>\n",
       "    </tr>\n",
       "  </thead>\n",
       "  <tbody>\n",
       "    <tr>\n",
       "      <th>0</th>\n",
       "      <td>6.8</td>\n",
       "      <td>123.0</td>\n",
       "      <td>1</td>\n",
       "    </tr>\n",
       "    <tr>\n",
       "      <th>1</th>\n",
       "      <td>5.9</td>\n",
       "      <td>106.0</td>\n",
       "      <td>0</td>\n",
       "    </tr>\n",
       "    <tr>\n",
       "      <th>2</th>\n",
       "      <td>5.3</td>\n",
       "      <td>121.0</td>\n",
       "      <td>0</td>\n",
       "    </tr>\n",
       "    <tr>\n",
       "      <th>3</th>\n",
       "      <td>7.4</td>\n",
       "      <td>132.0</td>\n",
       "      <td>1</td>\n",
       "    </tr>\n",
       "    <tr>\n",
       "      <th>4</th>\n",
       "      <td>5.8</td>\n",
       "      <td>142.0</td>\n",
       "      <td>0</td>\n",
       "    </tr>\n",
       "    <tr>\n",
       "      <th>...</th>\n",
       "      <td>...</td>\n",
       "      <td>...</td>\n",
       "      <td>...</td>\n",
       "    </tr>\n",
       "    <tr>\n",
       "      <th>95</th>\n",
       "      <td>4.3</td>\n",
       "      <td>200.0</td>\n",
       "      <td>0</td>\n",
       "    </tr>\n",
       "    <tr>\n",
       "      <th>96</th>\n",
       "      <td>4.4</td>\n",
       "      <td>42.0</td>\n",
       "      <td>0</td>\n",
       "    </tr>\n",
       "    <tr>\n",
       "      <th>97</th>\n",
       "      <td>6.7</td>\n",
       "      <td>182.0</td>\n",
       "      <td>1</td>\n",
       "    </tr>\n",
       "    <tr>\n",
       "      <th>98</th>\n",
       "      <td>6.3</td>\n",
       "      <td>103.0</td>\n",
       "      <td>1</td>\n",
       "    </tr>\n",
       "    <tr>\n",
       "      <th>99</th>\n",
       "      <td>6.2</td>\n",
       "      <td>113.0</td>\n",
       "      <td>1</td>\n",
       "    </tr>\n",
       "  </tbody>\n",
       "</table>\n",
       "<p>100 rows × 3 columns</p>\n",
       "</div>"
      ],
      "text/plain": [
       "    cgpa     iq  placement\n",
       "0    6.8  123.0          1\n",
       "1    5.9  106.0          0\n",
       "2    5.3  121.0          0\n",
       "3    7.4  132.0          1\n",
       "4    5.8  142.0          0\n",
       "..   ...    ...        ...\n",
       "95   4.3  200.0          0\n",
       "96   4.4   42.0          0\n",
       "97   6.7  182.0          1\n",
       "98   6.3  103.0          1\n",
       "99   6.2  113.0          1\n",
       "\n",
       "[100 rows x 3 columns]"
      ]
     },
     "execution_count": 9,
     "metadata": {},
     "output_type": "execute_result"
    }
   ],
   "source": [
    "df=df.iloc[:,1:4]\n",
    "df"
   ]
  },
  {
   "cell_type": "markdown",
   "id": "dcabc229",
   "metadata": {},
   "source": [
    "## Step -1 To seperate the input columns (i.e features) and output columns"
   ]
  },
  {
   "cell_type": "code",
   "execution_count": 10,
   "id": "653978af",
   "metadata": {},
   "outputs": [
    {
     "data": {
      "text/html": [
       "<div>\n",
       "<style scoped>\n",
       "    .dataframe tbody tr th:only-of-type {\n",
       "        vertical-align: middle;\n",
       "    }\n",
       "\n",
       "    .dataframe tbody tr th {\n",
       "        vertical-align: top;\n",
       "    }\n",
       "\n",
       "    .dataframe thead th {\n",
       "        text-align: right;\n",
       "    }\n",
       "</style>\n",
       "<table border=\"1\" class=\"dataframe\">\n",
       "  <thead>\n",
       "    <tr style=\"text-align: right;\">\n",
       "      <th></th>\n",
       "      <th>cgpa</th>\n",
       "      <th>iq</th>\n",
       "    </tr>\n",
       "  </thead>\n",
       "  <tbody>\n",
       "    <tr>\n",
       "      <th>0</th>\n",
       "      <td>6.8</td>\n",
       "      <td>123.0</td>\n",
       "    </tr>\n",
       "    <tr>\n",
       "      <th>1</th>\n",
       "      <td>5.9</td>\n",
       "      <td>106.0</td>\n",
       "    </tr>\n",
       "    <tr>\n",
       "      <th>2</th>\n",
       "      <td>5.3</td>\n",
       "      <td>121.0</td>\n",
       "    </tr>\n",
       "    <tr>\n",
       "      <th>3</th>\n",
       "      <td>7.4</td>\n",
       "      <td>132.0</td>\n",
       "    </tr>\n",
       "    <tr>\n",
       "      <th>4</th>\n",
       "      <td>5.8</td>\n",
       "      <td>142.0</td>\n",
       "    </tr>\n",
       "    <tr>\n",
       "      <th>...</th>\n",
       "      <td>...</td>\n",
       "      <td>...</td>\n",
       "    </tr>\n",
       "    <tr>\n",
       "      <th>95</th>\n",
       "      <td>4.3</td>\n",
       "      <td>200.0</td>\n",
       "    </tr>\n",
       "    <tr>\n",
       "      <th>96</th>\n",
       "      <td>4.4</td>\n",
       "      <td>42.0</td>\n",
       "    </tr>\n",
       "    <tr>\n",
       "      <th>97</th>\n",
       "      <td>6.7</td>\n",
       "      <td>182.0</td>\n",
       "    </tr>\n",
       "    <tr>\n",
       "      <th>98</th>\n",
       "      <td>6.3</td>\n",
       "      <td>103.0</td>\n",
       "    </tr>\n",
       "    <tr>\n",
       "      <th>99</th>\n",
       "      <td>6.2</td>\n",
       "      <td>113.0</td>\n",
       "    </tr>\n",
       "  </tbody>\n",
       "</table>\n",
       "<p>100 rows × 2 columns</p>\n",
       "</div>"
      ],
      "text/plain": [
       "    cgpa     iq\n",
       "0    6.8  123.0\n",
       "1    5.9  106.0\n",
       "2    5.3  121.0\n",
       "3    7.4  132.0\n",
       "4    5.8  142.0\n",
       "..   ...    ...\n",
       "95   4.3  200.0\n",
       "96   4.4   42.0\n",
       "97   6.7  182.0\n",
       "98   6.3  103.0\n",
       "99   6.2  113.0\n",
       "\n",
       "[100 rows x 2 columns]"
      ]
     },
     "execution_count": 10,
     "metadata": {},
     "output_type": "execute_result"
    }
   ],
   "source": [
    "x=df.iloc[:,0:2]\n",
    "x"
   ]
  },
  {
   "cell_type": "code",
   "execution_count": 11,
   "id": "42b6602e",
   "metadata": {},
   "outputs": [
    {
     "data": {
      "text/html": [
       "<div>\n",
       "<style scoped>\n",
       "    .dataframe tbody tr th:only-of-type {\n",
       "        vertical-align: middle;\n",
       "    }\n",
       "\n",
       "    .dataframe tbody tr th {\n",
       "        vertical-align: top;\n",
       "    }\n",
       "\n",
       "    .dataframe thead th {\n",
       "        text-align: right;\n",
       "    }\n",
       "</style>\n",
       "<table border=\"1\" class=\"dataframe\">\n",
       "  <thead>\n",
       "    <tr style=\"text-align: right;\">\n",
       "      <th></th>\n",
       "      <th>placement</th>\n",
       "    </tr>\n",
       "  </thead>\n",
       "  <tbody>\n",
       "    <tr>\n",
       "      <th>0</th>\n",
       "      <td>1</td>\n",
       "    </tr>\n",
       "    <tr>\n",
       "      <th>1</th>\n",
       "      <td>0</td>\n",
       "    </tr>\n",
       "    <tr>\n",
       "      <th>2</th>\n",
       "      <td>0</td>\n",
       "    </tr>\n",
       "    <tr>\n",
       "      <th>3</th>\n",
       "      <td>1</td>\n",
       "    </tr>\n",
       "    <tr>\n",
       "      <th>4</th>\n",
       "      <td>0</td>\n",
       "    </tr>\n",
       "    <tr>\n",
       "      <th>...</th>\n",
       "      <td>...</td>\n",
       "    </tr>\n",
       "    <tr>\n",
       "      <th>95</th>\n",
       "      <td>0</td>\n",
       "    </tr>\n",
       "    <tr>\n",
       "      <th>96</th>\n",
       "      <td>0</td>\n",
       "    </tr>\n",
       "    <tr>\n",
       "      <th>97</th>\n",
       "      <td>1</td>\n",
       "    </tr>\n",
       "    <tr>\n",
       "      <th>98</th>\n",
       "      <td>1</td>\n",
       "    </tr>\n",
       "    <tr>\n",
       "      <th>99</th>\n",
       "      <td>1</td>\n",
       "    </tr>\n",
       "  </tbody>\n",
       "</table>\n",
       "<p>100 rows × 1 columns</p>\n",
       "</div>"
      ],
      "text/plain": [
       "    placement\n",
       "0           1\n",
       "1           0\n",
       "2           0\n",
       "3           1\n",
       "4           0\n",
       "..        ...\n",
       "95          0\n",
       "96          0\n",
       "97          1\n",
       "98          1\n",
       "99          1\n",
       "\n",
       "[100 rows x 1 columns]"
      ]
     },
     "execution_count": 11,
     "metadata": {},
     "output_type": "execute_result"
    }
   ],
   "source": [
    "y=df.iloc[:,2:]\n",
    "y"
   ]
  },
  {
   "cell_type": "markdown",
   "id": "d96351fd",
   "metadata": {},
   "source": [
    "## Step-2 Scaling the values"
   ]
  },
  {
   "cell_type": "code",
   "execution_count": 12,
   "id": "10a977e9",
   "metadata": {},
   "outputs": [
    {
     "data": {
      "text/plain": [
       "array([[0.67307692, 0.43877551],\n",
       "       [0.5       , 0.35204082],\n",
       "       [0.38461538, 0.42857143],\n",
       "       [0.78846154, 0.48469388],\n",
       "       [0.48076923, 0.53571429],\n",
       "       [0.73076923, 0.05612245],\n",
       "       [0.46153846, 0.54081633],\n",
       "       [0.32692308, 0.13265306],\n",
       "       [0.53846154, 0.60714286],\n",
       "       [0.34615385, 0.14795918],\n",
       "       [0.51923077, 0.04081633],\n",
       "       [0.69230769, 0.51530612],\n",
       "       [0.40384615, 0.52040816],\n",
       "       [0.59615385, 0.40306122],\n",
       "       [0.53846154, 0.33673469],\n",
       "       [0.34615385, 0.70918367],\n",
       "       [0.36538462, 0.95408163],\n",
       "       [0.        , 0.74489796],\n",
       "       [0.13461538, 0.32142857],\n",
       "       [0.36538462, 0.48469388],\n",
       "       [0.63461538, 0.42346939],\n",
       "       [0.73076923, 0.58163265],\n",
       "       [0.30769231, 0.42346939],\n",
       "       [0.26923077, 0.25510204],\n",
       "       [0.26923077, 0.42857143],\n",
       "       [0.32692308, 0.2755102 ],\n",
       "       [0.71153846, 0.82653061],\n",
       "       [0.51923077, 0.44387755],\n",
       "       [0.36538462, 0.27040816],\n",
       "       [0.71153846, 0.38265306],\n",
       "       [0.82692308, 0.46428571],\n",
       "       [0.11538462, 0.36734694],\n",
       "       [0.71153846, 0.52040816],\n",
       "       [0.51923077, 0.57142857],\n",
       "       [0.28846154, 0.64285714],\n",
       "       [0.67307692, 0.27040816],\n",
       "       [0.46153846, 0.5255102 ],\n",
       "       [0.92307692, 0.57142857],\n",
       "       [0.61538462, 0.62755102],\n",
       "       [0.25      , 0.55612245],\n",
       "       [0.30769231, 0.49489796],\n",
       "       [0.40384615, 0.39285714],\n",
       "       [0.82692308, 0.26530612],\n",
       "       [0.67307692, 0.53061224],\n",
       "       [0.80769231, 0.12244898],\n",
       "       [0.51923077, 0.14795918],\n",
       "       [0.38461538, 0.39285714],\n",
       "       [0.36538462, 0.63265306],\n",
       "       [0.63461538, 0.51530612],\n",
       "       [0.40384615, 0.5       ],\n",
       "       [0.03846154, 1.        ],\n",
       "       [0.28846154, 0.53061224],\n",
       "       [0.71153846, 0.70408163],\n",
       "       [0.96153846, 0.66836735],\n",
       "       [0.59615385, 0.53061224],\n",
       "       [0.86538462, 0.39285714],\n",
       "       [0.53846154, 0.14285714],\n",
       "       [0.61538462, 0.4744898 ],\n",
       "       [0.90384615, 0.21428571],\n",
       "       [0.28846154, 0.38265306],\n",
       "       [0.69230769, 0.52040816],\n",
       "       [0.76923077, 0.51020408],\n",
       "       [0.51923077, 0.33163265],\n",
       "       [0.57692308, 0.46428571],\n",
       "       [0.71153846, 0.1377551 ],\n",
       "       [0.92307692, 0.65816327],\n",
       "       [0.69230769, 0.30102041],\n",
       "       [0.32692308, 0.41326531],\n",
       "       [0.13461538, 0.19387755],\n",
       "       [1.        , 0.42346939],\n",
       "       [0.57692308, 0.45918367],\n",
       "       [0.53846154, 0.48469388],\n",
       "       [0.76923077, 0.40306122],\n",
       "       [0.30769231, 0.12244898],\n",
       "       [0.65384615, 0.59693878],\n",
       "       [0.28846154, 0.67346939],\n",
       "       [0.30769231, 0.60204082],\n",
       "       [0.76923077, 0.06632653],\n",
       "       [0.53846154, 0.2244898 ],\n",
       "       [0.61538462, 0.27040816],\n",
       "       [0.30769231, 0.81122449],\n",
       "       [0.40384615, 0.35714286],\n",
       "       [0.61538462, 0.        ],\n",
       "       [0.80769231, 0.4744898 ],\n",
       "       [0.46153846, 0.67346939],\n",
       "       [0.48076923, 0.65816327],\n",
       "       [0.34615385, 0.46428571],\n",
       "       [0.46153846, 0.48469388],\n",
       "       [0.21153846, 0.57142857],\n",
       "       [0.30769231, 0.58163265],\n",
       "       [0.76923077, 0.25      ],\n",
       "       [0.80769231, 0.61734694],\n",
       "       [0.36538462, 0.37244898],\n",
       "       [0.67307692, 0.38265306],\n",
       "       [0.26923077, 0.07653061],\n",
       "       [0.19230769, 0.83163265],\n",
       "       [0.21153846, 0.0255102 ],\n",
       "       [0.65384615, 0.73979592],\n",
       "       [0.57692308, 0.33673469],\n",
       "       [0.55769231, 0.3877551 ]])"
      ]
     },
     "execution_count": 12,
     "metadata": {},
     "output_type": "execute_result"
    }
   ],
   "source": [
    "from sklearn.preprocessing import MinMaxScaler\n",
    "minmaxscaler=MinMaxScaler()\n",
    "x1=minmaxscaler.fit_transform(x)\n",
    "x1"
   ]
  },
  {
   "cell_type": "code",
   "execution_count": 13,
   "id": "23d0200d",
   "metadata": {},
   "outputs": [
    {
     "data": {
      "text/plain": [
       "array([[ 0.71095807, -0.01459341],\n",
       "       [-0.0799718 , -0.44233119],\n",
       "       [-0.60725838, -0.0649155 ],\n",
       "       [ 1.23824465,  0.21185601],\n",
       "       [-0.16785289,  0.46346647],\n",
       "       [ 0.97460136, -1.90167186],\n",
       "       [-0.25573399,  0.48862751],\n",
       "       [-0.87090167, -1.52425617],\n",
       "       [ 0.0957904 ,  0.81572111],\n",
       "       [-0.78302057, -1.44877303],\n",
       "       [ 0.0079093 , -1.977155  ],\n",
       "       [ 0.79883917,  0.36282228],\n",
       "       [-0.51937728,  0.38798333],\n",
       "       [ 0.35943369, -0.19072073],\n",
       "       [ 0.0957904 , -0.51781433],\n",
       "       [-0.78302057,  1.31894203],\n",
       "       [-0.69513948,  2.52667224],\n",
       "       [-2.36488031,  1.49506935],\n",
       "       [-1.74971264, -0.59329747],\n",
       "       [-0.69513948,  0.21185601],\n",
       "       [ 0.53519588, -0.09007654],\n",
       "       [ 0.97460136,  0.68991588],\n",
       "       [-0.95878277, -0.09007654],\n",
       "       [-1.13454496, -0.92039106],\n",
       "       [-1.13454496, -0.0649155 ],\n",
       "       [-0.87090167, -0.81974688],\n",
       "       [ 0.88672027,  1.89764609],\n",
       "       [ 0.0079093 ,  0.01056764],\n",
       "       [-0.69513948, -0.84490793],\n",
       "       [ 0.88672027, -0.29136491],\n",
       "       [ 1.41400685,  0.11121182],\n",
       "       [-1.83759373, -0.36684805],\n",
       "       [ 0.88672027,  0.38798333],\n",
       "       [ 0.0079093 ,  0.63959379],\n",
       "       [-1.04666386,  0.99184843],\n",
       "       [ 0.71095807, -0.84490793],\n",
       "       [-0.25573399,  0.41314438],\n",
       "       [ 1.85341233,  0.63959379],\n",
       "       [ 0.44731478,  0.9163653 ],\n",
       "       [-1.22242606,  0.56411065],\n",
       "       [-0.95878277,  0.2621781 ],\n",
       "       [-0.51937728, -0.24104282],\n",
       "       [ 1.41400685, -0.87006897],\n",
       "       [ 0.71095807,  0.43830542],\n",
       "       [ 1.32612575, -1.57457826],\n",
       "       [ 0.0079093 , -1.44877303],\n",
       "       [-0.60725838, -0.24104282],\n",
       "       [-0.69513948,  0.94152634],\n",
       "       [ 0.53519588,  0.36282228],\n",
       "       [-0.51937728,  0.28733915],\n",
       "       [-2.18911812,  2.75312165],\n",
       "       [-1.04666386,  0.43830542],\n",
       "       [ 0.88672027,  1.29378099],\n",
       "       [ 2.02917452,  1.11765366],\n",
       "       [ 0.35943369,  0.43830542],\n",
       "       [ 1.58976904, -0.24104282],\n",
       "       [ 0.0957904 , -1.47393408],\n",
       "       [ 0.44731478,  0.16153392],\n",
       "       [ 1.76553123, -1.12167943],\n",
       "       [-1.04666386, -0.29136491],\n",
       "       [ 0.79883917,  0.38798333],\n",
       "       [ 1.15036356,  0.33766124],\n",
       "       [ 0.0079093 , -0.54297537],\n",
       "       [ 0.27155259,  0.11121182],\n",
       "       [ 0.88672027, -1.49909512],\n",
       "       [ 1.85341233,  1.06733157],\n",
       "       [ 0.79883917, -0.69394165],\n",
       "       [-0.87090167, -0.14039864],\n",
       "       [-1.74971264, -1.22232362],\n",
       "       [ 2.20493672, -0.09007654],\n",
       "       [ 0.27155259,  0.08605078],\n",
       "       [ 0.0957904 ,  0.21185601],\n",
       "       [ 1.15036356, -0.19072073],\n",
       "       [-0.95878277, -1.57457826],\n",
       "       [ 0.62307698,  0.76539902],\n",
       "       [-1.04666386,  1.14281471],\n",
       "       [-0.95878277,  0.79056007],\n",
       "       [ 1.15036356, -1.85134977],\n",
       "       [ 0.0957904 , -1.07135734],\n",
       "       [ 0.44731478, -0.84490793],\n",
       "       [-0.95878277,  1.82216295],\n",
       "       [-0.51937728, -0.41717014],\n",
       "       [ 0.44731478, -2.17844336],\n",
       "       [ 1.32612575,  0.16153392],\n",
       "       [-0.25573399,  1.14281471],\n",
       "       [-0.16785289,  1.06733157],\n",
       "       [-0.78302057,  0.11121182],\n",
       "       [-0.25573399,  0.21185601],\n",
       "       [-1.39818825,  0.63959379],\n",
       "       [-0.95878277,  0.68991588],\n",
       "       [ 1.15036356, -0.94555211],\n",
       "       [ 1.32612575,  0.8660432 ],\n",
       "       [-0.69513948, -0.341687  ],\n",
       "       [ 0.71095807, -0.29136491],\n",
       "       [-1.13454496, -1.80102767],\n",
       "       [-1.48606935,  1.92280714],\n",
       "       [-1.39818825, -2.05263813],\n",
       "       [ 0.62307698,  1.46990831],\n",
       "       [ 0.27155259, -0.51781433],\n",
       "       [ 0.18367149, -0.26620387]])"
      ]
     },
     "execution_count": 13,
     "metadata": {},
     "output_type": "execute_result"
    }
   ],
   "source": [
    "from sklearn.preprocessing import StandardScaler\n",
    "scale = StandardScaler()\n",
    "x2=scale.fit_transform(x)\n",
    "x2"
   ]
  },
  {
   "cell_type": "code",
   "execution_count": 14,
   "id": "ab178406",
   "metadata": {},
   "outputs": [],
   "source": [
    "# Step-3 Train-test split"
   ]
  },
  {
   "cell_type": "code",
   "execution_count": 15,
   "id": "c8a72a54",
   "metadata": {
    "scrolled": false
   },
   "outputs": [],
   "source": [
    "from sklearn.model_selection import train_test_split\n",
    "x1_train,x1_test,y1_train,y1_test=train_test_split(x1,y,train_size=0.9)"
   ]
  },
  {
   "cell_type": "code",
   "execution_count": 16,
   "id": "6df04676",
   "metadata": {},
   "outputs": [],
   "source": [
    "from sklearn.model_selection import train_test_split\n",
    "x2_train,x2_test,y2_train,y2_test=train_test_split(x2,y,train_size=0.9)"
   ]
  },
  {
   "cell_type": "code",
   "execution_count": 17,
   "id": "ec648dd8",
   "metadata": {},
   "outputs": [],
   "source": [
    "#Step-4 Model tarining using logistic regression"
   ]
  },
  {
   "cell_type": "code",
   "execution_count": 18,
   "id": "0aa93749",
   "metadata": {},
   "outputs": [],
   "source": [
    "from sklearn.linear_model import LogisticRegression\n",
    "clf = LogisticRegression()"
   ]
  },
  {
   "cell_type": "code",
   "execution_count": 19,
   "id": "59e30aee",
   "metadata": {},
   "outputs": [
    {
     "name": "stderr",
     "output_type": "stream",
     "text": [
      "C:\\Python anaconda setip 2.0\\Lib\\site-packages\\sklearn\\utils\\validation.py:1184: DataConversionWarning: A column-vector y was passed when a 1d array was expected. Please change the shape of y to (n_samples, ), for example using ravel().\n",
      "  y = column_or_1d(y, warn=True)\n"
     ]
    },
    {
     "data": {
      "text/html": [
       "<style>#sk-container-id-1 {color: black;}#sk-container-id-1 pre{padding: 0;}#sk-container-id-1 div.sk-toggleable {background-color: white;}#sk-container-id-1 label.sk-toggleable__label {cursor: pointer;display: block;width: 100%;margin-bottom: 0;padding: 0.3em;box-sizing: border-box;text-align: center;}#sk-container-id-1 label.sk-toggleable__label-arrow:before {content: \"▸\";float: left;margin-right: 0.25em;color: #696969;}#sk-container-id-1 label.sk-toggleable__label-arrow:hover:before {color: black;}#sk-container-id-1 div.sk-estimator:hover label.sk-toggleable__label-arrow:before {color: black;}#sk-container-id-1 div.sk-toggleable__content {max-height: 0;max-width: 0;overflow: hidden;text-align: left;background-color: #f0f8ff;}#sk-container-id-1 div.sk-toggleable__content pre {margin: 0.2em;color: black;border-radius: 0.25em;background-color: #f0f8ff;}#sk-container-id-1 input.sk-toggleable__control:checked~div.sk-toggleable__content {max-height: 200px;max-width: 100%;overflow: auto;}#sk-container-id-1 input.sk-toggleable__control:checked~label.sk-toggleable__label-arrow:before {content: \"▾\";}#sk-container-id-1 div.sk-estimator input.sk-toggleable__control:checked~label.sk-toggleable__label {background-color: #d4ebff;}#sk-container-id-1 div.sk-label input.sk-toggleable__control:checked~label.sk-toggleable__label {background-color: #d4ebff;}#sk-container-id-1 input.sk-hidden--visually {border: 0;clip: rect(1px 1px 1px 1px);clip: rect(1px, 1px, 1px, 1px);height: 1px;margin: -1px;overflow: hidden;padding: 0;position: absolute;width: 1px;}#sk-container-id-1 div.sk-estimator {font-family: monospace;background-color: #f0f8ff;border: 1px dotted black;border-radius: 0.25em;box-sizing: border-box;margin-bottom: 0.5em;}#sk-container-id-1 div.sk-estimator:hover {background-color: #d4ebff;}#sk-container-id-1 div.sk-parallel-item::after {content: \"\";width: 100%;border-bottom: 1px solid gray;flex-grow: 1;}#sk-container-id-1 div.sk-label:hover label.sk-toggleable__label {background-color: #d4ebff;}#sk-container-id-1 div.sk-serial::before {content: \"\";position: absolute;border-left: 1px solid gray;box-sizing: border-box;top: 0;bottom: 0;left: 50%;z-index: 0;}#sk-container-id-1 div.sk-serial {display: flex;flex-direction: column;align-items: center;background-color: white;padding-right: 0.2em;padding-left: 0.2em;position: relative;}#sk-container-id-1 div.sk-item {position: relative;z-index: 1;}#sk-container-id-1 div.sk-parallel {display: flex;align-items: stretch;justify-content: center;background-color: white;position: relative;}#sk-container-id-1 div.sk-item::before, #sk-container-id-1 div.sk-parallel-item::before {content: \"\";position: absolute;border-left: 1px solid gray;box-sizing: border-box;top: 0;bottom: 0;left: 50%;z-index: -1;}#sk-container-id-1 div.sk-parallel-item {display: flex;flex-direction: column;z-index: 1;position: relative;background-color: white;}#sk-container-id-1 div.sk-parallel-item:first-child::after {align-self: flex-end;width: 50%;}#sk-container-id-1 div.sk-parallel-item:last-child::after {align-self: flex-start;width: 50%;}#sk-container-id-1 div.sk-parallel-item:only-child::after {width: 0;}#sk-container-id-1 div.sk-dashed-wrapped {border: 1px dashed gray;margin: 0 0.4em 0.5em 0.4em;box-sizing: border-box;padding-bottom: 0.4em;background-color: white;}#sk-container-id-1 div.sk-label label {font-family: monospace;font-weight: bold;display: inline-block;line-height: 1.2em;}#sk-container-id-1 div.sk-label-container {text-align: center;}#sk-container-id-1 div.sk-container {/* jupyter's `normalize.less` sets `[hidden] { display: none; }` but bootstrap.min.css set `[hidden] { display: none !important; }` so we also need the `!important` here to be able to override the default hidden behavior on the sphinx rendered scikit-learn.org. See: https://github.com/scikit-learn/scikit-learn/issues/21755 */display: inline-block !important;position: relative;}#sk-container-id-1 div.sk-text-repr-fallback {display: none;}</style><div id=\"sk-container-id-1\" class=\"sk-top-container\"><div class=\"sk-text-repr-fallback\"><pre>LogisticRegression()</pre><b>In a Jupyter environment, please rerun this cell to show the HTML representation or trust the notebook. <br />On GitHub, the HTML representation is unable to render, please try loading this page with nbviewer.org.</b></div><div class=\"sk-container\" hidden><div class=\"sk-item\"><div class=\"sk-estimator sk-toggleable\"><input class=\"sk-toggleable__control sk-hidden--visually\" id=\"sk-estimator-id-1\" type=\"checkbox\" checked><label for=\"sk-estimator-id-1\" class=\"sk-toggleable__label sk-toggleable__label-arrow\">LogisticRegression</label><div class=\"sk-toggleable__content\"><pre>LogisticRegression()</pre></div></div></div></div></div>"
      ],
      "text/plain": [
       "LogisticRegression()"
      ]
     },
     "execution_count": 19,
     "metadata": {},
     "output_type": "execute_result"
    }
   ],
   "source": [
    "clf.fit(x1_train,y1_train)"
   ]
  },
  {
   "cell_type": "code",
   "execution_count": 26,
   "id": "67418aa5",
   "metadata": {},
   "outputs": [
    {
     "data": {
      "text/plain": [
       "array([1, 0, 0, 0, 1, 0, 0, 1, 0, 0], dtype=int64)"
      ]
     },
     "execution_count": 26,
     "metadata": {},
     "output_type": "execute_result"
    }
   ],
   "source": [
    "y_predict=clf.predict(x2_test)\n",
    "y_predict"
   ]
  },
  {
   "cell_type": "code",
   "execution_count": 27,
   "id": "76fd71ae",
   "metadata": {},
   "outputs": [
    {
     "data": {
      "text/plain": [
       "array([[1],\n",
       "       [0],\n",
       "       [0],\n",
       "       [0],\n",
       "       [1],\n",
       "       [0],\n",
       "       [0],\n",
       "       [1],\n",
       "       [0],\n",
       "       [0]], dtype=int64)"
      ]
     },
     "execution_count": 27,
     "metadata": {},
     "output_type": "execute_result"
    }
   ],
   "source": [
    "y2_test.values"
   ]
  },
  {
   "cell_type": "code",
   "execution_count": 29,
   "id": "3c91c50f",
   "metadata": {},
   "outputs": [
    {
     "data": {
      "text/plain": [
       "1.0"
      ]
     },
     "execution_count": 29,
     "metadata": {},
     "output_type": "execute_result"
    }
   ],
   "source": [
    "#Checking the accuracy score\n",
    "from sklearn.metrics import accuracy_score\n",
    "accuracy_score(y2_test,y_predict)"
   ]
  },
  {
   "cell_type": "code",
   "execution_count": 30,
   "id": "11b055d4",
   "metadata": {},
   "outputs": [],
   "source": [
    "#plotting the decition boundary"
   ]
  },
  {
   "cell_type": "code",
   "execution_count": 32,
   "id": "f7c26dd1",
   "metadata": {},
   "outputs": [
    {
     "data": {
      "text/plain": [
       "<Axes: >"
      ]
     },
     "execution_count": 32,
     "metadata": {},
     "output_type": "execute_result"
    },
    {
     "data": {
      "image/png": "[encoded data removed]",
      "text/plain": [
       "<Figure size 640x480 with 1 Axes>"
      ]
     },
     "metadata": {},
     "output_type": "display_data"
    }
   ],
   "source": [
    "from mlxtend.plotting import plot_decision_regions\n",
    "plot_decision_regions(x2_train,y2_train.values.flatten(),clf=clf,legend=2)\n"
   ]
  }
 ],
 "metadata": {
  "kernelspec": {
   "display_name": "Python 3 (ipykernel)",
   "language": "python",
   "name": "python3"
  },
  "language_info": {
   "codemirror_mode": {
    "name": "ipython",
    "version": 3
   },
   "file_extension": ".py",
   "mimetype": "text/x-python",
   "name": "python",
   "nbconvert_exporter": "python",
   "pygments_lexer": "ipython3",
   "version": "3.11.5"
  }
 },
 "nbformat": 4,
 "nbformat_minor": 5
}

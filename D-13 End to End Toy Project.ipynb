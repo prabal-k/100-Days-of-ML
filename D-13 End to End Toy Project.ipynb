{
 "cells": [
  {
   "cell_type": "code",
   "execution_count": 1,
   "id": "a954c3d9",
   "metadata": {},
   "outputs": [],
   "source": [
    "import pandas as pd\n",
    "import numpy as np\n",
    "import matplotlib.pyplot as plt\n",
    "import seaborn as sns"
   ]
  },
  {
   "cell_type": "code",
   "execution_count": 2,
   "id": "f3774b4c",
   "metadata": {},
   "outputs": [],
   "source": [
    "df = pd.read_csv('Data-sets/placement.csv')"
   ]
  },
  {
   "cell_type": "code",
   "execution_count": 3,
   "id": "cc164f54",
   "metadata": {},
   "outputs": [
    {
     "data": {
      "text/html": [
       "<div>\n",
       "<style scoped>\n",
       "    .dataframe tbody tr th:only-of-type {\n",
       "        vertical-align: middle;\n",
       "    }\n",
       "\n",
       "    .dataframe tbody tr th {\n",
       "        vertical-align: top;\n",
       "    }\n",
       "\n",
       "    .dataframe thead th {\n",
       "        text-align: right;\n",
       "    }\n",
       "</style>\n",
       "<table border=\"1\" class=\"dataframe\">\n",
       "  <thead>\n",
       "    <tr style=\"text-align: right;\">\n",
       "      <th></th>\n",
       "      <th>Unnamed: 0</th>\n",
       "      <th>cgpa</th>\n",
       "      <th>iq</th>\n",
       "      <th>placement</th>\n",
       "    </tr>\n",
       "  </thead>\n",
       "  <tbody>\n",
       "    <tr>\n",
       "      <th>0</th>\n",
       "      <td>0</td>\n",
       "      <td>6.8</td>\n",
       "      <td>123.0</td>\n",
       "      <td>1</td>\n",
       "    </tr>\n",
       "    <tr>\n",
       "      <th>1</th>\n",
       "      <td>1</td>\n",
       "      <td>5.9</td>\n",
       "      <td>106.0</td>\n",
       "      <td>0</td>\n",
       "    </tr>\n",
       "    <tr>\n",
       "      <th>2</th>\n",
       "      <td>2</td>\n",
       "      <td>5.3</td>\n",
       "      <td>121.0</td>\n",
       "      <td>0</td>\n",
       "    </tr>\n",
       "    <tr>\n",
       "      <th>3</th>\n",
       "      <td>3</td>\n",
       "      <td>7.4</td>\n",
       "      <td>132.0</td>\n",
       "      <td>1</td>\n",
       "    </tr>\n",
       "    <tr>\n",
       "      <th>4</th>\n",
       "      <td>4</td>\n",
       "      <td>5.8</td>\n",
       "      <td>142.0</td>\n",
       "      <td>0</td>\n",
       "    </tr>\n",
       "  </tbody>\n",
       "</table>\n",
       "</div>"
      ],
      "text/plain": [
       "   Unnamed: 0  cgpa     iq  placement\n",
       "0           0   6.8  123.0          1\n",
       "1           1   5.9  106.0          0\n",
       "2           2   5.3  121.0          0\n",
       "3           3   7.4  132.0          1\n",
       "4           4   5.8  142.0          0"
      ]
     },
     "execution_count": 3,
     "metadata": {},
     "output_type": "execute_result"
    }
   ],
   "source": [
    "df.head()"
   ]
  },
  {
   "cell_type": "code",
   "execution_count": 4,
   "id": "7fedde7c",
   "metadata": {},
   "outputs": [
    {
     "name": "stdout",
     "output_type": "stream",
     "text": [
      "<class 'pandas.core.frame.DataFrame'>\n",
      "RangeIndex: 100 entries, 0 to 99\n",
      "Data columns (total 4 columns):\n",
      " #   Column      Non-Null Count  Dtype  \n",
      "---  ------      --------------  -----  \n",
      " 0   Unnamed: 0  100 non-null    int64  \n",
      " 1   cgpa        100 non-null    float64\n",
      " 2   iq          100 non-null    float64\n",
      " 3   placement   100 non-null    int64  \n",
      "dtypes: float64(2), int64(2)\n",
      "memory usage: 3.3 KB\n"
     ]
    }
   ],
   "source": [
    "df.info()"
   ]
  },
  {
   "cell_type": "code",
   "execution_count": 5,
   "id": "fc9d92c2",
   "metadata": {},
   "outputs": [
    {
     "data": {
      "text/plain": [
       "Unnamed: 0    0\n",
       "cgpa          0\n",
       "iq            0\n",
       "placement     0\n",
       "dtype: int64"
      ]
     },
     "execution_count": 5,
     "metadata": {},
     "output_type": "execute_result"
    }
   ],
   "source": [
    "df.isnull().sum()"
   ]
  },
  {
   "cell_type": "code",
   "execution_count": 6,
   "id": "9f87d78b",
   "metadata": {},
   "outputs": [
    {
     "data": {
      "text/plain": [
       "(100, 4)"
      ]
     },
     "execution_count": 6,
     "metadata": {},
     "output_type": "execute_result"
    }
   ],
   "source": [
    "df.shape"
   ]
  },
  {
   "cell_type": "markdown",
   "id": "4108fd34",
   "metadata": {},
   "source": [
    "# Steps :\n",
    "# 1.Preprocess + EDA + Feature selection\n",
    "# 2.Extract input and output cols\n",
    "# 3.Scale the values\n",
    "# 4.Train test split (also known as cross validation)\n",
    "# 5.Train the model\n",
    "# 6.Evaluate the model / Model selection\n",
    "# 7.Deploy the model"
   ]
  },
  {
   "cell_type": "code",
   "execution_count": null,
   "id": "12f5445b",
   "metadata": {},
   "outputs": [],
   "source": []
  },
  {
   "cell_type": "code",
   "execution_count": 7,
   "id": "8d45650e",
   "metadata": {},
   "outputs": [
    {
     "data": {
      "text/plain": [
       "(100, 4)"
      ]
     },
     "execution_count": 7,
     "metadata": {},
     "output_type": "execute_result"
    }
   ],
   "source": [
    "df.shape"
   ]
  },
  {
   "cell_type": "code",
   "execution_count": 8,
   "id": "d718a7f3",
   "metadata": {},
   "outputs": [
    {
     "data": {
      "text/html": [
       "<div>\n",
       "<style scoped>\n",
       "    .dataframe tbody tr th:only-of-type {\n",
       "        vertical-align: middle;\n",
       "    }\n",
       "\n",
       "    .dataframe tbody tr th {\n",
       "        vertical-align: top;\n",
       "    }\n",
       "\n",
       "    .dataframe thead th {\n",
       "        text-align: right;\n",
       "    }\n",
       "</style>\n",
       "<table border=\"1\" class=\"dataframe\">\n",
       "  <thead>\n",
       "    <tr style=\"text-align: right;\">\n",
       "      <th></th>\n",
       "      <th>Unnamed: 0</th>\n",
       "      <th>cgpa</th>\n",
       "      <th>iq</th>\n",
       "      <th>placement</th>\n",
       "    </tr>\n",
       "  </thead>\n",
       "  <tbody>\n",
       "    <tr>\n",
       "      <th>0</th>\n",
       "      <td>0</td>\n",
       "      <td>6.8</td>\n",
       "      <td>123.0</td>\n",
       "      <td>1</td>\n",
       "    </tr>\n",
       "    <tr>\n",
       "      <th>1</th>\n",
       "      <td>1</td>\n",
       "      <td>5.9</td>\n",
       "      <td>106.0</td>\n",
       "      <td>0</td>\n",
       "    </tr>\n",
       "    <tr>\n",
       "      <th>2</th>\n",
       "      <td>2</td>\n",
       "      <td>5.3</td>\n",
       "      <td>121.0</td>\n",
       "      <td>0</td>\n",
       "    </tr>\n",
       "    <tr>\n",
       "      <th>3</th>\n",
       "      <td>3</td>\n",
       "      <td>7.4</td>\n",
       "      <td>132.0</td>\n",
       "      <td>1</td>\n",
       "    </tr>\n",
       "    <tr>\n",
       "      <th>4</th>\n",
       "      <td>4</td>\n",
       "      <td>5.8</td>\n",
       "      <td>142.0</td>\n",
       "      <td>0</td>\n",
       "    </tr>\n",
       "    <tr>\n",
       "      <th>...</th>\n",
       "      <td>...</td>\n",
       "      <td>...</td>\n",
       "      <td>...</td>\n",
       "      <td>...</td>\n",
       "    </tr>\n",
       "    <tr>\n",
       "      <th>95</th>\n",
       "      <td>95</td>\n",
       "      <td>4.3</td>\n",
       "      <td>200.0</td>\n",
       "      <td>0</td>\n",
       "    </tr>\n",
       "    <tr>\n",
       "      <th>96</th>\n",
       "      <td>96</td>\n",
       "      <td>4.4</td>\n",
       "      <td>42.0</td>\n",
       "      <td>0</td>\n",
       "    </tr>\n",
       "    <tr>\n",
       "      <th>97</th>\n",
       "      <td>97</td>\n",
       "      <td>6.7</td>\n",
       "      <td>182.0</td>\n",
       "      <td>1</td>\n",
       "    </tr>\n",
       "    <tr>\n",
       "      <th>98</th>\n",
       "      <td>98</td>\n",
       "      <td>6.3</td>\n",
       "      <td>103.0</td>\n",
       "      <td>1</td>\n",
       "    </tr>\n",
       "    <tr>\n",
       "      <th>99</th>\n",
       "      <td>99</td>\n",
       "      <td>6.2</td>\n",
       "      <td>113.0</td>\n",
       "      <td>1</td>\n",
       "    </tr>\n",
       "  </tbody>\n",
       "</table>\n",
       "<p>100 rows × 4 columns</p>\n",
       "</div>"
      ],
      "text/plain": [
       "    Unnamed: 0  cgpa     iq  placement\n",
       "0            0   6.8  123.0          1\n",
       "1            1   5.9  106.0          0\n",
       "2            2   5.3  121.0          0\n",
       "3            3   7.4  132.0          1\n",
       "4            4   5.8  142.0          0\n",
       "..         ...   ...    ...        ...\n",
       "95          95   4.3  200.0          0\n",
       "96          96   4.4   42.0          0\n",
       "97          97   6.7  182.0          1\n",
       "98          98   6.3  103.0          1\n",
       "99          99   6.2  113.0          1\n",
       "\n",
       "[100 rows x 4 columns]"
      ]
     },
     "execution_count": 8,
     "metadata": {},
     "output_type": "execute_result"
    }
   ],
   "source": [
    "df"
   ]
  },
  {
   "cell_type": "code",
   "execution_count": 9,
   "id": "16fe5c35",
   "metadata": {},
   "outputs": [
    {
     "data": {
      "text/plain": [
       "Unnamed: 0    0.0\n",
       "cgpa          0.0\n",
       "iq            0.0\n",
       "placement     0.0\n",
       "dtype: float64"
      ]
     },
     "execution_count": 9,
     "metadata": {},
     "output_type": "execute_result"
    }
   ],
   "source": [
    "(df.isnull().sum() / df.shape[0] )*100"
   ]
  },
  {
   "cell_type": "code",
   "execution_count": 10,
   "id": "a6d154e2",
   "metadata": {
    "scrolled": false
   },
   "outputs": [],
   "source": [
    "#Removing the unnecessary column (Unnamed: 0)\n",
    "df=df.drop(columns=['Unnamed: 0'])"
   ]
  },
  {
   "cell_type": "code",
   "execution_count": 11,
   "id": "e0ba6d71",
   "metadata": {},
   "outputs": [
    {
     "data": {
      "text/html": [
       "<div>\n",
       "<style scoped>\n",
       "    .dataframe tbody tr th:only-of-type {\n",
       "        vertical-align: middle;\n",
       "    }\n",
       "\n",
       "    .dataframe tbody tr th {\n",
       "        vertical-align: top;\n",
       "    }\n",
       "\n",
       "    .dataframe thead th {\n",
       "        text-align: right;\n",
       "    }\n",
       "</style>\n",
       "<table border=\"1\" class=\"dataframe\">\n",
       "  <thead>\n",
       "    <tr style=\"text-align: right;\">\n",
       "      <th></th>\n",
       "      <th>cgpa</th>\n",
       "      <th>iq</th>\n",
       "      <th>placement</th>\n",
       "    </tr>\n",
       "  </thead>\n",
       "  <tbody>\n",
       "    <tr>\n",
       "      <th>0</th>\n",
       "      <td>6.8</td>\n",
       "      <td>123.0</td>\n",
       "      <td>1</td>\n",
       "    </tr>\n",
       "    <tr>\n",
       "      <th>1</th>\n",
       "      <td>5.9</td>\n",
       "      <td>106.0</td>\n",
       "      <td>0</td>\n",
       "    </tr>\n",
       "    <tr>\n",
       "      <th>2</th>\n",
       "      <td>5.3</td>\n",
       "      <td>121.0</td>\n",
       "      <td>0</td>\n",
       "    </tr>\n",
       "    <tr>\n",
       "      <th>3</th>\n",
       "      <td>7.4</td>\n",
       "      <td>132.0</td>\n",
       "      <td>1</td>\n",
       "    </tr>\n",
       "    <tr>\n",
       "      <th>4</th>\n",
       "      <td>5.8</td>\n",
       "      <td>142.0</td>\n",
       "      <td>0</td>\n",
       "    </tr>\n",
       "    <tr>\n",
       "      <th>...</th>\n",
       "      <td>...</td>\n",
       "      <td>...</td>\n",
       "      <td>...</td>\n",
       "    </tr>\n",
       "    <tr>\n",
       "      <th>95</th>\n",
       "      <td>4.3</td>\n",
       "      <td>200.0</td>\n",
       "      <td>0</td>\n",
       "    </tr>\n",
       "    <tr>\n",
       "      <th>96</th>\n",
       "      <td>4.4</td>\n",
       "      <td>42.0</td>\n",
       "      <td>0</td>\n",
       "    </tr>\n",
       "    <tr>\n",
       "      <th>97</th>\n",
       "      <td>6.7</td>\n",
       "      <td>182.0</td>\n",
       "      <td>1</td>\n",
       "    </tr>\n",
       "    <tr>\n",
       "      <th>98</th>\n",
       "      <td>6.3</td>\n",
       "      <td>103.0</td>\n",
       "      <td>1</td>\n",
       "    </tr>\n",
       "    <tr>\n",
       "      <th>99</th>\n",
       "      <td>6.2</td>\n",
       "      <td>113.0</td>\n",
       "      <td>1</td>\n",
       "    </tr>\n",
       "  </tbody>\n",
       "</table>\n",
       "<p>100 rows × 3 columns</p>\n",
       "</div>"
      ],
      "text/plain": [
       "    cgpa     iq  placement\n",
       "0    6.8  123.0          1\n",
       "1    5.9  106.0          0\n",
       "2    5.3  121.0          0\n",
       "3    7.4  132.0          1\n",
       "4    5.8  142.0          0\n",
       "..   ...    ...        ...\n",
       "95   4.3  200.0          0\n",
       "96   4.4   42.0          0\n",
       "97   6.7  182.0          1\n",
       "98   6.3  103.0          1\n",
       "99   6.2  113.0          1\n",
       "\n",
       "[100 rows x 3 columns]"
      ]
     },
     "execution_count": 11,
     "metadata": {},
     "output_type": "execute_result"
    }
   ],
   "source": [
    "df"
   ]
  },
  {
   "cell_type": "markdown",
   "id": "9efe2ac6",
   "metadata": {},
   "source": [
    "# EDA"
   ]
  },
  {
   "cell_type": "code",
   "execution_count": 12,
   "id": "7fb4bf8b",
   "metadata": {},
   "outputs": [
    {
     "name": "stderr",
     "output_type": "stream",
     "text": [
      "C:\\Python anaconda setip 2.0\\Lib\\site-packages\\seaborn\\axisgrid.py:118: UserWarning: The figure layout has changed to tight\n",
      "  self._figure.tight_layout(*args, **kwargs)\n"
     ]
    },
    {
     "data": {
      "text/plain": [
       "<seaborn.axisgrid.FacetGrid at 0x1ceab55e6d0>"
      ]
     },
     "execution_count": 12,
     "metadata": {},
     "output_type": "execute_result"
    },
    {
     "data": {
      "image/png": "[encoded data removed]",
      "text/plain": [
       "<Figure size 584.861x500 with 1 Axes>"
      ]
     },
     "metadata": {},
     "output_type": "display_data"
    }
   ],
   "source": [
    "sns.relplot(kind='scatter',x='cgpa',y='iq',data=df,hue='placement')"
   ]
  },
  {
   "cell_type": "code",
   "execution_count": 13,
   "id": "63e00fe6",
   "metadata": {},
   "outputs": [],
   "source": [
    "# here cgpa and iq are independent variable and placement is an dependent variable as placement depends upon cgpa and iq"
   ]
  },
  {
   "cell_type": "markdown",
   "id": "82c8fe04",
   "metadata": {},
   "source": [
    "# 2.Extract input and output cols\n"
   ]
  },
  {
   "cell_type": "code",
   "execution_count": 14,
   "id": "f1f92e50",
   "metadata": {},
   "outputs": [],
   "source": [
    "# iloc and loc method are used for extracting data from a panda dataframe\n",
    "# 1.loc :\n",
    "#     loc is used to access a group of rows and columns by label(s)\n",
    "#     for eg : df.loc[:,['cgpa','iq']]\n",
    "#         i.e it selects all the rows of data set set and 2 columns 'iq' and 'cgpa'\n",
    "\n",
    "# 2.iloc :\n",
    "#     iloc is used for integer-location based indexing\n",
    "#     for eg : df.iloc(:,0:2)\n",
    "#                 i.e it selects all the rows of data set set and 2 columns ie 0th and 1st\n"
   ]
  },
  {
   "cell_type": "code",
   "execution_count": 15,
   "id": "9ff8f442",
   "metadata": {},
   "outputs": [
    {
     "data": {
      "text/html": [
       "<div>\n",
       "<style scoped>\n",
       "    .dataframe tbody tr th:only-of-type {\n",
       "        vertical-align: middle;\n",
       "    }\n",
       "\n",
       "    .dataframe tbody tr th {\n",
       "        vertical-align: top;\n",
       "    }\n",
       "\n",
       "    .dataframe thead th {\n",
       "        text-align: right;\n",
       "    }\n",
       "</style>\n",
       "<table border=\"1\" class=\"dataframe\">\n",
       "  <thead>\n",
       "    <tr style=\"text-align: right;\">\n",
       "      <th></th>\n",
       "      <th>cgpa</th>\n",
       "      <th>iq</th>\n",
       "    </tr>\n",
       "  </thead>\n",
       "  <tbody>\n",
       "    <tr>\n",
       "      <th>0</th>\n",
       "      <td>6.8</td>\n",
       "      <td>123.0</td>\n",
       "    </tr>\n",
       "    <tr>\n",
       "      <th>1</th>\n",
       "      <td>5.9</td>\n",
       "      <td>106.0</td>\n",
       "    </tr>\n",
       "    <tr>\n",
       "      <th>2</th>\n",
       "      <td>5.3</td>\n",
       "      <td>121.0</td>\n",
       "    </tr>\n",
       "    <tr>\n",
       "      <th>3</th>\n",
       "      <td>7.4</td>\n",
       "      <td>132.0</td>\n",
       "    </tr>\n",
       "    <tr>\n",
       "      <th>4</th>\n",
       "      <td>5.8</td>\n",
       "      <td>142.0</td>\n",
       "    </tr>\n",
       "    <tr>\n",
       "      <th>...</th>\n",
       "      <td>...</td>\n",
       "      <td>...</td>\n",
       "    </tr>\n",
       "    <tr>\n",
       "      <th>95</th>\n",
       "      <td>4.3</td>\n",
       "      <td>200.0</td>\n",
       "    </tr>\n",
       "    <tr>\n",
       "      <th>96</th>\n",
       "      <td>4.4</td>\n",
       "      <td>42.0</td>\n",
       "    </tr>\n",
       "    <tr>\n",
       "      <th>97</th>\n",
       "      <td>6.7</td>\n",
       "      <td>182.0</td>\n",
       "    </tr>\n",
       "    <tr>\n",
       "      <th>98</th>\n",
       "      <td>6.3</td>\n",
       "      <td>103.0</td>\n",
       "    </tr>\n",
       "    <tr>\n",
       "      <th>99</th>\n",
       "      <td>6.2</td>\n",
       "      <td>113.0</td>\n",
       "    </tr>\n",
       "  </tbody>\n",
       "</table>\n",
       "<p>100 rows × 2 columns</p>\n",
       "</div>"
      ],
      "text/plain": [
       "    cgpa     iq\n",
       "0    6.8  123.0\n",
       "1    5.9  106.0\n",
       "2    5.3  121.0\n",
       "3    7.4  132.0\n",
       "4    5.8  142.0\n",
       "..   ...    ...\n",
       "95   4.3  200.0\n",
       "96   4.4   42.0\n",
       "97   6.7  182.0\n",
       "98   6.3  103.0\n",
       "99   6.2  113.0\n",
       "\n",
       "[100 rows x 2 columns]"
      ]
     },
     "execution_count": 15,
     "metadata": {},
     "output_type": "execute_result"
    }
   ],
   "source": [
    "#Extracting the inputs columns i.e iq and cgpa\n",
    "x= df.iloc[:,0:2]   #df[[iq,cgpa]]\n",
    "x"
   ]
  },
  {
   "cell_type": "code",
   "execution_count": 16,
   "id": "f7d4cf74",
   "metadata": {},
   "outputs": [
    {
     "data": {
      "text/html": [
       "<div>\n",
       "<style scoped>\n",
       "    .dataframe tbody tr th:only-of-type {\n",
       "        vertical-align: middle;\n",
       "    }\n",
       "\n",
       "    .dataframe tbody tr th {\n",
       "        vertical-align: top;\n",
       "    }\n",
       "\n",
       "    .dataframe thead th {\n",
       "        text-align: right;\n",
       "    }\n",
       "</style>\n",
       "<table border=\"1\" class=\"dataframe\">\n",
       "  <thead>\n",
       "    <tr style=\"text-align: right;\">\n",
       "      <th></th>\n",
       "      <th>placement</th>\n",
       "    </tr>\n",
       "  </thead>\n",
       "  <tbody>\n",
       "    <tr>\n",
       "      <th>0</th>\n",
       "      <td>1</td>\n",
       "    </tr>\n",
       "    <tr>\n",
       "      <th>1</th>\n",
       "      <td>0</td>\n",
       "    </tr>\n",
       "    <tr>\n",
       "      <th>2</th>\n",
       "      <td>0</td>\n",
       "    </tr>\n",
       "    <tr>\n",
       "      <th>3</th>\n",
       "      <td>1</td>\n",
       "    </tr>\n",
       "    <tr>\n",
       "      <th>4</th>\n",
       "      <td>0</td>\n",
       "    </tr>\n",
       "    <tr>\n",
       "      <th>...</th>\n",
       "      <td>...</td>\n",
       "    </tr>\n",
       "    <tr>\n",
       "      <th>95</th>\n",
       "      <td>0</td>\n",
       "    </tr>\n",
       "    <tr>\n",
       "      <th>96</th>\n",
       "      <td>0</td>\n",
       "    </tr>\n",
       "    <tr>\n",
       "      <th>97</th>\n",
       "      <td>1</td>\n",
       "    </tr>\n",
       "    <tr>\n",
       "      <th>98</th>\n",
       "      <td>1</td>\n",
       "    </tr>\n",
       "    <tr>\n",
       "      <th>99</th>\n",
       "      <td>1</td>\n",
       "    </tr>\n",
       "  </tbody>\n",
       "</table>\n",
       "<p>100 rows × 1 columns</p>\n",
       "</div>"
      ],
      "text/plain": [
       "    placement\n",
       "0           1\n",
       "1           0\n",
       "2           0\n",
       "3           1\n",
       "4           0\n",
       "..        ...\n",
       "95          0\n",
       "96          0\n",
       "97          1\n",
       "98          1\n",
       "99          1\n",
       "\n",
       "[100 rows x 1 columns]"
      ]
     },
     "execution_count": 16,
     "metadata": {},
     "output_type": "execute_result"
    }
   ],
   "source": [
    "#Extracting the outputs columns\n",
    "y=df.iloc[:,2:]\n",
    "y"
   ]
  },
  {
   "cell_type": "markdown",
   "id": "c34e0ae9",
   "metadata": {},
   "source": [
    "# 4.Train test split (also known as cross validation)\n"
   ]
  },
  {
   "cell_type": "code",
   "execution_count": 17,
   "id": "c18a9671",
   "metadata": {},
   "outputs": [],
   "source": [
    "from sklearn.model_selection import train_test_split\n",
    "x_train,x_test,y_train,y_test=train_test_split(x,y,test_size=0.1)\n",
    "#train_test_split() function takes 3 paramenters : independent varaibales (input columns/features/ predictor variables ),\n",
    "#  dependent variables (output columns/ target variable or response variable)  and percentage of data to be used in test"
   ]
  },
  {
   "cell_type": "code",
   "execution_count": 18,
   "id": "b4569b32",
   "metadata": {},
   "outputs": [
    {
     "data": {
      "text/html": [
       "<div>\n",
       "<style scoped>\n",
       "    .dataframe tbody tr th:only-of-type {\n",
       "        vertical-align: middle;\n",
       "    }\n",
       "\n",
       "    .dataframe tbody tr th {\n",
       "        vertical-align: top;\n",
       "    }\n",
       "\n",
       "    .dataframe thead th {\n",
       "        text-align: right;\n",
       "    }\n",
       "</style>\n",
       "<table border=\"1\" class=\"dataframe\">\n",
       "  <thead>\n",
       "    <tr style=\"text-align: right;\">\n",
       "      <th></th>\n",
       "      <th>cgpa</th>\n",
       "      <th>iq</th>\n",
       "    </tr>\n",
       "  </thead>\n",
       "  <tbody>\n",
       "    <tr>\n",
       "      <th>67</th>\n",
       "      <td>5.0</td>\n",
       "      <td>118.0</td>\n",
       "    </tr>\n",
       "    <tr>\n",
       "      <th>96</th>\n",
       "      <td>4.4</td>\n",
       "      <td>42.0</td>\n",
       "    </tr>\n",
       "    <tr>\n",
       "      <th>93</th>\n",
       "      <td>6.8</td>\n",
       "      <td>112.0</td>\n",
       "    </tr>\n",
       "    <tr>\n",
       "      <th>71</th>\n",
       "      <td>6.1</td>\n",
       "      <td>132.0</td>\n",
       "    </tr>\n",
       "    <tr>\n",
       "      <th>19</th>\n",
       "      <td>5.2</td>\n",
       "      <td>132.0</td>\n",
       "    </tr>\n",
       "    <tr>\n",
       "      <th>...</th>\n",
       "      <td>...</td>\n",
       "      <td>...</td>\n",
       "    </tr>\n",
       "    <tr>\n",
       "      <th>9</th>\n",
       "      <td>5.1</td>\n",
       "      <td>66.0</td>\n",
       "    </tr>\n",
       "    <tr>\n",
       "      <th>99</th>\n",
       "      <td>6.2</td>\n",
       "      <td>113.0</td>\n",
       "    </tr>\n",
       "    <tr>\n",
       "      <th>95</th>\n",
       "      <td>4.3</td>\n",
       "      <td>200.0</td>\n",
       "    </tr>\n",
       "    <tr>\n",
       "      <th>54</th>\n",
       "      <td>6.4</td>\n",
       "      <td>141.0</td>\n",
       "    </tr>\n",
       "    <tr>\n",
       "      <th>70</th>\n",
       "      <td>6.3</td>\n",
       "      <td>127.0</td>\n",
       "    </tr>\n",
       "  </tbody>\n",
       "</table>\n",
       "<p>90 rows × 2 columns</p>\n",
       "</div>"
      ],
      "text/plain": [
       "    cgpa     iq\n",
       "67   5.0  118.0\n",
       "96   4.4   42.0\n",
       "93   6.8  112.0\n",
       "71   6.1  132.0\n",
       "19   5.2  132.0\n",
       "..   ...    ...\n",
       "9    5.1   66.0\n",
       "99   6.2  113.0\n",
       "95   4.3  200.0\n",
       "54   6.4  141.0\n",
       "70   6.3  127.0\n",
       "\n",
       "[90 rows x 2 columns]"
      ]
     },
     "execution_count": 18,
     "metadata": {},
     "output_type": "execute_result"
    }
   ],
   "source": [
    "x_train"
   ]
  },
  {
   "cell_type": "code",
   "execution_count": 19,
   "id": "4b04142c",
   "metadata": {},
   "outputs": [
    {
     "data": {
      "text/html": [
       "<div>\n",
       "<style scoped>\n",
       "    .dataframe tbody tr th:only-of-type {\n",
       "        vertical-align: middle;\n",
       "    }\n",
       "\n",
       "    .dataframe tbody tr th {\n",
       "        vertical-align: top;\n",
       "    }\n",
       "\n",
       "    .dataframe thead th {\n",
       "        text-align: right;\n",
       "    }\n",
       "</style>\n",
       "<table border=\"1\" class=\"dataframe\">\n",
       "  <thead>\n",
       "    <tr style=\"text-align: right;\">\n",
       "      <th></th>\n",
       "      <th>placement</th>\n",
       "    </tr>\n",
       "  </thead>\n",
       "  <tbody>\n",
       "    <tr>\n",
       "      <th>67</th>\n",
       "      <td>0</td>\n",
       "    </tr>\n",
       "    <tr>\n",
       "      <th>96</th>\n",
       "      <td>0</td>\n",
       "    </tr>\n",
       "    <tr>\n",
       "      <th>93</th>\n",
       "      <td>1</td>\n",
       "    </tr>\n",
       "    <tr>\n",
       "      <th>71</th>\n",
       "      <td>1</td>\n",
       "    </tr>\n",
       "    <tr>\n",
       "      <th>19</th>\n",
       "      <td>0</td>\n",
       "    </tr>\n",
       "    <tr>\n",
       "      <th>...</th>\n",
       "      <td>...</td>\n",
       "    </tr>\n",
       "    <tr>\n",
       "      <th>9</th>\n",
       "      <td>0</td>\n",
       "    </tr>\n",
       "    <tr>\n",
       "      <th>99</th>\n",
       "      <td>1</td>\n",
       "    </tr>\n",
       "    <tr>\n",
       "      <th>95</th>\n",
       "      <td>0</td>\n",
       "    </tr>\n",
       "    <tr>\n",
       "      <th>54</th>\n",
       "      <td>1</td>\n",
       "    </tr>\n",
       "    <tr>\n",
       "      <th>70</th>\n",
       "      <td>1</td>\n",
       "    </tr>\n",
       "  </tbody>\n",
       "</table>\n",
       "<p>90 rows × 1 columns</p>\n",
       "</div>"
      ],
      "text/plain": [
       "    placement\n",
       "67          0\n",
       "96          0\n",
       "93          1\n",
       "71          1\n",
       "19          0\n",
       "..        ...\n",
       "9           0\n",
       "99          1\n",
       "95          0\n",
       "54          1\n",
       "70          1\n",
       "\n",
       "[90 rows x 1 columns]"
      ]
     },
     "execution_count": 19,
     "metadata": {},
     "output_type": "execute_result"
    }
   ],
   "source": [
    "y_train"
   ]
  },
  {
   "cell_type": "code",
   "execution_count": 20,
   "id": "7fc25c79",
   "metadata": {},
   "outputs": [
    {
     "data": {
      "text/html": [
       "<div>\n",
       "<style scoped>\n",
       "    .dataframe tbody tr th:only-of-type {\n",
       "        vertical-align: middle;\n",
       "    }\n",
       "\n",
       "    .dataframe tbody tr th {\n",
       "        vertical-align: top;\n",
       "    }\n",
       "\n",
       "    .dataframe thead th {\n",
       "        text-align: right;\n",
       "    }\n",
       "</style>\n",
       "<table border=\"1\" class=\"dataframe\">\n",
       "  <thead>\n",
       "    <tr style=\"text-align: right;\">\n",
       "      <th></th>\n",
       "      <th>cgpa</th>\n",
       "      <th>iq</th>\n",
       "    </tr>\n",
       "  </thead>\n",
       "  <tbody>\n",
       "    <tr>\n",
       "      <th>44</th>\n",
       "      <td>7.5</td>\n",
       "      <td>61.0</td>\n",
       "    </tr>\n",
       "    <tr>\n",
       "      <th>42</th>\n",
       "      <td>7.6</td>\n",
       "      <td>89.0</td>\n",
       "    </tr>\n",
       "    <tr>\n",
       "      <th>26</th>\n",
       "      <td>7.0</td>\n",
       "      <td>199.0</td>\n",
       "    </tr>\n",
       "    <tr>\n",
       "      <th>78</th>\n",
       "      <td>6.1</td>\n",
       "      <td>81.0</td>\n",
       "    </tr>\n",
       "    <tr>\n",
       "      <th>34</th>\n",
       "      <td>4.8</td>\n",
       "      <td>163.0</td>\n",
       "    </tr>\n",
       "    <tr>\n",
       "      <th>5</th>\n",
       "      <td>7.1</td>\n",
       "      <td>48.0</td>\n",
       "    </tr>\n",
       "    <tr>\n",
       "      <th>47</th>\n",
       "      <td>5.2</td>\n",
       "      <td>161.0</td>\n",
       "    </tr>\n",
       "    <tr>\n",
       "      <th>65</th>\n",
       "      <td>8.1</td>\n",
       "      <td>166.0</td>\n",
       "    </tr>\n",
       "    <tr>\n",
       "      <th>45</th>\n",
       "      <td>6.0</td>\n",
       "      <td>66.0</td>\n",
       "    </tr>\n",
       "    <tr>\n",
       "      <th>38</th>\n",
       "      <td>6.5</td>\n",
       "      <td>160.0</td>\n",
       "    </tr>\n",
       "  </tbody>\n",
       "</table>\n",
       "</div>"
      ],
      "text/plain": [
       "    cgpa     iq\n",
       "44   7.5   61.0\n",
       "42   7.6   89.0\n",
       "26   7.0  199.0\n",
       "78   6.1   81.0\n",
       "34   4.8  163.0\n",
       "5    7.1   48.0\n",
       "47   5.2  161.0\n",
       "65   8.1  166.0\n",
       "45   6.0   66.0\n",
       "38   6.5  160.0"
      ]
     },
     "execution_count": 20,
     "metadata": {},
     "output_type": "execute_result"
    }
   ],
   "source": [
    "x_test"
   ]
  },
  {
   "cell_type": "code",
   "execution_count": 21,
   "id": "61d213ee",
   "metadata": {},
   "outputs": [
    {
     "data": {
      "text/html": [
       "<div>\n",
       "<style scoped>\n",
       "    .dataframe tbody tr th:only-of-type {\n",
       "        vertical-align: middle;\n",
       "    }\n",
       "\n",
       "    .dataframe tbody tr th {\n",
       "        vertical-align: top;\n",
       "    }\n",
       "\n",
       "    .dataframe thead th {\n",
       "        text-align: right;\n",
       "    }\n",
       "</style>\n",
       "<table border=\"1\" class=\"dataframe\">\n",
       "  <thead>\n",
       "    <tr style=\"text-align: right;\">\n",
       "      <th></th>\n",
       "      <th>placement</th>\n",
       "    </tr>\n",
       "  </thead>\n",
       "  <tbody>\n",
       "    <tr>\n",
       "      <th>44</th>\n",
       "      <td>1</td>\n",
       "    </tr>\n",
       "    <tr>\n",
       "      <th>42</th>\n",
       "      <td>1</td>\n",
       "    </tr>\n",
       "    <tr>\n",
       "      <th>26</th>\n",
       "      <td>1</td>\n",
       "    </tr>\n",
       "    <tr>\n",
       "      <th>78</th>\n",
       "      <td>0</td>\n",
       "    </tr>\n",
       "    <tr>\n",
       "      <th>34</th>\n",
       "      <td>0</td>\n",
       "    </tr>\n",
       "    <tr>\n",
       "      <th>5</th>\n",
       "      <td>1</td>\n",
       "    </tr>\n",
       "    <tr>\n",
       "      <th>47</th>\n",
       "      <td>0</td>\n",
       "    </tr>\n",
       "    <tr>\n",
       "      <th>65</th>\n",
       "      <td>1</td>\n",
       "    </tr>\n",
       "    <tr>\n",
       "      <th>45</th>\n",
       "      <td>1</td>\n",
       "    </tr>\n",
       "    <tr>\n",
       "      <th>38</th>\n",
       "      <td>1</td>\n",
       "    </tr>\n",
       "  </tbody>\n",
       "</table>\n",
       "</div>"
      ],
      "text/plain": [
       "    placement\n",
       "44          1\n",
       "42          1\n",
       "26          1\n",
       "78          0\n",
       "34          0\n",
       "5           1\n",
       "47          0\n",
       "65          1\n",
       "45          1\n",
       "38          1"
      ]
     },
     "execution_count": 21,
     "metadata": {},
     "output_type": "execute_result"
    }
   ],
   "source": [
    "y_test"
   ]
  },
  {
   "cell_type": "markdown",
   "id": "321a71d0",
   "metadata": {},
   "source": [
    "# 3.Scale the values\n"
   ]
  },
  {
   "cell_type": "code",
   "execution_count": 22,
   "id": "c51d9000",
   "metadata": {},
   "outputs": [],
   "source": [
    "from sklearn.preprocessing import StandardScaler\n",
    "scaler=StandardScaler()"
   ]
  },
  {
   "cell_type": "code",
   "execution_count": 23,
   "id": "1aa8ae13",
   "metadata": {},
   "outputs": [
    {
     "data": {
      "text/plain": [
       "array([[-8.17079103e-01, -1.58906781e-01],\n",
       "       [-1.34739487e+00, -2.15692587e+00],\n",
       "       [ 7.73868189e-01, -3.16645130e-01],\n",
       "       [ 1.55166464e-01,  2.09149367e-01],\n",
       "       [-6.40307182e-01,  2.09149367e-01],\n",
       "       [ 7.73868189e-01, -2.74581571e-02],\n",
       "       [ 1.65772780e+00, -2.64065681e-01],\n",
       "       [ 1.55166464e-01, -5.53252654e-01],\n",
       "       [-4.63535261e-01,  2.88018541e-01],\n",
       "       [ 2.27642952e+00, -1.06327332e-01],\n",
       "       [ 1.21579799e+00, -1.94660807e+00],\n",
       "       [-5.51921221e-01, -2.64065681e-01],\n",
       "       [ 1.39256991e+00,  1.56569917e-01],\n",
       "       [ 1.55166464e-01,  8.40102763e-01],\n",
       "       [ 4.20324347e-01, -2.11486231e-01],\n",
       "       [ 1.21579799e+00,  3.40597991e-01],\n",
       "       [-1.09991418e-01,  4.72046615e-01],\n",
       "       [-1.17062295e+00,  5.77205514e-01],\n",
       "       [-1.08223699e+00, -9.73888252e-01],\n",
       "       [ 8.62254150e-01,  3.93177441e-01],\n",
       "       [ 9.50640111e-01, -3.16645130e-01],\n",
       "       [ 5.97096268e-01,  3.66887716e-01],\n",
       "       [-1.98377378e-01,  4.19467165e-01],\n",
       "       [ 5.08710307e-01, -8.95019077e-01],\n",
       "       [-2.31964044e+00,  1.54992533e+00],\n",
       "       [ 8.62254150e-01,  3.66887716e-01],\n",
       "       [-6.40307182e-01,  2.62780405e+00],\n",
       "       [ 1.30418395e+00,  2.09149367e-01],\n",
       "       [ 8.62254150e-01, -7.37280728e-01],\n",
       "       [ 1.21579799e+00, -2.11486231e-01],\n",
       "       [-2.14286851e+00,  2.86441158e+00],\n",
       "       [-1.98377378e-01,  1.18186919e+00],\n",
       "       [-7.28693143e-01,  1.03990467e-01],\n",
       "       [ 7.73868189e-01,  4.45756890e-01],\n",
       "       [-1.08223699e+00, -8.00376068e-02],\n",
       "       [ 9.50640111e-01,  1.33960754e+00],\n",
       "       [-8.17079103e-01, -1.60484165e+00],\n",
       "       [-2.16054571e-02, -4.74383480e-01],\n",
       "       [ 9.50640111e-01,  3.93177441e-01],\n",
       "       [-1.78932467e+00, -3.95514305e-01],\n",
       "       [-8.17079103e-01, -8.68729352e-01],\n",
       "       [-1.70093871e+00, -1.28936495e+00],\n",
       "       [ 1.03902607e+00,  7.08654139e-01],\n",
       "       [-5.51921221e-01, -8.00376068e-02],\n",
       "       [-9.93851025e-01,  1.18186919e+00],\n",
       "       [ 7.73868189e-01, -8.95019077e-01],\n",
       "       [-9.05465064e-01, -1.65742110e+00],\n",
       "       [ 1.21579799e+00, -1.00017798e+00],\n",
       "       [ 5.08710307e-01,  1.56569917e-01],\n",
       "       [-1.08223699e+00, -1.89402862e+00],\n",
       "       [ 1.92288568e+00,  6.56074689e-01],\n",
       "       [-9.93851025e-01, -3.16645130e-01],\n",
       "       [-4.63535261e-01,  3.93177441e-01],\n",
       "       [-4.63535261e-01, -4.48093755e-01],\n",
       "       [ 3.31938386e-01, -5.53252654e-01],\n",
       "       [ 5.97096268e-01, -1.06327332e-01],\n",
       "       [ 6.67805037e-02, -2.07805670e+00],\n",
       "       [-4.63535261e-01, -2.64065681e-01],\n",
       "       [-9.05465064e-01,  2.61728816e-01],\n",
       "       [-6.40307182e-01, -3.69224580e-01],\n",
       "       [ 9.50640111e-01, -1.57855192e+00],\n",
       "       [-6.40307182e-01, -8.95019077e-01],\n",
       "       [-1.34739487e+00,  6.56074689e-01],\n",
       "       [ 6.67805037e-02, -5.79542379e-01],\n",
       "       [-9.05465064e-01,  1.89169176e+00],\n",
       "       [-9.05465064e-01,  7.08654139e-01],\n",
       "       [ 6.67805037e-02,  6.56074689e-01],\n",
       "       [-9.05465064e-01,  8.13813038e-01],\n",
       "       [ 1.55166464e-01, -1.55226220e+00],\n",
       "       [ 6.85482229e-01,  7.87523313e-01],\n",
       "       [-1.70093871e+00, -6.32121829e-01],\n",
       "       [ 1.39256991e+00,  8.92682213e-01],\n",
       "       [-1.98377378e-01,  2.09149367e-01],\n",
       "       [-9.05465064e-01, -1.06327332e-01],\n",
       "       [-1.09991418e-01,  1.10300001e+00],\n",
       "       [ 2.09965760e+00,  1.15557946e+00],\n",
       "       [-9.93851025e-01,  4.45756890e-01],\n",
       "       [ 3.31938386e-01,  1.03990467e-01],\n",
       "       [-1.98377378e-01,  4.98336340e-01],\n",
       "       [ 5.08710307e-01, -2.28837449e+00],\n",
       "       [ 6.67805037e-02, -1.16843222e-03],\n",
       "       [ 1.83449972e+00, -1.18420605e+00],\n",
       "       [ 1.48095588e+00,  1.03990467e-01],\n",
       "       [-7.28693143e-01,  1.36589726e+00],\n",
       "       [ 6.85482229e-01,  1.52363561e+00],\n",
       "       [-7.28693143e-01, -1.52597247e+00],\n",
       "       [ 2.43552425e-01, -2.90355406e-01],\n",
       "       [-1.43578083e+00,  1.99685066e+00],\n",
       "       [ 4.20324347e-01,  4.45756890e-01],\n",
       "       [ 3.31938386e-01,  7.77007423e-02]])"
      ]
     },
     "execution_count": 23,
     "metadata": {},
     "output_type": "execute_result"
    }
   ],
   "source": [
    "x_train=scaler.fit_transform(x_train)\n",
    "x_train"
   ]
  },
  {
   "cell_type": "code",
   "execution_count": 24,
   "id": "7a713347",
   "metadata": {},
   "outputs": [
    {
     "data": {
      "text/plain": [
       "array([[ 0.89712882, -1.11270598],\n",
       "       [ 0.99571441, -0.57921681],\n",
       "       [ 0.4042009 ,  1.51663349],\n",
       "       [-0.48306936, -0.73164229],\n",
       "       [-1.76468197,  0.83071885],\n",
       "       [ 0.50278648, -1.36039738],\n",
       "       [-1.37033963,  0.79261248],\n",
       "       [ 1.48864233,  0.8878784 ],\n",
       "       [-0.58165495, -1.01744006],\n",
       "       [-0.08872703,  0.77355929]])"
      ]
     },
     "execution_count": 24,
     "metadata": {},
     "output_type": "execute_result"
    }
   ],
   "source": [
    "x_test=scaler.fit_transform(x_test)\n",
    "x_test\n"
   ]
  },
  {
   "cell_type": "markdown",
   "id": "5bd376c5",
   "metadata": {},
   "source": [
    "# 5.Train the model\n"
   ]
  },
  {
   "cell_type": "code",
   "execution_count": 25,
   "id": "a3655f6e",
   "metadata": {},
   "outputs": [],
   "source": [
    "#We will use logistic regression classifier"
   ]
  },
  {
   "cell_type": "code",
   "execution_count": 26,
   "id": "be2ad6ac",
   "metadata": {},
   "outputs": [],
   "source": [
    "from sklearn.linear_model import LogisticRegression\n",
    "clf = LogisticRegression()"
   ]
  },
  {
   "cell_type": "code",
   "execution_count": 27,
   "id": "e433f1d9",
   "metadata": {},
   "outputs": [
    {
     "name": "stderr",
     "output_type": "stream",
     "text": [
      "C:\\Python anaconda setip 2.0\\Lib\\site-packages\\sklearn\\utils\\validation.py:1184: DataConversionWarning: A column-vector y was passed when a 1d array was expected. Please change the shape of y to (n_samples, ), for example using ravel().\n",
      "  y = column_or_1d(y, warn=True)\n"
     ]
    },
    {
     "data": {
      "text/html": [
       "<style>#sk-container-id-1 {color: black;}#sk-container-id-1 pre{padding: 0;}#sk-container-id-1 div.sk-toggleable {background-color: white;}#sk-container-id-1 label.sk-toggleable__label {cursor: pointer;display: block;width: 100%;margin-bottom: 0;padding: 0.3em;box-sizing: border-box;text-align: center;}#sk-container-id-1 label.sk-toggleable__label-arrow:before {content: \"▸\";float: left;margin-right: 0.25em;color: #696969;}#sk-container-id-1 label.sk-toggleable__label-arrow:hover:before {color: black;}#sk-container-id-1 div.sk-estimator:hover label.sk-toggleable__label-arrow:before {color: black;}#sk-container-id-1 div.sk-toggleable__content {max-height: 0;max-width: 0;overflow: hidden;text-align: left;background-color: #f0f8ff;}#sk-container-id-1 div.sk-toggleable__content pre {margin: 0.2em;color: black;border-radius: 0.25em;background-color: #f0f8ff;}#sk-container-id-1 input.sk-toggleable__control:checked~div.sk-toggleable__content {max-height: 200px;max-width: 100%;overflow: auto;}#sk-container-id-1 input.sk-toggleable__control:checked~label.sk-toggleable__label-arrow:before {content: \"▾\";}#sk-container-id-1 div.sk-estimator input.sk-toggleable__control:checked~label.sk-toggleable__label {background-color: #d4ebff;}#sk-container-id-1 div.sk-label input.sk-toggleable__control:checked~label.sk-toggleable__label {background-color: #d4ebff;}#sk-container-id-1 input.sk-hidden--visually {border: 0;clip: rect(1px 1px 1px 1px);clip: rect(1px, 1px, 1px, 1px);height: 1px;margin: -1px;overflow: hidden;padding: 0;position: absolute;width: 1px;}#sk-container-id-1 div.sk-estimator {font-family: monospace;background-color: #f0f8ff;border: 1px dotted black;border-radius: 0.25em;box-sizing: border-box;margin-bottom: 0.5em;}#sk-container-id-1 div.sk-estimator:hover {background-color: #d4ebff;}#sk-container-id-1 div.sk-parallel-item::after {content: \"\";width: 100%;border-bottom: 1px solid gray;flex-grow: 1;}#sk-container-id-1 div.sk-label:hover label.sk-toggleable__label {background-color: #d4ebff;}#sk-container-id-1 div.sk-serial::before {content: \"\";position: absolute;border-left: 1px solid gray;box-sizing: border-box;top: 0;bottom: 0;left: 50%;z-index: 0;}#sk-container-id-1 div.sk-serial {display: flex;flex-direction: column;align-items: center;background-color: white;padding-right: 0.2em;padding-left: 0.2em;position: relative;}#sk-container-id-1 div.sk-item {position: relative;z-index: 1;}#sk-container-id-1 div.sk-parallel {display: flex;align-items: stretch;justify-content: center;background-color: white;position: relative;}#sk-container-id-1 div.sk-item::before, #sk-container-id-1 div.sk-parallel-item::before {content: \"\";position: absolute;border-left: 1px solid gray;box-sizing: border-box;top: 0;bottom: 0;left: 50%;z-index: -1;}#sk-container-id-1 div.sk-parallel-item {display: flex;flex-direction: column;z-index: 1;position: relative;background-color: white;}#sk-container-id-1 div.sk-parallel-item:first-child::after {align-self: flex-end;width: 50%;}#sk-container-id-1 div.sk-parallel-item:last-child::after {align-self: flex-start;width: 50%;}#sk-container-id-1 div.sk-parallel-item:only-child::after {width: 0;}#sk-container-id-1 div.sk-dashed-wrapped {border: 1px dashed gray;margin: 0 0.4em 0.5em 0.4em;box-sizing: border-box;padding-bottom: 0.4em;background-color: white;}#sk-container-id-1 div.sk-label label {font-family: monospace;font-weight: bold;display: inline-block;line-height: 1.2em;}#sk-container-id-1 div.sk-label-container {text-align: center;}#sk-container-id-1 div.sk-container {/* jupyter's `normalize.less` sets `[hidden] { display: none; }` but bootstrap.min.css set `[hidden] { display: none !important; }` so we also need the `!important` here to be able to override the default hidden behavior on the sphinx rendered scikit-learn.org. See: https://github.com/scikit-learn/scikit-learn/issues/21755 */display: inline-block !important;position: relative;}#sk-container-id-1 div.sk-text-repr-fallback {display: none;}</style><div id=\"sk-container-id-1\" class=\"sk-top-container\"><div class=\"sk-text-repr-fallback\"><pre>LogisticRegression()</pre><b>In a Jupyter environment, please rerun this cell to show the HTML representation or trust the notebook. <br />On GitHub, the HTML representation is unable to render, please try loading this page with nbviewer.org.</b></div><div class=\"sk-container\" hidden><div class=\"sk-item\"><div class=\"sk-estimator sk-toggleable\"><input class=\"sk-toggleable__control sk-hidden--visually\" id=\"sk-estimator-id-1\" type=\"checkbox\" checked><label for=\"sk-estimator-id-1\" class=\"sk-toggleable__label sk-toggleable__label-arrow\">LogisticRegression</label><div class=\"sk-toggleable__content\"><pre>LogisticRegression()</pre></div></div></div></div></div>"
      ],
      "text/plain": [
       "LogisticRegression()"
      ]
     },
     "execution_count": 27,
     "metadata": {},
     "output_type": "execute_result"
    }
   ],
   "source": [
    "#Model training\n",
    "clf.fit(x_train,y_train)"
   ]
  },
  {
   "cell_type": "markdown",
   "id": "4412c6d4",
   "metadata": {},
   "source": [
    "# 6.Evaluate the model / Model selection\n",
    "### Evaluation is done by calculating the accuracy"
   ]
  },
  {
   "cell_type": "code",
   "execution_count": 28,
   "id": "dcf52209",
   "metadata": {},
   "outputs": [
    {
     "data": {
      "text/plain": [
       "array([1, 1, 1, 0, 0, 1, 0, 1, 0, 0], dtype=int64)"
      ]
     },
     "execution_count": 28,
     "metadata": {},
     "output_type": "execute_result"
    }
   ],
   "source": [
    "y_prediction=clf.predict(x_test)\n",
    "y_prediction"
   ]
  },
  {
   "cell_type": "code",
   "execution_count": 29,
   "id": "17ea21f8",
   "metadata": {},
   "outputs": [
    {
     "data": {
      "text/html": [
       "<div>\n",
       "<style scoped>\n",
       "    .dataframe tbody tr th:only-of-type {\n",
       "        vertical-align: middle;\n",
       "    }\n",
       "\n",
       "    .dataframe tbody tr th {\n",
       "        vertical-align: top;\n",
       "    }\n",
       "\n",
       "    .dataframe thead th {\n",
       "        text-align: right;\n",
       "    }\n",
       "</style>\n",
       "<table border=\"1\" class=\"dataframe\">\n",
       "  <thead>\n",
       "    <tr style=\"text-align: right;\">\n",
       "      <th></th>\n",
       "      <th>placement</th>\n",
       "    </tr>\n",
       "  </thead>\n",
       "  <tbody>\n",
       "    <tr>\n",
       "      <th>44</th>\n",
       "      <td>1</td>\n",
       "    </tr>\n",
       "    <tr>\n",
       "      <th>42</th>\n",
       "      <td>1</td>\n",
       "    </tr>\n",
       "    <tr>\n",
       "      <th>26</th>\n",
       "      <td>1</td>\n",
       "    </tr>\n",
       "    <tr>\n",
       "      <th>78</th>\n",
       "      <td>0</td>\n",
       "    </tr>\n",
       "    <tr>\n",
       "      <th>34</th>\n",
       "      <td>0</td>\n",
       "    </tr>\n",
       "    <tr>\n",
       "      <th>5</th>\n",
       "      <td>1</td>\n",
       "    </tr>\n",
       "    <tr>\n",
       "      <th>47</th>\n",
       "      <td>0</td>\n",
       "    </tr>\n",
       "    <tr>\n",
       "      <th>65</th>\n",
       "      <td>1</td>\n",
       "    </tr>\n",
       "    <tr>\n",
       "      <th>45</th>\n",
       "      <td>1</td>\n",
       "    </tr>\n",
       "    <tr>\n",
       "      <th>38</th>\n",
       "      <td>1</td>\n",
       "    </tr>\n",
       "  </tbody>\n",
       "</table>\n",
       "</div>"
      ],
      "text/plain": [
       "    placement\n",
       "44          1\n",
       "42          1\n",
       "26          1\n",
       "78          0\n",
       "34          0\n",
       "5           1\n",
       "47          0\n",
       "65          1\n",
       "45          1\n",
       "38          1"
      ]
     },
     "execution_count": 29,
     "metadata": {},
     "output_type": "execute_result"
    }
   ],
   "source": [
    "y_test"
   ]
  },
  {
   "cell_type": "code",
   "execution_count": 30,
   "id": "0de625d2",
   "metadata": {},
   "outputs": [
    {
     "data": {
      "text/plain": [
       "0.8"
      ]
     },
     "execution_count": 30,
     "metadata": {},
     "output_type": "execute_result"
    }
   ],
   "source": [
    "# checking the accuracy score\n",
    "from sklearn.metrics import accuracy_score\n",
    "accuracy_score(y_test,y_prediction)"
   ]
  },
  {
   "cell_type": "markdown",
   "id": "c331b4de",
   "metadata": {},
   "source": [
    "# plotting the decision boundary"
   ]
  },
  {
   "cell_type": "code",
   "execution_count": 31,
   "id": "1aaeb6c9",
   "metadata": {},
   "outputs": [],
   "source": [
    "from mlxtend.plotting import plot_decision_regions\n"
   ]
  },
  {
   "cell_type": "code",
   "execution_count": 32,
   "id": "ec45698c",
   "metadata": {},
   "outputs": [
    {
     "data": {
      "text/plain": [
       "<Axes: >"
      ]
     },
     "execution_count": 32,
     "metadata": {},
     "output_type": "execute_result"
    },
    {
     "data": {
      "image/png": "[encoded data removed]",
      "text/plain": [
       "<Figure size 640x480 with 1 Axes>"
      ]
     },
     "metadata": {},
     "output_type": "display_data"
    }
   ],
   "source": [
    "plot_decision_regions(x_train,y_train.values.flatten(),clf=clf,legend=2)\n",
    "\n",
    "#flatten() function is used to convert a 2D array to a 1D array.\n",
    "# x_train and y_train should be an array so dtype(x_train) is already array and we convert y_train to array using .values"
   ]
  },
  {
   "cell_type": "code",
   "execution_count": 33,
   "id": "7d65d3a1",
   "metadata": {},
   "outputs": [
    {
     "data": {
      "text/plain": [
       "numpy.ndarray"
      ]
     },
     "execution_count": 33,
     "metadata": {},
     "output_type": "execute_result"
    }
   ],
   "source": [
    "type(x_train)"
   ]
  },
  {
   "cell_type": "code",
   "execution_count": 34,
   "id": "9aa465cb",
   "metadata": {},
   "outputs": [
    {
     "data": {
      "text/plain": [
       "array([[-8.17079103e-01, -1.58906781e-01],\n",
       "       [-1.34739487e+00, -2.15692587e+00],\n",
       "       [ 7.73868189e-01, -3.16645130e-01],\n",
       "       [ 1.55166464e-01,  2.09149367e-01],\n",
       "       [-6.40307182e-01,  2.09149367e-01],\n",
       "       [ 7.73868189e-01, -2.74581571e-02],\n",
       "       [ 1.65772780e+00, -2.64065681e-01],\n",
       "       [ 1.55166464e-01, -5.53252654e-01],\n",
       "       [-4.63535261e-01,  2.88018541e-01],\n",
       "       [ 2.27642952e+00, -1.06327332e-01],\n",
       "       [ 1.21579799e+00, -1.94660807e+00],\n",
       "       [-5.51921221e-01, -2.64065681e-01],\n",
       "       [ 1.39256991e+00,  1.56569917e-01],\n",
       "       [ 1.55166464e-01,  8.40102763e-01],\n",
       "       [ 4.20324347e-01, -2.11486231e-01],\n",
       "       [ 1.21579799e+00,  3.40597991e-01],\n",
       "       [-1.09991418e-01,  4.72046615e-01],\n",
       "       [-1.17062295e+00,  5.77205514e-01],\n",
       "       [-1.08223699e+00, -9.73888252e-01],\n",
       "       [ 8.62254150e-01,  3.93177441e-01],\n",
       "       [ 9.50640111e-01, -3.16645130e-01],\n",
       "       [ 5.97096268e-01,  3.66887716e-01],\n",
       "       [-1.98377378e-01,  4.19467165e-01],\n",
       "       [ 5.08710307e-01, -8.95019077e-01],\n",
       "       [-2.31964044e+00,  1.54992533e+00],\n",
       "       [ 8.62254150e-01,  3.66887716e-01],\n",
       "       [-6.40307182e-01,  2.62780405e+00],\n",
       "       [ 1.30418395e+00,  2.09149367e-01],\n",
       "       [ 8.62254150e-01, -7.37280728e-01],\n",
       "       [ 1.21579799e+00, -2.11486231e-01],\n",
       "       [-2.14286851e+00,  2.86441158e+00],\n",
       "       [-1.98377378e-01,  1.18186919e+00],\n",
       "       [-7.28693143e-01,  1.03990467e-01],\n",
       "       [ 7.73868189e-01,  4.45756890e-01],\n",
       "       [-1.08223699e+00, -8.00376068e-02],\n",
       "       [ 9.50640111e-01,  1.33960754e+00],\n",
       "       [-8.17079103e-01, -1.60484165e+00],\n",
       "       [-2.16054571e-02, -4.74383480e-01],\n",
       "       [ 9.50640111e-01,  3.93177441e-01],\n",
       "       [-1.78932467e+00, -3.95514305e-01],\n",
       "       [-8.17079103e-01, -8.68729352e-01],\n",
       "       [-1.70093871e+00, -1.28936495e+00],\n",
       "       [ 1.03902607e+00,  7.08654139e-01],\n",
       "       [-5.51921221e-01, -8.00376068e-02],\n",
       "       [-9.93851025e-01,  1.18186919e+00],\n",
       "       [ 7.73868189e-01, -8.95019077e-01],\n",
       "       [-9.05465064e-01, -1.65742110e+00],\n",
       "       [ 1.21579799e+00, -1.00017798e+00],\n",
       "       [ 5.08710307e-01,  1.56569917e-01],\n",
       "       [-1.08223699e+00, -1.89402862e+00],\n",
       "       [ 1.92288568e+00,  6.56074689e-01],\n",
       "       [-9.93851025e-01, -3.16645130e-01],\n",
       "       [-4.63535261e-01,  3.93177441e-01],\n",
       "       [-4.63535261e-01, -4.48093755e-01],\n",
       "       [ 3.31938386e-01, -5.53252654e-01],\n",
       "       [ 5.97096268e-01, -1.06327332e-01],\n",
       "       [ 6.67805037e-02, -2.07805670e+00],\n",
       "       [-4.63535261e-01, -2.64065681e-01],\n",
       "       [-9.05465064e-01,  2.61728816e-01],\n",
       "       [-6.40307182e-01, -3.69224580e-01],\n",
       "       [ 9.50640111e-01, -1.57855192e+00],\n",
       "       [-6.40307182e-01, -8.95019077e-01],\n",
       "       [-1.34739487e+00,  6.56074689e-01],\n",
       "       [ 6.67805037e-02, -5.79542379e-01],\n",
       "       [-9.05465064e-01,  1.89169176e+00],\n",
       "       [-9.05465064e-01,  7.08654139e-01],\n",
       "       [ 6.67805037e-02,  6.56074689e-01],\n",
       "       [-9.05465064e-01,  8.13813038e-01],\n",
       "       [ 1.55166464e-01, -1.55226220e+00],\n",
       "       [ 6.85482229e-01,  7.87523313e-01],\n",
       "       [-1.70093871e+00, -6.32121829e-01],\n",
       "       [ 1.39256991e+00,  8.92682213e-01],\n",
       "       [-1.98377378e-01,  2.09149367e-01],\n",
       "       [-9.05465064e-01, -1.06327332e-01],\n",
       "       [-1.09991418e-01,  1.10300001e+00],\n",
       "       [ 2.09965760e+00,  1.15557946e+00],\n",
       "       [-9.93851025e-01,  4.45756890e-01],\n",
       "       [ 3.31938386e-01,  1.03990467e-01],\n",
       "       [-1.98377378e-01,  4.98336340e-01],\n",
       "       [ 5.08710307e-01, -2.28837449e+00],\n",
       "       [ 6.67805037e-02, -1.16843222e-03],\n",
       "       [ 1.83449972e+00, -1.18420605e+00],\n",
       "       [ 1.48095588e+00,  1.03990467e-01],\n",
       "       [-7.28693143e-01,  1.36589726e+00],\n",
       "       [ 6.85482229e-01,  1.52363561e+00],\n",
       "       [-7.28693143e-01, -1.52597247e+00],\n",
       "       [ 2.43552425e-01, -2.90355406e-01],\n",
       "       [-1.43578083e+00,  1.99685066e+00],\n",
       "       [ 4.20324347e-01,  4.45756890e-01],\n",
       "       [ 3.31938386e-01,  7.77007423e-02]])"
      ]
     },
     "execution_count": 34,
     "metadata": {},
     "output_type": "execute_result"
    }
   ],
   "source": [
    "x_train"
   ]
  },
  {
   "cell_type": "code",
   "execution_count": 35,
   "id": "4cec104f",
   "metadata": {},
   "outputs": [
    {
     "data": {
      "text/plain": [
       "numpy.ndarray"
      ]
     },
     "execution_count": 35,
     "metadata": {},
     "output_type": "execute_result"
    }
   ],
   "source": [
    "type(y_train.values)"
   ]
  },
  {
   "cell_type": "code",
   "execution_count": 36,
   "id": "a2ea7313",
   "metadata": {},
   "outputs": [
    {
     "data": {
      "text/plain": [
       "array([[-0.63208574,  2.44577496],\n",
       "       [ 1.67177818, -0.2529736 ],\n",
       "       [-1.4295771 ,  1.85695709],\n",
       "       [-0.45486544, -0.2529736 ],\n",
       "       [-1.34096695,  0.60571912],\n",
       "       [ 1.05150712, -1.87222274],\n",
       "       [ 1.93760863,  0.60571912],\n",
       "       [-1.69540755, -0.59645069],\n",
       "       [ 0.16540561, -1.45514342],\n",
       "       [-0.80930604, -0.81725739],\n",
       "       [ 0.96289697, -1.47967749],\n",
       "       [ 1.22872742, -0.93992778]])"
      ]
     },
     "execution_count": 36,
     "metadata": {},
     "output_type": "execute_result"
    }
   ],
   "source": [
    "x_val=np.array([[-0.63208574,  2.44577496],\n",
    "       [ 1.67177818, -0.2529736 ],\n",
    "       [-1.4295771 ,  1.85695709],\n",
    "       [-0.45486544, -0.2529736 ],\n",
    "       [-1.34096695,  0.60571912],\n",
    "       [ 1.05150712, -1.87222274],\n",
    "       [ 1.93760863,  0.60571912],\n",
    "       [-1.69540755, -0.59645069],\n",
    "       [ 0.16540561, -1.45514342],\n",
    "       [-0.80930604, -0.81725739],\n",
    "       [ 0.96289697, -1.47967749],\n",
    "       [ 1.22872742, -0.93992778]])\n",
    "x_val"
   ]
  },
  {
   "cell_type": "code",
   "execution_count": 37,
   "id": "da35916c",
   "metadata": {},
   "outputs": [
    {
     "data": {
      "text/plain": [
       "array([0, 1, 0, 0, 0, 1, 1, 0, 1, 0, 1, 1], dtype=int64)"
      ]
     },
     "execution_count": 37,
     "metadata": {},
     "output_type": "execute_result"
    }
   ],
   "source": [
    "clf.predict(x_val)"
   ]
  },
  {
   "cell_type": "code",
   "execution_count": 38,
   "id": "081a6e17",
   "metadata": {},
   "outputs": [
    {
     "data": {
      "text/html": [
       "<div>\n",
       "<style scoped>\n",
       "    .dataframe tbody tr th:only-of-type {\n",
       "        vertical-align: middle;\n",
       "    }\n",
       "\n",
       "    .dataframe tbody tr th {\n",
       "        vertical-align: top;\n",
       "    }\n",
       "\n",
       "    .dataframe thead th {\n",
       "        text-align: right;\n",
       "    }\n",
       "</style>\n",
       "<table border=\"1\" class=\"dataframe\">\n",
       "  <thead>\n",
       "    <tr style=\"text-align: right;\">\n",
       "      <th></th>\n",
       "      <th>placement</th>\n",
       "    </tr>\n",
       "  </thead>\n",
       "  <tbody>\n",
       "    <tr>\n",
       "      <th>6</th>\n",
       "      <td>0</td>\n",
       "    </tr>\n",
       "    <tr>\n",
       "      <th>82</th>\n",
       "      <td>1</td>\n",
       "    </tr>\n",
       "    <tr>\n",
       "      <th>27</th>\n",
       "      <td>1</td>\n",
       "    </tr>\n",
       "    <tr>\n",
       "      <th>58</th>\n",
       "      <td>1</td>\n",
       "    </tr>\n",
       "    <tr>\n",
       "      <th>30</th>\n",
       "      <td>1</td>\n",
       "    </tr>\n",
       "    <tr>\n",
       "      <th>15</th>\n",
       "      <td>0</td>\n",
       "    </tr>\n",
       "    <tr>\n",
       "      <th>97</th>\n",
       "      <td>1</td>\n",
       "    </tr>\n",
       "    <tr>\n",
       "      <th>9</th>\n",
       "      <td>0</td>\n",
       "    </tr>\n",
       "    <tr>\n",
       "      <th>99</th>\n",
       "      <td>1</td>\n",
       "    </tr>\n",
       "    <tr>\n",
       "      <th>95</th>\n",
       "      <td>0</td>\n",
       "    </tr>\n",
       "    <tr>\n",
       "      <th>54</th>\n",
       "      <td>1</td>\n",
       "    </tr>\n",
       "    <tr>\n",
       "      <th>70</th>\n",
       "      <td>1</td>\n",
       "    </tr>\n",
       "  </tbody>\n",
       "</table>\n",
       "</div>"
      ],
      "text/plain": [
       "    placement\n",
       "6           0\n",
       "82          1\n",
       "27          1\n",
       "58          1\n",
       "30          1\n",
       "15          0\n",
       "97          1\n",
       "9           0\n",
       "99          1\n",
       "95          0\n",
       "54          1\n",
       "70          1"
      ]
     },
     "execution_count": 38,
     "metadata": {},
     "output_type": "execute_result"
    }
   ],
   "source": [
    "y_train.tail(12)"
   ]
  }
 ],
 "metadata": {
  "kernelspec": {
   "display_name": "Python 3 (ipykernel)",
   "language": "python",
   "name": "python3"
  },
  "language_info": {
   "codemirror_mode": {
    "name": "ipython",
    "version": 3
   },
   "file_extension": ".py",
   "mimetype": "text/x-python",
   "name": "python",
   "nbconvert_exporter": "python",
   "pygments_lexer": "ipython3",
   "version": "3.11.5"
  }
 },
 "nbformat": 4,
 "nbformat_minor": 5
}

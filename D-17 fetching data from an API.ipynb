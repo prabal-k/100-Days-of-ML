{
 "cells": [
  {
   "cell_type": "code",
   "execution_count": 10,
   "id": "ac7e6412",
   "metadata": {},
   "outputs": [],
   "source": [
    "import pandas as pd\n",
    "import requests"
   ]
  },
  {
   "cell_type": "code",
   "execution_count": 34,
   "id": "b10bb080",
   "metadata": {
    "scrolled": false
   },
   "outputs": [
    {
     "data": {
      "text/plain": [
       "{'get': 'history',\n",
       " 'parameters': {'country': 'usa', 'day': '2020-06-02'},\n",
       " 'errors': [],\n",
       " 'results': 0,\n",
       " 'response': []}"
      ]
     },
     "execution_count": 34,
     "metadata": {},
     "output_type": "execute_result"
    }
   ],
   "source": [
    "url = \"https://covid-193.p.rapidapi.com/history\"\n",
    "\n",
    "querystring = {\"country\":\"usa\",\"day\":\"2020-06-02\"}\n",
    "\n",
    "\n",
    "headers = {\n",
    "\t\"X-RapidAPI-Key\": \"3962ee71b2msh7d9b32ceebdf518p1cc1ecjsn39ede50fa90f\",\n",
    "\t\"X-RapidAPI-Host\": \"covid-193.p.rapidapi.com\"\n",
    "}\n",
    "\n",
    "response = requests.get(url, headers=headers,params=querystring)\n",
    "response.json()"
   ]
  },
  {
   "cell_type": "code",
   "execution_count": null,
   "id": "0c64f901",
   "metadata": {},
   "outputs": [],
   "source": []
  }
 ],
 "metadata": {
  "kernelspec": {
   "display_name": "Python 3 (ipykernel)",
   "language": "python",
   "name": "python3"
  },
  "language_info": {
   "codemirror_mode": {
    "name": "ipython",
    "version": 3
   },
   "file_extension": ".py",
   "mimetype": "text/x-python",
   "name": "python",
   "nbconvert_exporter": "python",
   "pygments_lexer": "ipython3",
   "version": "3.11.5"
  }
 },
 "nbformat": 4,
 "nbformat_minor": 5
}

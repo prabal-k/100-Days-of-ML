{
 "cells": [
  {
   "cell_type": "markdown",
   "id": "0f6f4a86",
   "metadata": {},
   "source": [
    "# what is JSON and sql\n",
    "\n",
    "### JSON is javascript on notation and is universal language data format.The data returned by API is in JSON format.\n",
    "### Sql -> data from database and loaded using pandas"
   ]
  },
  {
   "cell_type": "code",
   "execution_count": null,
   "id": "872098f1",
   "metadata": {},
   "outputs": [],
   "source": []
  },
  {
   "cell_type": "code",
   "execution_count": 1,
   "id": "66515679",
   "metadata": {},
   "outputs": [],
   "source": [
    "import pandas as pd"
   ]
  },
  {
   "cell_type": "markdown",
   "id": "bda2ad6b",
   "metadata": {},
   "source": [
    "# Working with JSON\n",
    "\n",
    "documentation link of read_json: https://pandas.pydata.org/pandas-docs/stable/reference/api/pandas.read_json.html"
   ]
  },
  {
   "cell_type": "code",
   "execution_count": 2,
   "id": "b2057b4d",
   "metadata": {},
   "outputs": [],
   "source": [
    "# converting JSON file to pandas dataframe"
   ]
  },
  {
   "cell_type": "code",
   "execution_count": 3,
   "id": "bcf01db1",
   "metadata": {},
   "outputs": [],
   "source": [
    "df=pd.read_json('https://raw.githubusercontent.com/campusx-official/100-days-of-machine-learning/main/day16%20-%20working-with-json-and-sql/train.json')"
   ]
  },
  {
   "cell_type": "code",
   "execution_count": 4,
   "id": "b7716de4",
   "metadata": {},
   "outputs": [
    {
     "name": "stdout",
     "output_type": "stream",
     "text": [
      "<class 'pandas.core.frame.DataFrame'>\n",
      "RangeIndex: 39774 entries, 0 to 39773\n",
      "Data columns (total 3 columns):\n",
      " #   Column       Non-Null Count  Dtype \n",
      "---  ------       --------------  ----- \n",
      " 0   id           39774 non-null  int64 \n",
      " 1   cuisine      39774 non-null  object\n",
      " 2   ingredients  39774 non-null  object\n",
      "dtypes: int64(1), object(2)\n",
      "memory usage: 932.3+ KB\n"
     ]
    }
   ],
   "source": [
    "df.info()"
   ]
  },
  {
   "cell_type": "markdown",
   "id": "c4430123",
   "metadata": {},
   "source": [
    "# Working with SQL\n",
    "\n",
    "documentation link of read_sql_query: https://pandas.pydata.org/pandas-docs/stable/reference/api/pandas.read_sql_query.html"
   ]
  },
  {
   "cell_type": "code",
   "execution_count": 5,
   "id": "2f599ca0",
   "metadata": {},
   "outputs": [],
   "source": [
    "# steps to import the data from sql : \n",
    "# 1. DOwnload the sql file \n",
    "# 2. Go to mysql workbench and go to Server and data import\n",
    "# 3. click on Import from self-contained file and choose the .sql file from the laptop\n",
    "# 4. click start import and once completed database will be created"
   ]
  },
  {
   "cell_type": "code",
   "execution_count": 6,
   "id": "e1ed95fc",
   "metadata": {},
   "outputs": [
    {
     "name": "stdout",
     "output_type": "stream",
     "text": [
      "Requirement already satisfied: mysql.connector in c:\\python anaconda setip 2.0\\lib\\site-packages (2.2.9)\n"
     ]
    }
   ],
   "source": [
    "!pip install mysql.connector"
   ]
  },
  {
   "cell_type": "code",
   "execution_count": 7,
   "id": "90169182",
   "metadata": {},
   "outputs": [],
   "source": [
    "import mysql.connector # Bridge between the mysql and python"
   ]
  },
  {
   "cell_type": "code",
   "execution_count": 19,
   "id": "f19b5246",
   "metadata": {},
   "outputs": [],
   "source": [
    "con=mysql.connector.connect(host='localhost',user='root',password='@prabal9869',database='subidhaghar',auth_plugin='mysql_native_password')"
   ]
  },
  {
   "cell_type": "code",
   "execution_count": 21,
   "id": "07166072",
   "metadata": {},
   "outputs": [
    {
     "name": "stderr",
     "output_type": "stream",
     "text": [
      "C:\\Users\\Prabal Kuinkel\\AppData\\Local\\Temp\\ipykernel_5532\\3910764760.py:1: UserWarning: pandas only supports SQLAlchemy connectable (engine/connection) or database string URI or sqlite3 DBAPI2 connection. Other DBAPI2 objects are not tested. Please consider using SQLAlchemy.\n",
      "  pd.read_sql_query('select * from categories',con)\n"
     ]
    },
    {
     "data": {
      "text/html": [
       "<div>\n",
       "<style scoped>\n",
       "    .dataframe tbody tr th:only-of-type {\n",
       "        vertical-align: middle;\n",
       "    }\n",
       "\n",
       "    .dataframe tbody tr th {\n",
       "        vertical-align: top;\n",
       "    }\n",
       "\n",
       "    .dataframe thead th {\n",
       "        text-align: right;\n",
       "    }\n",
       "</style>\n",
       "<table border=\"1\" class=\"dataframe\">\n",
       "  <thead>\n",
       "    <tr style=\"text-align: right;\">\n",
       "      <th></th>\n",
       "      <th>id</th>\n",
       "      <th>created_at</th>\n",
       "      <th>updated_at</th>\n",
       "      <th>name</th>\n",
       "      <th>description</th>\n",
       "    </tr>\n",
       "  </thead>\n",
       "  <tbody>\n",
       "    <tr>\n",
       "      <th>0</th>\n",
       "      <td>1</td>\n",
       "      <td>None</td>\n",
       "      <td>None</td>\n",
       "      <td>Tutor</td>\n",
       "      <td>Experienced educators providing personalized l...</td>\n",
       "    </tr>\n",
       "    <tr>\n",
       "      <th>1</th>\n",
       "      <td>2</td>\n",
       "      <td>None</td>\n",
       "      <td>None</td>\n",
       "      <td>Carpenter</td>\n",
       "      <td>Skilled craftsmen specializing in woodworking ...</td>\n",
       "    </tr>\n",
       "    <tr>\n",
       "      <th>2</th>\n",
       "      <td>3</td>\n",
       "      <td>None</td>\n",
       "      <td>None</td>\n",
       "      <td>Plumber</td>\n",
       "      <td>Professionals offering installation and repair...</td>\n",
       "    </tr>\n",
       "    <tr>\n",
       "      <th>3</th>\n",
       "      <td>4</td>\n",
       "      <td>None</td>\n",
       "      <td>None</td>\n",
       "      <td>Electrician</td>\n",
       "      <td>Trained technicians specializing in electrical...</td>\n",
       "    </tr>\n",
       "    <tr>\n",
       "      <th>4</th>\n",
       "      <td>5</td>\n",
       "      <td>None</td>\n",
       "      <td>None</td>\n",
       "      <td>Chef</td>\n",
       "      <td>Culinary experts creating delicious dishes and...</td>\n",
       "    </tr>\n",
       "    <tr>\n",
       "      <th>5</th>\n",
       "      <td>6</td>\n",
       "      <td>None</td>\n",
       "      <td>None</td>\n",
       "      <td>Painter</td>\n",
       "      <td>Artisans providing painting and decorating ser...</td>\n",
       "    </tr>\n",
       "    <tr>\n",
       "      <th>6</th>\n",
       "      <td>7</td>\n",
       "      <td>None</td>\n",
       "      <td>None</td>\n",
       "      <td>Mechanic</td>\n",
       "      <td>Skilled technicians offering repair and mainte...</td>\n",
       "    </tr>\n",
       "    <tr>\n",
       "      <th>7</th>\n",
       "      <td>8</td>\n",
       "      <td>None</td>\n",
       "      <td>None</td>\n",
       "      <td>Gardener</td>\n",
       "      <td>Experts in landscaping, gardening, and outdoor...</td>\n",
       "    </tr>\n",
       "    <tr>\n",
       "      <th>8</th>\n",
       "      <td>9</td>\n",
       "      <td>None</td>\n",
       "      <td>None</td>\n",
       "      <td>Designer</td>\n",
       "      <td>Creative professionals designing visual concep...</td>\n",
       "    </tr>\n",
       "    <tr>\n",
       "      <th>9</th>\n",
       "      <td>10</td>\n",
       "      <td>None</td>\n",
       "      <td>None</td>\n",
       "      <td>Consultant</td>\n",
       "      <td>Advisors offering expert advice and solutions ...</td>\n",
       "    </tr>\n",
       "  </tbody>\n",
       "</table>\n",
       "</div>"
      ],
      "text/plain": [
       "   id created_at updated_at         name  \\\n",
       "0   1       None       None        Tutor   \n",
       "1   2       None       None    Carpenter   \n",
       "2   3       None       None      Plumber   \n",
       "3   4       None       None  Electrician   \n",
       "4   5       None       None         Chef   \n",
       "5   6       None       None      Painter   \n",
       "6   7       None       None     Mechanic   \n",
       "7   8       None       None     Gardener   \n",
       "8   9       None       None     Designer   \n",
       "9  10       None       None   Consultant   \n",
       "\n",
       "                                         description  \n",
       "0  Experienced educators providing personalized l...  \n",
       "1  Skilled craftsmen specializing in woodworking ...  \n",
       "2  Professionals offering installation and repair...  \n",
       "3  Trained technicians specializing in electrical...  \n",
       "4  Culinary experts creating delicious dishes and...  \n",
       "5  Artisans providing painting and decorating ser...  \n",
       "6  Skilled technicians offering repair and mainte...  \n",
       "7  Experts in landscaping, gardening, and outdoor...  \n",
       "8  Creative professionals designing visual concep...  \n",
       "9  Advisors offering expert advice and solutions ...  "
      ]
     },
     "execution_count": 21,
     "metadata": {},
     "output_type": "execute_result"
    }
   ],
   "source": [
    "pd.read_sql_query('select * from categories',con)"
   ]
  }
 ],
 "metadata": {
  "kernelspec": {
   "display_name": "Python 3 (ipykernel)",
   "language": "python",
   "name": "python3"
  },
  "language_info": {
   "codemirror_mode": {
    "name": "ipython",
    "version": 3
   },
   "file_extension": ".py",
   "mimetype": "text/x-python",
   "name": "python",
   "nbconvert_exporter": "python",
   "pygments_lexer": "ipython3",
   "version": "3.11.5"
  }
 },
 "nbformat": 4,
 "nbformat_minor": 5
}

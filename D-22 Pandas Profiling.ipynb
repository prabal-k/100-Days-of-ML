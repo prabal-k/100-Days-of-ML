{
 "cells": [
  {
   "cell_type": "code",
   "execution_count": 1,
   "id": "1730fa2c",
   "metadata": {},
   "outputs": [],
   "source": [
    "import pandas as pd\n",
    "import seaborn as sns"
   ]
  },
  {
   "cell_type": "code",
   "execution_count": 2,
   "id": "15278dc7",
   "metadata": {},
   "outputs": [],
   "source": [
    "titanic = sns.load_dataset('titanic')"
   ]
  },
  {
   "cell_type": "code",
   "execution_count": 3,
   "id": "a142b8fd",
   "metadata": {},
   "outputs": [
    {
     "data": {
      "text/html": [
       "<div>\n",
       "<style scoped>\n",
       "    .dataframe tbody tr th:only-of-type {\n",
       "        vertical-align: middle;\n",
       "    }\n",
       "\n",
       "    .dataframe tbody tr th {\n",
       "        vertical-align: top;\n",
       "    }\n",
       "\n",
       "    .dataframe thead th {\n",
       "        text-align: right;\n",
       "    }\n",
       "</style>\n",
       "<table border=\"1\" class=\"dataframe\">\n",
       "  <thead>\n",
       "    <tr style=\"text-align: right;\">\n",
       "      <th></th>\n",
       "      <th>survived</th>\n",
       "      <th>pclass</th>\n",
       "      <th>sex</th>\n",
       "      <th>age</th>\n",
       "      <th>sibsp</th>\n",
       "      <th>parch</th>\n",
       "      <th>fare</th>\n",
       "      <th>embarked</th>\n",
       "      <th>class</th>\n",
       "      <th>who</th>\n",
       "      <th>adult_male</th>\n",
       "      <th>deck</th>\n",
       "      <th>embark_town</th>\n",
       "      <th>alive</th>\n",
       "      <th>alone</th>\n",
       "    </tr>\n",
       "  </thead>\n",
       "  <tbody>\n",
       "    <tr>\n",
       "      <th>468</th>\n",
       "      <td>0</td>\n",
       "      <td>3</td>\n",
       "      <td>male</td>\n",
       "      <td>NaN</td>\n",
       "      <td>0</td>\n",
       "      <td>0</td>\n",
       "      <td>7.7250</td>\n",
       "      <td>Q</td>\n",
       "      <td>Third</td>\n",
       "      <td>man</td>\n",
       "      <td>True</td>\n",
       "      <td>NaN</td>\n",
       "      <td>Queenstown</td>\n",
       "      <td>no</td>\n",
       "      <td>True</td>\n",
       "    </tr>\n",
       "    <tr>\n",
       "      <th>279</th>\n",
       "      <td>1</td>\n",
       "      <td>3</td>\n",
       "      <td>female</td>\n",
       "      <td>35.0</td>\n",
       "      <td>1</td>\n",
       "      <td>1</td>\n",
       "      <td>20.2500</td>\n",
       "      <td>S</td>\n",
       "      <td>Third</td>\n",
       "      <td>woman</td>\n",
       "      <td>False</td>\n",
       "      <td>NaN</td>\n",
       "      <td>Southampton</td>\n",
       "      <td>yes</td>\n",
       "      <td>False</td>\n",
       "    </tr>\n",
       "    <tr>\n",
       "      <th>270</th>\n",
       "      <td>0</td>\n",
       "      <td>1</td>\n",
       "      <td>male</td>\n",
       "      <td>NaN</td>\n",
       "      <td>0</td>\n",
       "      <td>0</td>\n",
       "      <td>31.0000</td>\n",
       "      <td>S</td>\n",
       "      <td>First</td>\n",
       "      <td>man</td>\n",
       "      <td>True</td>\n",
       "      <td>NaN</td>\n",
       "      <td>Southampton</td>\n",
       "      <td>no</td>\n",
       "      <td>True</td>\n",
       "    </tr>\n",
       "    <tr>\n",
       "      <th>146</th>\n",
       "      <td>1</td>\n",
       "      <td>3</td>\n",
       "      <td>male</td>\n",
       "      <td>27.0</td>\n",
       "      <td>0</td>\n",
       "      <td>0</td>\n",
       "      <td>7.7958</td>\n",
       "      <td>S</td>\n",
       "      <td>Third</td>\n",
       "      <td>man</td>\n",
       "      <td>True</td>\n",
       "      <td>NaN</td>\n",
       "      <td>Southampton</td>\n",
       "      <td>yes</td>\n",
       "      <td>True</td>\n",
       "    </tr>\n",
       "    <tr>\n",
       "      <th>819</th>\n",
       "      <td>0</td>\n",
       "      <td>3</td>\n",
       "      <td>male</td>\n",
       "      <td>10.0</td>\n",
       "      <td>3</td>\n",
       "      <td>2</td>\n",
       "      <td>27.9000</td>\n",
       "      <td>S</td>\n",
       "      <td>Third</td>\n",
       "      <td>child</td>\n",
       "      <td>False</td>\n",
       "      <td>NaN</td>\n",
       "      <td>Southampton</td>\n",
       "      <td>no</td>\n",
       "      <td>False</td>\n",
       "    </tr>\n",
       "  </tbody>\n",
       "</table>\n",
       "</div>"
      ],
      "text/plain": [
       "     survived  pclass     sex   age  sibsp  parch     fare embarked  class  \\\n",
       "468         0       3    male   NaN      0      0   7.7250        Q  Third   \n",
       "279         1       3  female  35.0      1      1  20.2500        S  Third   \n",
       "270         0       1    male   NaN      0      0  31.0000        S  First   \n",
       "146         1       3    male  27.0      0      0   7.7958        S  Third   \n",
       "819         0       3    male  10.0      3      2  27.9000        S  Third   \n",
       "\n",
       "       who  adult_male deck  embark_town alive  alone  \n",
       "468    man        True  NaN   Queenstown    no   True  \n",
       "279  woman       False  NaN  Southampton   yes  False  \n",
       "270    man        True  NaN  Southampton    no   True  \n",
       "146    man        True  NaN  Southampton   yes   True  \n",
       "819  child       False  NaN  Southampton    no  False  "
      ]
     },
     "execution_count": 3,
     "metadata": {},
     "output_type": "execute_result"
    }
   ],
   "source": [
    "titanic.sample(5)"
   ]
  },
  {
   "cell_type": "code",
   "execution_count": 4,
   "id": "217a1e9d",
   "metadata": {},
   "outputs": [
    {
     "name": "stdout",
     "output_type": "stream",
     "text": [
      "Defaulting to user installation because normal site-packages is not writeable\n",
      "Collecting ydata-profiling\n",
      "  Downloading ydata_profiling-4.12.0-py2.py3-none-any.whl.metadata (20 kB)\n",
      "Requirement already satisfied: scipy<1.14,>=1.4.1 in c:\\programdata\\anaconda3\\lib\\site-packages (from ydata-profiling) (1.13.1)\n",
      "Requirement already satisfied: pandas!=1.4.0,<3,>1.1 in c:\\users\\prabal kuinkel\\appdata\\roaming\\python\\python311\\site-packages (from ydata-profiling) (2.2.1)\n",
      "Requirement already satisfied: matplotlib<3.10,>=3.5 in c:\\programdata\\anaconda3\\lib\\site-packages (from ydata-profiling) (3.8.0)\n",
      "Collecting pydantic>=2 (from ydata-profiling)\n",
      "  Downloading pydantic-2.10.3-py3-none-any.whl.metadata (172 kB)\n",
      "     ---------------------------------------- 0.0/172.0 kB ? eta -:--:--\n",
      "     ------- -------------------------------- 30.7/172.0 kB ? eta -:--:--\n",
      "     -------------------- ------------------ 92.2/172.0 kB 1.1 MB/s eta 0:00:01\n",
      "     --------------------------- ---------- 122.9/172.0 kB 1.2 MB/s eta 0:00:01\n",
      "     -------------------------------------- 172.0/172.0 kB 1.1 MB/s eta 0:00:00\n",
      "Requirement already satisfied: PyYAML<6.1,>=5.0.0 in c:\\programdata\\anaconda3\\lib\\site-packages (from ydata-profiling) (6.0.1)\n",
      "Requirement already satisfied: jinja2<3.2,>=2.11.1 in c:\\programdata\\anaconda3\\lib\\site-packages (from ydata-profiling) (3.1.3)\n",
      "Collecting visions<0.7.7,>=0.7.5 (from visions[type_image_path]<0.7.7,>=0.7.5->ydata-profiling)\n",
      "  Using cached visions-0.7.6-py3-none-any.whl.metadata (11 kB)\n",
      "Requirement already satisfied: numpy<2.2,>=1.16.0 in c:\\users\\prabal kuinkel\\appdata\\roaming\\python\\python311\\site-packages (from ydata-profiling) (1.26.4)\n",
      "Collecting htmlmin==0.1.12 (from ydata-profiling)\n",
      "  Using cached htmlmin-0.1.12-py3-none-any.whl\n",
      "Collecting phik<0.13,>=0.11.1 (from ydata-profiling)\n",
      "  Using cached phik-0.12.4-cp311-cp311-win_amd64.whl.metadata (5.6 kB)\n",
      "Requirement already satisfied: requests<3,>=2.24.0 in c:\\users\\prabal kuinkel\\appdata\\roaming\\python\\python311\\site-packages (from ydata-profiling) (2.31.0)\n",
      "Requirement already satisfied: tqdm<5,>=4.48.2 in c:\\users\\prabal kuinkel\\appdata\\roaming\\python\\python311\\site-packages (from ydata-profiling) (4.66.4)\n",
      "Requirement already satisfied: seaborn<0.14,>=0.10.1 in c:\\programdata\\anaconda3\\lib\\site-packages (from ydata-profiling) (0.12.2)\n",
      "Collecting multimethod<2,>=1.4 (from ydata-profiling)\n",
      "  Downloading multimethod-1.12-py3-none-any.whl.metadata (9.6 kB)\n",
      "Requirement already satisfied: statsmodels<1,>=0.13.2 in c:\\programdata\\anaconda3\\lib\\site-packages (from ydata-profiling) (0.14.0)\n",
      "Collecting typeguard<5,>=3 (from ydata-profiling)\n",
      "  Downloading typeguard-4.4.1-py3-none-any.whl.metadata (3.7 kB)\n",
      "Collecting imagehash==4.3.1 (from ydata-profiling)\n",
      "  Using cached ImageHash-4.3.1-py2.py3-none-any.whl.metadata (8.0 kB)\n",
      "Collecting wordcloud>=1.9.3 (from ydata-profiling)\n",
      "  Downloading wordcloud-1.9.4-cp311-cp311-win_amd64.whl.metadata (3.5 kB)\n",
      "Collecting dacite>=1.8 (from ydata-profiling)\n",
      "  Using cached dacite-1.8.1-py3-none-any.whl.metadata (15 kB)\n",
      "Requirement already satisfied: numba<1,>=0.56.0 in c:\\programdata\\anaconda3\\lib\\site-packages (from ydata-profiling) (0.59.0)\n",
      "Requirement already satisfied: PyWavelets in c:\\programdata\\anaconda3\\lib\\site-packages (from imagehash==4.3.1->ydata-profiling) (1.5.0)\n",
      "Requirement already satisfied: pillow in c:\\programdata\\anaconda3\\lib\\site-packages (from imagehash==4.3.1->ydata-profiling) (10.2.0)\n",
      "Requirement already satisfied: MarkupSafe>=2.0 in c:\\users\\prabal kuinkel\\appdata\\roaming\\python\\python311\\site-packages (from jinja2<3.2,>=2.11.1->ydata-profiling) (2.1.5)\n",
      "Requirement already satisfied: contourpy>=1.0.1 in c:\\programdata\\anaconda3\\lib\\site-packages (from matplotlib<3.10,>=3.5->ydata-profiling) (1.2.0)\n",
      "Requirement already satisfied: cycler>=0.10 in c:\\programdata\\anaconda3\\lib\\site-packages (from matplotlib<3.10,>=3.5->ydata-profiling) (0.11.0)\n",
      "Requirement already satisfied: fonttools>=4.22.0 in c:\\programdata\\anaconda3\\lib\\site-packages (from matplotlib<3.10,>=3.5->ydata-profiling) (4.25.0)\n",
      "Requirement already satisfied: kiwisolver>=1.0.1 in c:\\programdata\\anaconda3\\lib\\site-packages (from matplotlib<3.10,>=3.5->ydata-profiling) (1.4.4)\n",
      "Requirement already satisfied: packaging>=20.0 in c:\\users\\prabal kuinkel\\appdata\\roaming\\python\\python311\\site-packages (from matplotlib<3.10,>=3.5->ydata-profiling) (23.2)\n",
      "Requirement already satisfied: pyparsing>=2.3.1 in c:\\programdata\\anaconda3\\lib\\site-packages (from matplotlib<3.10,>=3.5->ydata-profiling) (3.0.9)\n",
      "Requirement already satisfied: python-dateutil>=2.7 in c:\\users\\prabal kuinkel\\appdata\\roaming\\python\\python311\\site-packages (from matplotlib<3.10,>=3.5->ydata-profiling) (2.9.0.post0)\n",
      "Requirement already satisfied: llvmlite<0.43,>=0.42.0dev0 in c:\\programdata\\anaconda3\\lib\\site-packages (from numba<1,>=0.56.0->ydata-profiling) (0.42.0)\n",
      "Requirement already satisfied: pytz>=2020.1 in c:\\users\\prabal kuinkel\\appdata\\roaming\\python\\python311\\site-packages (from pandas!=1.4.0,<3,>1.1->ydata-profiling) (2024.1)\n",
      "Requirement already satisfied: tzdata>=2022.7 in c:\\users\\prabal kuinkel\\appdata\\roaming\\python\\python311\\site-packages (from pandas!=1.4.0,<3,>1.1->ydata-profiling) (2024.1)\n",
      "Requirement already satisfied: joblib>=0.14.1 in c:\\programdata\\anaconda3\\lib\\site-packages (from phik<0.13,>=0.11.1->ydata-profiling) (1.2.0)\n",
      "Collecting annotated-types>=0.6.0 (from pydantic>=2->ydata-profiling)\n",
      "  Using cached annotated_types-0.7.0-py3-none-any.whl.metadata (15 kB)\n",
      "Collecting pydantic-core==2.27.1 (from pydantic>=2->ydata-profiling)\n",
      "  Downloading pydantic_core-2.27.1-cp311-none-win_amd64.whl.metadata (6.7 kB)\n",
      "Collecting typing-extensions>=4.12.2 (from pydantic>=2->ydata-profiling)\n",
      "  Downloading typing_extensions-4.12.2-py3-none-any.whl.metadata (3.0 kB)\n",
      "Requirement already satisfied: charset-normalizer<4,>=2 in c:\\users\\prabal kuinkel\\appdata\\roaming\\python\\python311\\site-packages (from requests<3,>=2.24.0->ydata-profiling) (3.3.2)\n",
      "Requirement already satisfied: idna<4,>=2.5 in c:\\users\\prabal kuinkel\\appdata\\roaming\\python\\python311\\site-packages (from requests<3,>=2.24.0->ydata-profiling) (3.6)\n",
      "Requirement already satisfied: urllib3<3,>=1.21.1 in c:\\users\\prabal kuinkel\\appdata\\roaming\\python\\python311\\site-packages (from requests<3,>=2.24.0->ydata-profiling) (2.2.1)\n",
      "Requirement already satisfied: certifi>=2017.4.17 in c:\\programdata\\anaconda3\\lib\\site-packages (from requests<3,>=2.24.0->ydata-profiling) (2024.2.2)\n",
      "Requirement already satisfied: patsy>=0.5.2 in c:\\programdata\\anaconda3\\lib\\site-packages (from statsmodels<1,>=0.13.2->ydata-profiling) (0.5.3)\n",
      "Requirement already satisfied: colorama in c:\\programdata\\anaconda3\\lib\\site-packages (from tqdm<5,>=4.48.2->ydata-profiling) (0.4.6)\n",
      "Requirement already satisfied: attrs>=19.3.0 in c:\\users\\prabal kuinkel\\appdata\\roaming\\python\\python311\\site-packages (from visions<0.7.7,>=0.7.5->visions[type_image_path]<0.7.7,>=0.7.5->ydata-profiling) (23.2.0)\n",
      "Requirement already satisfied: networkx>=2.4 in c:\\programdata\\anaconda3\\lib\\site-packages (from visions<0.7.7,>=0.7.5->visions[type_image_path]<0.7.7,>=0.7.5->ydata-profiling) (3.1)\n",
      "Requirement already satisfied: six in c:\\programdata\\anaconda3\\lib\\site-packages (from patsy>=0.5.2->statsmodels<1,>=0.13.2->ydata-profiling) (1.16.0)\n",
      "Downloading ydata_profiling-4.12.0-py2.py3-none-any.whl (390 kB)\n",
      "   ---------------------------------------- 0.0/390.6 kB ? eta -:--:--\n",
      "   ----------- ---------------------------- 112.6/390.6 kB 2.2 MB/s eta 0:00:01\n",
      "   ------------------ --------------------- 184.3/390.6 kB 2.2 MB/s eta 0:00:01\n",
      "   ---------------------------- ----------- 276.5/390.6 kB 2.1 MB/s eta 0:00:01\n",
      "   -------------------------------------- - 378.9/390.6 kB 2.0 MB/s eta 0:00:01\n",
      "   ---------------------------------------- 390.6/390.6 kB 1.9 MB/s eta 0:00:00\n",
      "Using cached ImageHash-4.3.1-py2.py3-none-any.whl (296 kB)\n",
      "Using cached dacite-1.8.1-py3-none-any.whl (14 kB)\n",
      "Downloading multimethod-1.12-py3-none-any.whl (10 kB)\n",
      "Using cached phik-0.12.4-cp311-cp311-win_amd64.whl (667 kB)\n",
      "Downloading pydantic-2.10.3-py3-none-any.whl (456 kB)\n",
      "   ---------------------------------------- 0.0/457.0 kB ? eta -:--:--\n",
      "   ----- ---------------------------------- 61.4/457.0 kB 3.2 MB/s eta 0:00:01\n",
      "   ----- ---------------------------------- 61.4/457.0 kB 3.2 MB/s eta 0:00:01\n",
      "   ------------------------- -------------- 286.7/457.0 kB 2.2 MB/s eta 0:00:01\n",
      "   ------------------------------ --------- 348.2/457.0 kB 2.0 MB/s eta 0:00:01\n",
      "   ------------------------------------- -- 430.1/457.0 kB 1.9 MB/s eta 0:00:01\n",
      "   ---------------------------------------- 457.0/457.0 kB 1.7 MB/s eta 0:00:00\n",
      "Downloading pydantic_core-2.27.1-cp311-none-win_amd64.whl (2.0 MB)\n",
      "   ---------------------------------------- 0.0/2.0 MB ? eta -:--:--\n",
      "   - -------------------------------------- 0.1/2.0 MB 2.6 MB/s eta 0:00:01\n",
      "   --- ------------------------------------ 0.2/2.0 MB 1.8 MB/s eta 0:00:01\n",
      "   ---- ----------------------------------- 0.2/2.0 MB 1.7 MB/s eta 0:00:02\n",
      "   ------ --------------------------------- 0.3/2.0 MB 1.7 MB/s eta 0:00:01\n",
      "   ------- -------------------------------- 0.4/2.0 MB 1.7 MB/s eta 0:00:01\n",
      "   --------- ------------------------------ 0.5/2.0 MB 1.7 MB/s eta 0:00:01\n",
      "   ---------- ----------------------------- 0.5/2.0 MB 1.7 MB/s eta 0:00:01\n",
      "   ----------- ---------------------------- 0.6/2.0 MB 1.6 MB/s eta 0:00:01\n",
      "   ------------- -------------------------- 0.7/2.0 MB 1.6 MB/s eta 0:00:01\n",
      "   -------------- ------------------------- 0.7/2.0 MB 1.7 MB/s eta 0:00:01\n",
      "   ---------------- ----------------------- 0.8/2.0 MB 1.6 MB/s eta 0:00:01\n",
      "   ----------------- ---------------------- 0.9/2.0 MB 1.6 MB/s eta 0:00:01\n",
      "   ----------------- ---------------------- 0.9/2.0 MB 1.6 MB/s eta 0:00:01\n",
      "   ----------------- ---------------------- 0.9/2.0 MB 1.6 MB/s eta 0:00:01\n",
      "   --------------------- ------------------ 1.1/2.0 MB 1.5 MB/s eta 0:00:01\n",
      "   --------------------- ------------------ 1.1/2.0 MB 1.5 MB/s eta 0:00:01\n",
      "   --------------------- ------------------ 1.1/2.0 MB 1.5 MB/s eta 0:00:01\n",
      "   ----------------------- ---------------- 1.2/2.0 MB 1.4 MB/s eta 0:00:01\n",
      "   ------------------------ --------------- 1.2/2.0 MB 1.4 MB/s eta 0:00:01\n",
      "   ------------------------- -------------- 1.3/2.0 MB 1.4 MB/s eta 0:00:01\n",
      "   -------------------------- ------------- 1.3/2.0 MB 1.4 MB/s eta 0:00:01\n",
      "   --------------------------- ------------ 1.3/2.0 MB 1.3 MB/s eta 0:00:01\n",
      "   --------------------------- ------------ 1.3/2.0 MB 1.3 MB/s eta 0:00:01\n",
      "   --------------------------- ------------ 1.3/2.0 MB 1.3 MB/s eta 0:00:01\n",
      "   --------------------------- ------------ 1.3/2.0 MB 1.3 MB/s eta 0:00:01\n",
      "   --------------------------- ------------ 1.3/2.0 MB 1.3 MB/s eta 0:00:01\n",
      "   --------------------------- ------------ 1.3/2.0 MB 1.3 MB/s eta 0:00:01\n",
      "   --------------------------- ------------ 1.3/2.0 MB 1.3 MB/s eta 0:00:01\n",
      "   ---------------------------- ----------- 1.4/2.0 MB 1.1 MB/s eta 0:00:01\n",
      "   ----------------------------- ---------- 1.5/2.0 MB 1.1 MB/s eta 0:00:01\n",
      "   ----------------------------- ---------- 1.5/2.0 MB 1.0 MB/s eta 0:00:01\n",
      "   ------------------------------ --------- 1.5/2.0 MB 1.0 MB/s eta 0:00:01\n",
      "   ------------------------------- -------- 1.5/2.0 MB 1.0 MB/s eta 0:00:01\n",
      "   ------------------------------- -------- 1.6/2.0 MB 1.0 MB/s eta 0:00:01\n",
      "   -------------------------------- ------- 1.6/2.0 MB 995.7 kB/s eta 0:00:01\n",
      "   --------------------------------- ------ 1.6/2.0 MB 989.4 kB/s eta 0:00:01\n",
      "   --------------------------------- ------ 1.7/2.0 MB 976.7 kB/s eta 0:00:01\n",
      "   ---------------------------------- ----- 1.7/2.0 MB 967.9 kB/s eta 0:00:01\n",
      "   ---------------------------------- ----- 1.7/2.0 MB 965.9 kB/s eta 0:00:01\n",
      "   ----------------------------------- ---- 1.8/2.0 MB 957.9 kB/s eta 0:00:01\n",
      "   ------------------------------------ --- 1.8/2.0 MB 950.3 kB/s eta 0:00:01\n",
      "   ------------------------------------ --- 1.8/2.0 MB 943.0 kB/s eta 0:00:01\n",
      "   ------------------------------------- -- 1.9/2.0 MB 936.1 kB/s eta 0:00:01\n",
      "   -------------------------------------- - 1.9/2.0 MB 929.5 kB/s eta 0:00:01\n",
      "   -------------------------------------- - 1.9/2.0 MB 932.7 kB/s eta 0:00:01\n",
      "   -------------------------------------- - 1.9/2.0 MB 932.7 kB/s eta 0:00:01\n",
      "   ---------------------------------------  2.0/2.0 MB 918.3 kB/s eta 0:00:01\n",
      "   ---------------------------------------- 2.0/2.0 MB 900.6 kB/s eta 0:00:00\n",
      "Downloading typeguard-4.4.1-py3-none-any.whl (35 kB)\n",
      "Using cached visions-0.7.6-py3-none-any.whl (104 kB)\n",
      "Downloading wordcloud-1.9.4-cp311-cp311-win_amd64.whl (299 kB)\n",
      "   ---------------------------------------- 0.0/299.9 kB ? eta -:--:--\n",
      "   -- ------------------------------------- 20.5/299.9 kB ? eta -:--:--\n",
      "   ----- --------------------------------- 41.0/299.9 kB 991.0 kB/s eta 0:00:01\n",
      "   ------ -------------------------------- 51.2/299.9 kB 660.6 kB/s eta 0:00:01\n",
      "   ---------- ---------------------------- 81.9/299.9 kB 573.4 kB/s eta 0:00:01\n",
      "   ------------ ------------------------- 102.4/299.9 kB 590.8 kB/s eta 0:00:01\n",
      "   ---------------- --------------------- 133.1/299.9 kB 561.1 kB/s eta 0:00:01\n",
      "   ------------------- ------------------ 153.6/299.9 kB 573.4 kB/s eta 0:00:01\n",
      "   ----------------------- -------------- 184.3/299.9 kB 557.9 kB/s eta 0:00:01\n",
      "   --------------------------- ---------- 215.0/299.9 kB 570.5 kB/s eta 0:00:01\n",
      "   ----------------------------- -------- 235.5/299.9 kB 554.9 kB/s eta 0:00:01\n",
      "   ------------------------------- ------ 245.8/299.9 kB 538.9 kB/s eta 0:00:01\n",
      "   ------------------------------------ - 286.7/299.9 kB 553.0 kB/s eta 0:00:01\n",
      "   -------------------------------------- 299.9/299.9 kB 529.6 kB/s eta 0:00:00\n",
      "Using cached annotated_types-0.7.0-py3-none-any.whl (13 kB)\n",
      "Downloading typing_extensions-4.12.2-py3-none-any.whl (37 kB)\n",
      "Installing collected packages: htmlmin, typing-extensions, multimethod, dacite, annotated-types, typeguard, pydantic-core, imagehash, wordcloud, visions, pydantic, phik, ydata-profiling\n",
      "  Attempting uninstall: typing-extensions\n",
      "    Found existing installation: typing_extensions 4.10.0\n",
      "    Uninstalling typing_extensions-4.10.0:\n",
      "      Successfully uninstalled typing_extensions-4.10.0\n",
      "Successfully installed annotated-types-0.7.0 dacite-1.8.1 htmlmin-0.1.12 imagehash-4.3.1 multimethod-1.12 phik-0.12.4 pydantic-2.10.3 pydantic-core-2.27.1 typeguard-4.4.1 typing-extensions-4.12.2 visions-0.7.6 wordcloud-1.9.4 ydata-profiling-4.12.0\n"
     ]
    },
    {
     "name": "stderr",
     "output_type": "stream",
     "text": [
      "  WARNING: The script htmlmin.exe is installed in 'C:\\Users\\Prabal Kuinkel\\AppData\\Roaming\\Python\\Python311\\Scripts' which is not on PATH.\n",
      "  Consider adding this directory to PATH or, if you prefer to suppress this warning, use --no-warn-script-location.\n",
      "  WARNING: The script wordcloud_cli.exe is installed in 'C:\\Users\\Prabal Kuinkel\\AppData\\Roaming\\Python\\Python311\\Scripts' which is not on PATH.\n",
      "  Consider adding this directory to PATH or, if you prefer to suppress this warning, use --no-warn-script-location.\n",
      "  WARNING: The scripts pandas_profiling.exe and ydata_profiling.exe are installed in 'C:\\Users\\Prabal Kuinkel\\AppData\\Roaming\\Python\\Python311\\Scripts' which is not on PATH.\n",
      "  Consider adding this directory to PATH or, if you prefer to suppress this warning, use --no-warn-script-location.\n",
      "ERROR: pip's dependency resolver does not currently take into account all the packages that are installed. This behaviour is the source of the following dependency conflicts.\n",
      "anaconda-cloud-auth 0.1.4 requires pydantic<2.0, but you have pydantic 2.10.3 which is incompatible.\n"
     ]
    }
   ],
   "source": [
    "!pip install ydata-profiling"
   ]
  },
  {
   "cell_type": "code",
   "execution_count": 5,
   "id": "f0cbcf4a",
   "metadata": {},
   "outputs": [
    {
     "name": "stderr",
     "output_type": "stream",
     "text": [
      "C:\\Users\\Prabal Kuinkel\\AppData\\Local\\Temp\\ipykernel_2992\\3083239133.py:1: DeprecationWarning: `import pandas_profiling` is going to be deprecated by April 1st. Please use `import ydata_profiling` instead.\n",
      "  from pandas_profiling import ProfileReport\n"
     ]
    },
    {
     "data": {
      "application/vnd.jupyter.widget-view+json": {
       "model_id": "c9cd3eda3fcd423f9491956c24e13891",
       "version_major": 2,
       "version_minor": 0
      },
      "text/plain": [
       "Summarize dataset:   0%|          | 0/5 [00:00<?, ?it/s]"
      ]
     },
     "metadata": {},
     "output_type": "display_data"
    },
    {
     "name": "stderr",
     "output_type": "stream",
     "text": [
      "C:\\ProgramData\\anaconda3\\Lib\\site-packages\\seaborn\\matrix.py:260: FutureWarning: Format strings passed to MaskedConstant are ignored, but in future may error or produce different behavior\n",
      "  annotation = (\"{:\" + self.fmt + \"}\").format(val)\n",
      "C:\\Users\\Prabal Kuinkel\\AppData\\Roaming\\Python\\Python311\\site-packages\\ydata_profiling\\model\\missing.py:78: UserWarning: There was an attempt to generate the Heatmap missing values diagrams, but this failed.\n",
      "To hide this warning, disable the calculation\n",
      "(using `df.profile_report(missing_diagrams={\"Heatmap\": False}`)\n",
      "If this is problematic for your use case, please report this as an issue:\n",
      "https://github.com/ydataai/ydata-profiling/issues\n",
      "(include the error message: 'could not convert string to float: '--'')\n",
      "  warnings.warn(\n"
     ]
    },
    {
     "data": {
      "application/vnd.jupyter.widget-view+json": {
       "model_id": "0ded0b36aaf1475baf35a73fc6979d22",
       "version_major": 2,
       "version_minor": 0
      },
      "text/plain": [
       "Generate report structure:   0%|          | 0/1 [00:00<?, ?it/s]"
      ]
     },
     "metadata": {},
     "output_type": "display_data"
    },
    {
     "data": {
      "application/vnd.jupyter.widget-view+json": {
       "model_id": "598563d790804ece94b7640206785270",
       "version_major": 2,
       "version_minor": 0
      },
      "text/plain": [
       "Render HTML:   0%|          | 0/1 [00:00<?, ?it/s]"
      ]
     },
     "metadata": {},
     "output_type": "display_data"
    },
    {
     "data": {
      "application/vnd.jupyter.widget-view+json": {
       "model_id": "d33d86e0e5184e2497368bc36b8f10c7",
       "version_major": 2,
       "version_minor": 0
      },
      "text/plain": [
       "Export report to file:   0%|          | 0/1 [00:00<?, ?it/s]"
      ]
     },
     "metadata": {},
     "output_type": "display_data"
    }
   ],
   "source": [
    "from pandas_profiling import ProfileReport\n",
    "prof = ProfileReport(titanic)\n",
    "prof.to_file('titanicpandaprofiling.html')"
   ]
  },
  {
   "cell_type": "code",
   "execution_count": 6,
   "id": "30ce0150",
   "metadata": {},
   "outputs": [
    {
     "data": {
      "text/plain": [
       "<Axes: xlabel='pclass', ylabel='count'>"
      ]
     },
     "execution_count": 6,
     "metadata": {},
     "output_type": "execute_result"
    },
    {
     "data": {
      "image/png": "[encoded data removed]",
      "text/plain": [
       "<Figure size 640x480 with 1 Axes>"
      ]
     },
     "metadata": {},
     "output_type": "display_data"
    }
   ],
   "source": [
    "sns.countplot(data=titanic,x='pclass')"
   ]
  }
 ],
 "metadata": {
  "kernelspec": {
   "display_name": "Python 3 (ipykernel)",
   "language": "python",
   "name": "python3"
  },
  "language_info": {
   "codemirror_mode": {
    "name": "ipython",
    "version": 3
   },
   "file_extension": ".py",
   "mimetype": "text/x-python",
   "name": "python",
   "nbconvert_exporter": "python",
   "pygments_lexer": "ipython3",
   "version": "3.11.7"
  }
 },
 "nbformat": 4,
 "nbformat_minor": 5
}
